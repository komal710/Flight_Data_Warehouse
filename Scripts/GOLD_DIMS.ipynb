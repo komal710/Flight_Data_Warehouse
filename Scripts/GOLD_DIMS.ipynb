{
 "cells": [
  {
   "cell_type": "code",
   "execution_count": 0,
   "metadata": {
    "application/vnd.databricks.v1+cell": {
     "cellMetadata": {
      "byteLimit": 2048000,
      "rowLimit": 10000
     },
     "inputWidgets": {},
     "nuid": "85bd4b1f-6a72-4569-930e-3ef53d48df58",
     "showTitle": false,
     "tableResultSettingsMap": {},
     "title": ""
    }
   },
   "outputs": [],
   "source": [
    "from pyspark.sql.functions import * \n",
    "from pyspark.sql.types import *"
   ]
  },
  {
   "cell_type": "markdown",
   "metadata": {
    "application/vnd.databricks.v1+cell": {
     "cellMetadata": {
      "byteLimit": 2048000,
      "rowLimit": 10000
     },
     "inputWidgets": {},
     "nuid": "28a31305-ff38-4ba9-8686-8b01cbe9f8f9",
     "showTitle": false,
     "tableResultSettingsMap": {},
     "title": ""
    }
   },
   "source": [
    "### **Parameters**"
   ]
  },
  {
   "cell_type": "code",
   "execution_count": 0,
   "metadata": {
    "application/vnd.databricks.v1+cell": {
     "cellMetadata": {
      "byteLimit": 2048000,
      "rowLimit": 10000
     },
     "inputWidgets": {},
     "nuid": "ab31d087-9736-4833-9149-274489c62d30",
     "showTitle": false,
     "tableResultSettingsMap": {},
     "title": ""
    }
   },
   "outputs": [],
   "source": [
    "# # Catalog Name\n",
    "# catalog = \"workspace\"\n",
    "\n",
    "# # Key Cols List\n",
    "# key_cols = \"['flight_id']\"\n",
    "# key_cols_list = eval(key_cols)\n",
    "\n",
    "# # CDC Column\n",
    "# cdc_col = \"modifiedDate\"\n",
    "\n",
    "# # Backdated Refresh\n",
    "# backdated_refresh = \"\"\n",
    "\n",
    "# # Source Object\n",
    "# source_object = \"silver_flights\"\n",
    "\n",
    "# # Source Schema\n",
    "# source_schema = \"silver\"\n",
    "\n",
    "# # Target Schema \n",
    "# target_schema = \"gold\"\n",
    "\n",
    "# # Target Object \n",
    "# target_object = \"DimFlights\"\n",
    "\n",
    "# # Surrogate Key\n",
    "# surrogate_key = \"DimFlightsKey\"\n"
   ]
  },
  {
   "cell_type": "code",
   "execution_count": 0,
   "metadata": {
    "application/vnd.databricks.v1+cell": {
     "cellMetadata": {
      "byteLimit": 2048000,
      "rowLimit": 10000
     },
     "inputWidgets": {},
     "nuid": "d3901198-2b0a-4718-be27-22f513c228b4",
     "showTitle": false,
     "tableResultSettingsMap": {},
     "title": ""
    }
   },
   "outputs": [],
   "source": [
    "# # Catalog Name\n",
    "# catalog = \"workspace\"\n",
    "\n",
    "# # Key Cols List\n",
    "# key_cols = \"['airport_id']\"\n",
    "# key_cols_list = eval(key_cols)\n",
    "\n",
    "# # CDC Column\n",
    "# cdc_col = \"modifiedDate\"\n",
    "\n",
    "# # Backdated Refresh\n",
    "# backdated_refresh = \"\"\n",
    "\n",
    "# # Source Object\n",
    "# source_object = \"silver_airports\"\n",
    "\n",
    "# # Source Schema\n",
    "# source_schema = \"silver\"\n",
    "\n",
    "# # Target Schema \n",
    "# target_schema = \"gold\"\n",
    "\n",
    "# # Target Object \n",
    "# target_object = \"DimAirports\"\n",
    "\n",
    "# # Surrogate Key\n",
    "# surrogate_key = \"DimAirportsKey\"\n"
   ]
  },
  {
   "cell_type": "code",
   "execution_count": 0,
   "metadata": {
    "application/vnd.databricks.v1+cell": {
     "cellMetadata": {
      "byteLimit": 2048000,
      "rowLimit": 10000
     },
     "inputWidgets": {},
     "nuid": "bc4e5c37-287c-452f-bc51-4bccc90fdeb3",
     "showTitle": false,
     "tableResultSettingsMap": {},
     "title": ""
    }
   },
   "outputs": [],
   "source": [
    "# Catalog Name\n",
    "catalog = \"workspace\"\n",
    "\n",
    "# Key Cols List\n",
    "key_cols = \"['passenger_id']\"\n",
    "key_cols_list = eval(key_cols)\n",
    "\n",
    "# CDC Column\n",
    "cdc_col = \"modifiedDate\"\n",
    "\n",
    "# Backdated Refresh\n",
    "backdated_refresh = \"\"\n",
    "\n",
    "# Source Object\n",
    "source_object = \"silver_passengers\"\n",
    "\n",
    "# Source Schema\n",
    "source_schema = \"silver\"\n",
    "\n",
    "# Target Schema \n",
    "target_schema = \"gold\"\n",
    "\n",
    "# Target Object \n",
    "target_object = \"DimPassengers\"\n",
    "\n",
    "# Surrogate Key\n",
    "surrogate_key = \"DimPassengersKey\"\n"
   ]
  },
  {
   "cell_type": "markdown",
   "metadata": {
    "application/vnd.databricks.v1+cell": {
     "cellMetadata": {
      "byteLimit": 2048000,
      "rowLimit": 10000
     },
     "inputWidgets": {},
     "nuid": "14d786f5-b592-4dfa-acb0-110b41bee367",
     "showTitle": false,
     "tableResultSettingsMap": {},
     "title": ""
    }
   },
   "source": [
    "## **INCREMENTAL DATA INGESTION**"
   ]
  },
  {
   "cell_type": "markdown",
   "metadata": {
    "application/vnd.databricks.v1+cell": {
     "cellMetadata": {
      "byteLimit": 2048000,
      "rowLimit": 10000
     },
     "inputWidgets": {},
     "nuid": "d11fc2bf-2bab-4e35-a08c-d7beb62c4d61",
     "showTitle": false,
     "tableResultSettingsMap": {},
     "title": ""
    }
   },
   "source": [
    "#### **Last Load Date**"
   ]
  },
  {
   "cell_type": "code",
   "execution_count": 0,
   "metadata": {
    "application/vnd.databricks.v1+cell": {
     "cellMetadata": {
      "byteLimit": 2048000,
      "rowLimit": 10000
     },
     "inputWidgets": {},
     "nuid": "b54fc622-0026-4fd1-a62f-74b7709d5644",
     "showTitle": false,
     "tableResultSettingsMap": {},
     "title": ""
    }
   },
   "outputs": [
    {
     "output_type": "execute_result",
     "data": {
      "text/plain": [
       "datetime.datetime(2025, 6, 22, 23, 33, 29, 533000)"
      ]
     },
     "execution_count": 323,
     "metadata": {},
     "output_type": "execute_result"
    }
   ],
   "source": [
    "# No Back Dated Refresh\n",
    "if len(backdated_refresh) == 0:\n",
    "  \n",
    "  # If Table Exists In The Destination\n",
    "  if spark.catalog.tableExists(f\"{catalog}.{target_schema}.{target_object}\"):\n",
    "\n",
    "    last_load = spark.sql(f\"SELECT max({cdc_col}) FROM workspace.{target_schema}.{target_object}\").collect()[0][0]\n",
    "    \n",
    "  else:\n",
    "    last_load = \"1900-01-01 00:00:00\"\n",
    "\n",
    "# Yes Back Dated Refresh\n",
    "else:\n",
    "  last_load = backdated_refresh\n",
    "\n",
    "# Test The Last Load \n",
    "last_load"
   ]
  },
  {
   "cell_type": "code",
   "execution_count": 0,
   "metadata": {
    "application/vnd.databricks.v1+cell": {
     "cellMetadata": {
      "byteLimit": 2048000,
      "rowLimit": 10000
     },
     "inputWidgets": {},
     "nuid": "0e037ecb-7459-4005-a229-77c356bd882a",
     "showTitle": false,
     "tableResultSettingsMap": {},
     "title": ""
    }
   },
   "outputs": [],
   "source": [
    "df_src = spark.sql(f\"SELECT * FROM {source_schema}.{source_object} WHERE {cdc_col} > '{last_load}'\")"
   ]
  },
  {
   "cell_type": "code",
   "execution_count": 0,
   "metadata": {
    "application/vnd.databricks.v1+cell": {
     "cellMetadata": {
      "byteLimit": 2048000,
      "rowLimit": 10000
     },
     "inputWidgets": {},
     "nuid": "2439024c-bca5-4763-8d21-43e8989ec428",
     "showTitle": false,
     "tableResultSettingsMap": {},
     "title": ""
    }
   },
   "outputs": [
    {
     "output_type": "display_data",
     "data": {
      "text/html": [
       "<style scoped>\n",
       "  .table-result-container {\n",
       "    max-height: 300px;\n",
       "    overflow: auto;\n",
       "  }\n",
       "  table, th, td {\n",
       "    border: 1px solid black;\n",
       "    border-collapse: collapse;\n",
       "  }\n",
       "  th, td {\n",
       "    padding: 5px;\n",
       "  }\n",
       "  th {\n",
       "    text-align: left;\n",
       "  }\n",
       "</style><div class='table-result-container'><table class='table-result'><thead style='background-color: white'><tr><th>passenger_id</th><th>name</th><th>gender</th><th>nationality</th><th>modifiedDate</th></tr></thead><tbody><tr><td>P0223</td><td>Nicholas Gomez</td><td>Female</td><td>Cook Islands</td><td>2025-06-23T23:38:01.852Z</td></tr><tr><td>P0224</td><td>Jason Jensen</td><td>Female</td><td>Rwanda</td><td>2025-06-23T23:38:01.852Z</td></tr><tr><td>P0222</td><td>Maria Taylor</td><td>Male</td><td>Lao People's Democratic Republic</td><td>2025-06-23T23:38:01.852Z</td></tr><tr><td>P0225</td><td>William Lopez</td><td>Male</td><td>Heard Island and McDonald Islands</td><td>2025-06-23T23:38:01.852Z</td></tr><tr><td>P0221</td><td>Amy Welch</td><td>Male</td><td>Croatia</td><td>2025-06-23T23:38:01.852Z</td></tr><tr><td>P0032</td><td>Daniel Douglas</td><td>Male</td><td>Singapore</td><td>2025-06-23T23:38:01.852Z</td></tr><tr><td>P0106</td><td>Joshua Shepherd Jr.</td><td>Female</td><td>Netherlands</td><td>2025-06-23T23:38:01.852Z</td></tr><tr><td>P0108</td><td>Brian Anderson</td><td>Female</td><td>Eritrea</td><td>2025-06-23T23:38:01.852Z</td></tr><tr><td>P0154</td><td>Angel Thompson</td><td>Female</td><td>Gambia</td><td>2025-06-23T23:38:01.852Z</td></tr><tr><td>P0149</td><td>Katherine Bowen DVM</td><td>Male</td><td>Mexico</td><td>2025-06-23T23:38:01.852Z</td></tr><tr><td>P0155</td><td>Robert Singleton</td><td>Female</td><td>Northern Mariana Islands</td><td>2025-06-23T23:38:01.852Z</td></tr><tr><td>P0158</td><td>Jamie Mcneil</td><td>Male</td><td>Burundi</td><td>2025-06-23T23:38:01.852Z</td></tr><tr><td>P0196</td><td>Monica Dillon</td><td>Female</td><td>Belarus</td><td>2025-06-23T23:38:01.852Z</td></tr><tr><td>P0049</td><td>Justin Thomas</td><td>Female</td><td>Tokelau</td><td>2025-06-23T23:38:01.852Z</td></tr><tr><td>P0113</td><td>Brian Richardson</td><td>Male</td><td>Dominican Republic</td><td>2025-06-23T23:38:01.852Z</td></tr></tbody></table></div>"
      ]
     },
     "metadata": {
      "application/vnd.databricks.v1+output": {
       "addedWidgets": {},
       "aggData": [],
       "aggError": "",
       "aggOverflow": false,
       "aggSchema": [],
       "aggSeriesLimitReached": false,
       "aggType": "",
       "arguments": {},
       "columnCustomDisplayInfos": {},
       "data": [
        [
         "P0223",
         "Nicholas Gomez",
         "Female",
         "Cook Islands",
         "2025-06-23T23:38:01.852Z"
        ],
        [
         "P0224",
         "Jason Jensen",
         "Female",
         "Rwanda",
         "2025-06-23T23:38:01.852Z"
        ],
        [
         "P0222",
         "Maria Taylor",
         "Male",
         "Lao People's Democratic Republic",
         "2025-06-23T23:38:01.852Z"
        ],
        [
         "P0225",
         "William Lopez",
         "Male",
         "Heard Island and McDonald Islands",
         "2025-06-23T23:38:01.852Z"
        ],
        [
         "P0221",
         "Amy Welch",
         "Male",
         "Croatia",
         "2025-06-23T23:38:01.852Z"
        ],
        [
         "P0032",
         "Daniel Douglas",
         "Male",
         "Singapore",
         "2025-06-23T23:38:01.852Z"
        ],
        [
         "P0106",
         "Joshua Shepherd Jr.",
         "Female",
         "Netherlands",
         "2025-06-23T23:38:01.852Z"
        ],
        [
         "P0108",
         "Brian Anderson",
         "Female",
         "Eritrea",
         "2025-06-23T23:38:01.852Z"
        ],
        [
         "P0154",
         "Angel Thompson",
         "Female",
         "Gambia",
         "2025-06-23T23:38:01.852Z"
        ],
        [
         "P0149",
         "Katherine Bowen DVM",
         "Male",
         "Mexico",
         "2025-06-23T23:38:01.852Z"
        ],
        [
         "P0155",
         "Robert Singleton",
         "Female",
         "Northern Mariana Islands",
         "2025-06-23T23:38:01.852Z"
        ],
        [
         "P0158",
         "Jamie Mcneil",
         "Male",
         "Burundi",
         "2025-06-23T23:38:01.852Z"
        ],
        [
         "P0196",
         "Monica Dillon",
         "Female",
         "Belarus",
         "2025-06-23T23:38:01.852Z"
        ],
        [
         "P0049",
         "Justin Thomas",
         "Female",
         "Tokelau",
         "2025-06-23T23:38:01.852Z"
        ],
        [
         "P0113",
         "Brian Richardson",
         "Male",
         "Dominican Republic",
         "2025-06-23T23:38:01.852Z"
        ]
       ],
       "datasetInfos": [],
       "dbfsResultPath": null,
       "isJsonSchema": true,
       "metadata": {},
       "overflow": false,
       "plotOptions": {
        "customPlotOptions": {},
        "displayType": "table",
        "pivotAggregation": null,
        "pivotColumns": null,
        "xColumns": null,
        "yColumns": null
       },
       "removedWidgets": [],
       "schema": [
        {
         "metadata": "{}",
         "name": "passenger_id",
         "type": "\"string\""
        },
        {
         "metadata": "{}",
         "name": "name",
         "type": "\"string\""
        },
        {
         "metadata": "{}",
         "name": "gender",
         "type": "\"string\""
        },
        {
         "metadata": "{}",
         "name": "nationality",
         "type": "\"string\""
        },
        {
         "metadata": "{}",
         "name": "modifiedDate",
         "type": "\"timestamp\""
        }
       ],
       "type": "table"
      }
     },
     "output_type": "display_data"
    }
   ],
   "source": [
    "df_src.display()"
   ]
  },
  {
   "cell_type": "markdown",
   "metadata": {
    "application/vnd.databricks.v1+cell": {
     "cellMetadata": {
      "byteLimit": 2048000,
      "rowLimit": 10000
     },
     "inputWidgets": {},
     "nuid": "a00bd66b-de97-4ad8-baf4-74a86ed6b131",
     "showTitle": false,
     "tableResultSettingsMap": {},
     "title": ""
    }
   },
   "source": [
    "## OLD vs NEW RECORDS"
   ]
  },
  {
   "cell_type": "code",
   "execution_count": 0,
   "metadata": {
    "application/vnd.databricks.v1+cell": {
     "cellMetadata": {
      "byteLimit": 2048000,
      "rowLimit": 10000
     },
     "inputWidgets": {},
     "nuid": "7cb1c555-5dbe-4b08-ad19-7ef0091a7d9f",
     "showTitle": false,
     "tableResultSettingsMap": {},
     "title": ""
    }
   },
   "outputs": [],
   "source": [
    "if spark.catalog.tableExists(f\"{catalog}.{target_schema}.{target_object}\"): \n",
    "\n",
    "  # Key Columns String For Incremental\n",
    "  key_cols_string_incremental = \", \".join(key_cols_list)\n",
    "\n",
    "  df_trg = spark.sql(f\"\"\"SELECT {key_cols_string_incremental}, {surrogate_key}, create_date, update_date \n",
    "                      FROM {catalog}.{target_schema}.{target_object}\"\"\")\n",
    "\n",
    "\n",
    "else:\n",
    "\n",
    "  # Key Columns String For Initial\n",
    "  key_cols_string_init = [f\"'' AS {i}\" for i in key_cols_list]\n",
    "  key_cols_string_init = \", \".join(key_cols_string_init)\n",
    "  \n",
    "  df_trg = spark.sql(f\"\"\"SELECT {key_cols_string_init}, CAST('0' AS INT) AS {surrogate_key}, CAST('1900-01-01 00:00:00' AS timestamp) AS          create_date, CAST('1900-01-01 00:00:00' AS timestamp) AS update_date WHERE 1=0\"\"\")"
   ]
  },
  {
   "cell_type": "code",
   "execution_count": 0,
   "metadata": {
    "application/vnd.databricks.v1+cell": {
     "cellMetadata": {
      "byteLimit": 2048000,
      "rowLimit": 10000
     },
     "inputWidgets": {},
     "nuid": "1fd12c1d-c0cd-408b-a288-32377b711f9f",
     "showTitle": false,
     "tableResultSettingsMap": {},
     "title": ""
    }
   },
   "outputs": [
    {
     "output_type": "display_data",
     "data": {
      "text/html": [
       "<style scoped>\n",
       "  .table-result-container {\n",
       "    max-height: 300px;\n",
       "    overflow: auto;\n",
       "  }\n",
       "  table, th, td {\n",
       "    border: 1px solid black;\n",
       "    border-collapse: collapse;\n",
       "  }\n",
       "  th, td {\n",
       "    padding: 5px;\n",
       "  }\n",
       "  th {\n",
       "    text-align: left;\n",
       "  }\n",
       "</style><div class='table-result-container'><table class='table-result'><thead style='background-color: white'><tr><th>passenger_id</th><th>DimPassengersKey</th><th>create_date</th><th>update_date</th></tr></thead><tbody><tr><td>P0002</td><td>1</td><td>2025-06-23T23:30:44.248Z</td><td>2025-06-23T23:30:44.248Z</td></tr><tr><td>P0004</td><td>2</td><td>2025-06-23T23:30:44.248Z</td><td>2025-06-23T23:30:44.248Z</td></tr><tr><td>P0007</td><td>3</td><td>2025-06-23T23:30:44.248Z</td><td>2025-06-23T23:30:44.248Z</td></tr><tr><td>P0014</td><td>4</td><td>2025-06-23T23:30:44.248Z</td><td>2025-06-23T23:30:44.248Z</td></tr><tr><td>P0023</td><td>5</td><td>2025-06-23T23:30:44.248Z</td><td>2025-06-23T23:30:44.248Z</td></tr><tr><td>P0033</td><td>6</td><td>2025-06-23T23:30:44.248Z</td><td>2025-06-23T23:30:44.248Z</td></tr><tr><td>P0049</td><td>7</td><td>2025-06-23T23:30:44.248Z</td><td>2025-06-23T23:30:44.248Z</td></tr><tr><td>P0080</td><td>8</td><td>2025-06-23T23:30:44.248Z</td><td>2025-06-23T23:30:44.248Z</td></tr><tr><td>P0120</td><td>9</td><td>2025-06-23T23:30:44.248Z</td><td>2025-06-23T23:30:44.248Z</td></tr><tr><td>P0134</td><td>10</td><td>2025-06-23T23:30:44.248Z</td><td>2025-06-23T23:30:44.248Z</td></tr><tr><td>P0151</td><td>11</td><td>2025-06-23T23:30:44.248Z</td><td>2025-06-23T23:30:44.248Z</td></tr><tr><td>P0186</td><td>12</td><td>2025-06-23T23:30:44.248Z</td><td>2025-06-23T23:30:44.248Z</td></tr><tr><td>P0192</td><td>13</td><td>2025-06-23T23:30:44.248Z</td><td>2025-06-23T23:30:44.248Z</td></tr><tr><td>P0022</td><td>14</td><td>2025-06-23T23:30:44.248Z</td><td>2025-06-23T23:30:44.248Z</td></tr><tr><td>P0041</td><td>15</td><td>2025-06-23T23:30:44.248Z</td><td>2025-06-23T23:30:44.248Z</td></tr><tr><td>P0051</td><td>16</td><td>2025-06-23T23:30:44.248Z</td><td>2025-06-23T23:30:44.248Z</td></tr><tr><td>P0057</td><td>17</td><td>2025-06-23T23:30:44.248Z</td><td>2025-06-23T23:30:44.248Z</td></tr><tr><td>P0097</td><td>18</td><td>2025-06-23T23:30:44.248Z</td><td>2025-06-23T23:30:44.248Z</td></tr><tr><td>P0114</td><td>19</td><td>2025-06-23T23:30:44.248Z</td><td>2025-06-23T23:30:44.248Z</td></tr><tr><td>P0123</td><td>20</td><td>2025-06-23T23:30:44.248Z</td><td>2025-06-23T23:30:44.248Z</td></tr><tr><td>P0130</td><td>21</td><td>2025-06-23T23:30:44.248Z</td><td>2025-06-23T23:30:44.248Z</td></tr><tr><td>P0135</td><td>22</td><td>2025-06-23T23:30:44.248Z</td><td>2025-06-23T23:30:44.248Z</td></tr><tr><td>P0138</td><td>23</td><td>2025-06-23T23:30:44.248Z</td><td>2025-06-23T23:30:44.248Z</td></tr><tr><td>P0142</td><td>24</td><td>2025-06-23T23:30:44.248Z</td><td>2025-06-23T23:30:44.248Z</td></tr><tr><td>P0146</td><td>25</td><td>2025-06-23T23:30:44.248Z</td><td>2025-06-23T23:30:44.248Z</td></tr><tr><td>P0148</td><td>26</td><td>2025-06-23T23:30:44.248Z</td><td>2025-06-23T23:30:44.248Z</td></tr><tr><td>P0159</td><td>27</td><td>2025-06-23T23:30:44.248Z</td><td>2025-06-23T23:30:44.248Z</td></tr><tr><td>P0171</td><td>28</td><td>2025-06-23T23:30:44.248Z</td><td>2025-06-23T23:30:44.248Z</td></tr><tr><td>P0195</td><td>29</td><td>2025-06-23T23:30:44.248Z</td><td>2025-06-23T23:30:44.248Z</td></tr><tr><td>P0005</td><td>30</td><td>2025-06-23T23:30:44.248Z</td><td>2025-06-23T23:30:44.248Z</td></tr><tr><td>P0040</td><td>31</td><td>2025-06-23T23:30:44.248Z</td><td>2025-06-23T23:30:44.248Z</td></tr><tr><td>P0077</td><td>32</td><td>2025-06-23T23:30:44.248Z</td><td>2025-06-23T23:30:44.248Z</td></tr><tr><td>P0083</td><td>33</td><td>2025-06-23T23:30:44.248Z</td><td>2025-06-23T23:30:44.248Z</td></tr><tr><td>P0090</td><td>34</td><td>2025-06-23T23:30:44.248Z</td><td>2025-06-23T23:30:44.248Z</td></tr><tr><td>P0091</td><td>35</td><td>2025-06-23T23:30:44.248Z</td><td>2025-06-23T23:30:44.248Z</td></tr><tr><td>P0108</td><td>36</td><td>2025-06-23T23:30:44.248Z</td><td>2025-06-23T23:30:44.248Z</td></tr><tr><td>P0115</td><td>37</td><td>2025-06-23T23:30:44.248Z</td><td>2025-06-23T23:30:44.248Z</td></tr><tr><td>P0122</td><td>38</td><td>2025-06-23T23:30:44.248Z</td><td>2025-06-23T23:30:44.248Z</td></tr><tr><td>P0133</td><td>39</td><td>2025-06-23T23:30:44.248Z</td><td>2025-06-23T23:30:44.248Z</td></tr><tr><td>P0160</td><td>40</td><td>2025-06-23T23:30:44.248Z</td><td>2025-06-23T23:30:44.248Z</td></tr><tr><td>P0167</td><td>41</td><td>2025-06-23T23:30:44.248Z</td><td>2025-06-23T23:30:44.248Z</td></tr><tr><td>P0177</td><td>42</td><td>2025-06-23T23:30:44.248Z</td><td>2025-06-23T23:30:44.248Z</td></tr><tr><td>P0189</td><td>43</td><td>2025-06-23T23:30:44.248Z</td><td>2025-06-23T23:30:44.248Z</td></tr><tr><td>P0011</td><td>44</td><td>2025-06-23T23:30:44.248Z</td><td>2025-06-23T23:30:44.248Z</td></tr><tr><td>P0020</td><td>45</td><td>2025-06-23T23:30:44.248Z</td><td>2025-06-23T23:30:44.248Z</td></tr><tr><td>P0032</td><td>46</td><td>2025-06-23T23:30:44.248Z</td><td>2025-06-23T23:30:44.248Z</td></tr><tr><td>P0045</td><td>47</td><td>2025-06-23T23:30:44.248Z</td><td>2025-06-23T23:30:44.248Z</td></tr><tr><td>P0088</td><td>48</td><td>2025-06-23T23:30:44.248Z</td><td>2025-06-23T23:30:44.248Z</td></tr><tr><td>P0110</td><td>49</td><td>2025-06-23T23:30:44.248Z</td><td>2025-06-23T23:30:44.248Z</td></tr><tr><td>P0113</td><td>50</td><td>2025-06-23T23:30:44.248Z</td><td>2025-06-23T23:30:44.248Z</td></tr><tr><td>P0125</td><td>51</td><td>2025-06-23T23:30:44.248Z</td><td>2025-06-23T23:30:44.248Z</td></tr><tr><td>P0136</td><td>52</td><td>2025-06-23T23:30:44.248Z</td><td>2025-06-23T23:30:44.248Z</td></tr><tr><td>P0149</td><td>53</td><td>2025-06-23T23:30:44.248Z</td><td>2025-06-23T23:30:44.248Z</td></tr><tr><td>P0152</td><td>54</td><td>2025-06-23T23:30:44.248Z</td><td>2025-06-23T23:30:44.248Z</td></tr><tr><td>P0169</td><td>55</td><td>2025-06-23T23:30:44.248Z</td><td>2025-06-23T23:30:44.248Z</td></tr><tr><td>P0034</td><td>56</td><td>2025-06-23T23:30:44.248Z</td><td>2025-06-23T23:30:44.248Z</td></tr><tr><td>P0036</td><td>57</td><td>2025-06-23T23:30:44.248Z</td><td>2025-06-23T23:30:44.248Z</td></tr><tr><td>P0082</td><td>58</td><td>2025-06-23T23:30:44.248Z</td><td>2025-06-23T23:30:44.248Z</td></tr><tr><td>P0084</td><td>59</td><td>2025-06-23T23:30:44.248Z</td><td>2025-06-23T23:30:44.248Z</td></tr><tr><td>P0087</td><td>60</td><td>2025-06-23T23:30:44.248Z</td><td>2025-06-23T23:30:44.248Z</td></tr><tr><td>P0094</td><td>61</td><td>2025-06-23T23:30:44.248Z</td><td>2025-06-23T23:30:44.248Z</td></tr><tr><td>P0100</td><td>62</td><td>2025-06-23T23:30:44.248Z</td><td>2025-06-23T23:30:44.248Z</td></tr><tr><td>P0141</td><td>63</td><td>2025-06-23T23:30:44.248Z</td><td>2025-06-23T23:30:44.248Z</td></tr><tr><td>P0150</td><td>64</td><td>2025-06-23T23:30:44.248Z</td><td>2025-06-23T23:30:44.248Z</td></tr><tr><td>P0163</td><td>65</td><td>2025-06-23T23:30:44.248Z</td><td>2025-06-23T23:30:44.248Z</td></tr><tr><td>P0164</td><td>66</td><td>2025-06-23T23:30:44.248Z</td><td>2025-06-23T23:30:44.248Z</td></tr><tr><td>P0013</td><td>67</td><td>2025-06-23T23:30:44.248Z</td><td>2025-06-23T23:30:44.248Z</td></tr><tr><td>P0038</td><td>68</td><td>2025-06-23T23:30:44.248Z</td><td>2025-06-23T23:30:44.248Z</td></tr><tr><td>P0060</td><td>69</td><td>2025-06-23T23:30:44.248Z</td><td>2025-06-23T23:30:44.248Z</td></tr><tr><td>P0061</td><td>70</td><td>2025-06-23T23:30:44.248Z</td><td>2025-06-23T23:30:44.248Z</td></tr><tr><td>P0107</td><td>71</td><td>2025-06-23T23:30:44.248Z</td><td>2025-06-23T23:30:44.248Z</td></tr><tr><td>P0111</td><td>72</td><td>2025-06-23T23:30:44.248Z</td><td>2025-06-23T23:30:44.248Z</td></tr><tr><td>P0128</td><td>73</td><td>2025-06-23T23:30:44.248Z</td><td>2025-06-23T23:30:44.248Z</td></tr><tr><td>P0131</td><td>74</td><td>2025-06-23T23:30:44.248Z</td><td>2025-06-23T23:30:44.248Z</td></tr><tr><td>P0139</td><td>75</td><td>2025-06-23T23:30:44.248Z</td><td>2025-06-23T23:30:44.248Z</td></tr><tr><td>P0158</td><td>76</td><td>2025-06-23T23:30:44.248Z</td><td>2025-06-23T23:30:44.248Z</td></tr><tr><td>P0188</td><td>77</td><td>2025-06-23T23:30:44.248Z</td><td>2025-06-23T23:30:44.248Z</td></tr><tr><td>P0001</td><td>78</td><td>2025-06-23T23:30:44.248Z</td><td>2025-06-23T23:30:44.248Z</td></tr><tr><td>P0026</td><td>79</td><td>2025-06-23T23:30:44.248Z</td><td>2025-06-23T23:30:44.248Z</td></tr><tr><td>P0145</td><td>80</td><td>2025-06-23T23:30:44.248Z</td><td>2025-06-23T23:30:44.248Z</td></tr><tr><td>P0153</td><td>81</td><td>2025-06-23T23:30:44.248Z</td><td>2025-06-23T23:30:44.248Z</td></tr><tr><td>P0155</td><td>82</td><td>2025-06-23T23:30:44.248Z</td><td>2025-06-23T23:30:44.248Z</td></tr><tr><td>P0170</td><td>83</td><td>2025-06-23T23:30:44.248Z</td><td>2025-06-23T23:30:44.248Z</td></tr><tr><td>P0173</td><td>84</td><td>2025-06-23T23:30:44.248Z</td><td>2025-06-23T23:30:44.248Z</td></tr><tr><td>P0176</td><td>85</td><td>2025-06-23T23:30:44.248Z</td><td>2025-06-23T23:30:44.248Z</td></tr><tr><td>P0196</td><td>86</td><td>2025-06-23T23:30:44.248Z</td><td>2025-06-23T23:30:44.248Z</td></tr><tr><td>P0199</td><td>87</td><td>2025-06-23T23:30:44.248Z</td><td>2025-06-23T23:30:44.248Z</td></tr><tr><td>P0044</td><td>88</td><td>2025-06-23T23:30:44.248Z</td><td>2025-06-23T23:30:44.248Z</td></tr><tr><td>P0046</td><td>89</td><td>2025-06-23T23:30:44.248Z</td><td>2025-06-23T23:30:44.248Z</td></tr><tr><td>P0064</td><td>90</td><td>2025-06-23T23:30:44.248Z</td><td>2025-06-23T23:30:44.248Z</td></tr><tr><td>P0074</td><td>91</td><td>2025-06-23T23:30:44.248Z</td><td>2025-06-23T23:30:44.248Z</td></tr><tr><td>P0096</td><td>92</td><td>2025-06-23T23:30:44.248Z</td><td>2025-06-23T23:30:44.248Z</td></tr><tr><td>P0099</td><td>93</td><td>2025-06-23T23:30:44.248Z</td><td>2025-06-23T23:30:44.248Z</td></tr><tr><td>P0116</td><td>94</td><td>2025-06-23T23:30:44.248Z</td><td>2025-06-23T23:30:44.248Z</td></tr><tr><td>P0129</td><td>95</td><td>2025-06-23T23:30:44.248Z</td><td>2025-06-23T23:30:44.248Z</td></tr><tr><td>P0161</td><td>96</td><td>2025-06-23T23:30:44.248Z</td><td>2025-06-23T23:30:44.248Z</td></tr><tr><td>P0180</td><td>97</td><td>2025-06-23T23:30:44.248Z</td><td>2025-06-23T23:30:44.248Z</td></tr><tr><td>P0181</td><td>98</td><td>2025-06-23T23:30:44.248Z</td><td>2025-06-23T23:30:44.248Z</td></tr><tr><td>P0006</td><td>99</td><td>2025-06-23T23:30:44.248Z</td><td>2025-06-23T23:30:44.248Z</td></tr><tr><td>P0015</td><td>100</td><td>2025-06-23T23:30:44.248Z</td><td>2025-06-23T23:30:44.248Z</td></tr><tr><td>P0019</td><td>101</td><td>2025-06-23T23:30:44.248Z</td><td>2025-06-23T23:30:44.248Z</td></tr><tr><td>P0054</td><td>102</td><td>2025-06-23T23:30:44.248Z</td><td>2025-06-23T23:30:44.248Z</td></tr><tr><td>P0069</td><td>103</td><td>2025-06-23T23:30:44.248Z</td><td>2025-06-23T23:30:44.248Z</td></tr><tr><td>P0075</td><td>104</td><td>2025-06-23T23:30:44.248Z</td><td>2025-06-23T23:30:44.248Z</td></tr><tr><td>P0079</td><td>105</td><td>2025-06-23T23:30:44.248Z</td><td>2025-06-23T23:30:44.248Z</td></tr><tr><td>P0089</td><td>106</td><td>2025-06-23T23:30:44.248Z</td><td>2025-06-23T23:30:44.248Z</td></tr><tr><td>P0092</td><td>107</td><td>2025-06-23T23:30:44.248Z</td><td>2025-06-23T23:30:44.248Z</td></tr><tr><td>P0101</td><td>108</td><td>2025-06-23T23:30:44.248Z</td><td>2025-06-23T23:30:44.248Z</td></tr><tr><td>P0140</td><td>109</td><td>2025-06-23T23:30:44.248Z</td><td>2025-06-23T23:30:44.248Z</td></tr><tr><td>P0154</td><td>110</td><td>2025-06-23T23:30:44.248Z</td><td>2025-06-23T23:30:44.248Z</td></tr><tr><td>P0009</td><td>111</td><td>2025-06-23T23:30:44.248Z</td><td>2025-06-23T23:30:44.248Z</td></tr><tr><td>P0010</td><td>112</td><td>2025-06-23T23:30:44.248Z</td><td>2025-06-23T23:30:44.248Z</td></tr><tr><td>P0028</td><td>113</td><td>2025-06-23T23:30:44.248Z</td><td>2025-06-23T23:30:44.248Z</td></tr><tr><td>P0030</td><td>114</td><td>2025-06-23T23:30:44.248Z</td><td>2025-06-23T23:30:44.248Z</td></tr><tr><td>P0042</td><td>115</td><td>2025-06-23T23:30:44.248Z</td><td>2025-06-23T23:30:44.248Z</td></tr><tr><td>P0052</td><td>116</td><td>2025-06-23T23:30:44.248Z</td><td>2025-06-23T23:30:44.248Z</td></tr><tr><td>P0093</td><td>117</td><td>2025-06-23T23:30:44.248Z</td><td>2025-06-23T23:30:44.248Z</td></tr><tr><td>P0112</td><td>118</td><td>2025-06-23T23:30:44.248Z</td><td>2025-06-23T23:30:44.248Z</td></tr><tr><td>P0118</td><td>119</td><td>2025-06-23T23:30:44.248Z</td><td>2025-06-23T23:30:44.248Z</td></tr><tr><td>P0132</td><td>120</td><td>2025-06-23T23:30:44.248Z</td><td>2025-06-23T23:30:44.248Z</td></tr><tr><td>P0147</td><td>121</td><td>2025-06-23T23:30:44.248Z</td><td>2025-06-23T23:30:44.248Z</td></tr><tr><td>P0183</td><td>122</td><td>2025-06-23T23:30:44.248Z</td><td>2025-06-23T23:30:44.248Z</td></tr><tr><td>P0185</td><td>123</td><td>2025-06-23T23:30:44.248Z</td><td>2025-06-23T23:30:44.248Z</td></tr><tr><td>P0190</td><td>124</td><td>2025-06-23T23:30:44.248Z</td><td>2025-06-23T23:30:44.248Z</td></tr><tr><td>P0008</td><td>125</td><td>2025-06-23T23:30:44.248Z</td><td>2025-06-23T23:30:44.248Z</td></tr><tr><td>P0027</td><td>126</td><td>2025-06-23T23:30:44.248Z</td><td>2025-06-23T23:30:44.248Z</td></tr><tr><td>P0031</td><td>127</td><td>2025-06-23T23:30:44.248Z</td><td>2025-06-23T23:30:44.248Z</td></tr><tr><td>P0048</td><td>128</td><td>2025-06-23T23:30:44.248Z</td><td>2025-06-23T23:30:44.248Z</td></tr><tr><td>P0056</td><td>129</td><td>2025-06-23T23:30:44.248Z</td><td>2025-06-23T23:30:44.248Z</td></tr><tr><td>P0062</td><td>130</td><td>2025-06-23T23:30:44.248Z</td><td>2025-06-23T23:30:44.248Z</td></tr><tr><td>P0063</td><td>131</td><td>2025-06-23T23:30:44.248Z</td><td>2025-06-23T23:30:44.248Z</td></tr><tr><td>P0065</td><td>132</td><td>2025-06-23T23:30:44.248Z</td><td>2025-06-23T23:30:44.248Z</td></tr><tr><td>P0078</td><td>133</td><td>2025-06-23T23:30:44.248Z</td><td>2025-06-23T23:30:44.248Z</td></tr><tr><td>P0095</td><td>134</td><td>2025-06-23T23:30:44.248Z</td><td>2025-06-23T23:30:44.248Z</td></tr><tr><td>P0126</td><td>135</td><td>2025-06-23T23:30:44.248Z</td><td>2025-06-23T23:30:44.248Z</td></tr><tr><td>P0162</td><td>136</td><td>2025-06-23T23:30:44.248Z</td><td>2025-06-23T23:30:44.248Z</td></tr><tr><td>P0017</td><td>137</td><td>2025-06-23T23:30:44.248Z</td><td>2025-06-23T23:30:44.248Z</td></tr><tr><td>P0029</td><td>138</td><td>2025-06-23T23:30:44.248Z</td><td>2025-06-23T23:30:44.248Z</td></tr><tr><td>P0039</td><td>139</td><td>2025-06-23T23:30:44.248Z</td><td>2025-06-23T23:30:44.248Z</td></tr><tr><td>P0059</td><td>140</td><td>2025-06-23T23:30:44.248Z</td><td>2025-06-23T23:30:44.248Z</td></tr><tr><td>P0068</td><td>141</td><td>2025-06-23T23:30:44.248Z</td><td>2025-06-23T23:30:44.248Z</td></tr><tr><td>P0086</td><td>142</td><td>2025-06-23T23:30:44.248Z</td><td>2025-06-23T23:30:44.248Z</td></tr><tr><td>P0144</td><td>143</td><td>2025-06-23T23:30:44.248Z</td><td>2025-06-23T23:30:44.248Z</td></tr><tr><td>P0165</td><td>144</td><td>2025-06-23T23:30:44.248Z</td><td>2025-06-23T23:30:44.248Z</td></tr><tr><td>P0168</td><td>145</td><td>2025-06-23T23:30:44.248Z</td><td>2025-06-23T23:30:44.248Z</td></tr><tr><td>P0197</td><td>146</td><td>2025-06-23T23:30:44.248Z</td><td>2025-06-23T23:30:44.248Z</td></tr><tr><td>P0025</td><td>147</td><td>2025-06-23T23:30:44.248Z</td><td>2025-06-23T23:30:44.248Z</td></tr><tr><td>P0050</td><td>148</td><td>2025-06-23T23:30:44.248Z</td><td>2025-06-23T23:30:44.248Z</td></tr><tr><td>P0055</td><td>149</td><td>2025-06-23T23:30:44.248Z</td><td>2025-06-23T23:30:44.248Z</td></tr><tr><td>P0067</td><td>150</td><td>2025-06-23T23:30:44.248Z</td><td>2025-06-23T23:30:44.248Z</td></tr><tr><td>P0070</td><td>151</td><td>2025-06-23T23:30:44.248Z</td><td>2025-06-23T23:30:44.248Z</td></tr><tr><td>P0098</td><td>152</td><td>2025-06-23T23:30:44.248Z</td><td>2025-06-23T23:30:44.248Z</td></tr><tr><td>P0109</td><td>153</td><td>2025-06-23T23:30:44.248Z</td><td>2025-06-23T23:30:44.248Z</td></tr><tr><td>P0127</td><td>154</td><td>2025-06-23T23:30:44.248Z</td><td>2025-06-23T23:30:44.248Z</td></tr><tr><td>P0143</td><td>155</td><td>2025-06-23T23:30:44.248Z</td><td>2025-06-23T23:30:44.248Z</td></tr><tr><td>P0175</td><td>156</td><td>2025-06-23T23:30:44.248Z</td><td>2025-06-23T23:30:44.248Z</td></tr><tr><td>P0184</td><td>157</td><td>2025-06-23T23:30:44.248Z</td><td>2025-06-23T23:30:44.248Z</td></tr><tr><td>P0187</td><td>158</td><td>2025-06-23T23:30:44.248Z</td><td>2025-06-23T23:30:44.248Z</td></tr><tr><td>P0037</td><td>159</td><td>2025-06-23T23:30:44.248Z</td><td>2025-06-23T23:30:44.248Z</td></tr><tr><td>P0043</td><td>160</td><td>2025-06-23T23:30:44.248Z</td><td>2025-06-23T23:30:44.248Z</td></tr><tr><td>P0102</td><td>161</td><td>2025-06-23T23:30:44.248Z</td><td>2025-06-23T23:30:44.248Z</td></tr><tr><td>P0105</td><td>162</td><td>2025-06-23T23:30:44.248Z</td><td>2025-06-23T23:30:44.248Z</td></tr><tr><td>P0117</td><td>163</td><td>2025-06-23T23:30:44.248Z</td><td>2025-06-23T23:30:44.248Z</td></tr><tr><td>P0121</td><td>164</td><td>2025-06-23T23:30:44.248Z</td><td>2025-06-23T23:30:44.248Z</td></tr><tr><td>P0124</td><td>165</td><td>2025-06-23T23:30:44.248Z</td><td>2025-06-23T23:30:44.248Z</td></tr><tr><td>P0137</td><td>166</td><td>2025-06-23T23:30:44.248Z</td><td>2025-06-23T23:30:44.248Z</td></tr><tr><td>P0156</td><td>167</td><td>2025-06-23T23:30:44.248Z</td><td>2025-06-23T23:30:44.248Z</td></tr><tr><td>P0157</td><td>168</td><td>2025-06-23T23:30:44.248Z</td><td>2025-06-23T23:30:44.248Z</td></tr><tr><td>P0179</td><td>169</td><td>2025-06-23T23:30:44.248Z</td><td>2025-06-23T23:30:44.248Z</td></tr><tr><td>P0182</td><td>170</td><td>2025-06-23T23:30:44.248Z</td><td>2025-06-23T23:30:44.248Z</td></tr><tr><td>P0193</td><td>171</td><td>2025-06-23T23:30:44.248Z</td><td>2025-06-23T23:30:44.248Z</td></tr><tr><td>P0200</td><td>172</td><td>2025-06-23T23:30:44.248Z</td><td>2025-06-23T23:30:44.248Z</td></tr><tr><td>P0016</td><td>173</td><td>2025-06-23T23:30:44.248Z</td><td>2025-06-23T23:30:44.248Z</td></tr><tr><td>P0024</td><td>174</td><td>2025-06-23T23:30:44.248Z</td><td>2025-06-23T23:30:44.248Z</td></tr><tr><td>P0047</td><td>175</td><td>2025-06-23T23:30:44.248Z</td><td>2025-06-23T23:30:44.248Z</td></tr><tr><td>P0053</td><td>176</td><td>2025-06-23T23:30:44.248Z</td><td>2025-06-23T23:30:44.248Z</td></tr><tr><td>P0076</td><td>177</td><td>2025-06-23T23:30:44.248Z</td><td>2025-06-23T23:30:44.248Z</td></tr><tr><td>P0172</td><td>178</td><td>2025-06-23T23:30:44.248Z</td><td>2025-06-23T23:30:44.248Z</td></tr><tr><td>P0174</td><td>179</td><td>2025-06-23T23:30:44.248Z</td><td>2025-06-23T23:30:44.248Z</td></tr><tr><td>P0178</td><td>180</td><td>2025-06-23T23:30:44.248Z</td><td>2025-06-23T23:30:44.248Z</td></tr><tr><td>P0194</td><td>181</td><td>2025-06-23T23:30:44.248Z</td><td>2025-06-23T23:30:44.248Z</td></tr><tr><td>P0198</td><td>182</td><td>2025-06-23T23:30:44.248Z</td><td>2025-06-23T23:30:44.248Z</td></tr><tr><td>P0003</td><td>183</td><td>2025-06-23T23:30:44.248Z</td><td>2025-06-23T23:30:44.248Z</td></tr><tr><td>P0012</td><td>184</td><td>2025-06-23T23:30:44.248Z</td><td>2025-06-23T23:30:44.248Z</td></tr><tr><td>P0018</td><td>185</td><td>2025-06-23T23:30:44.248Z</td><td>2025-06-23T23:30:44.248Z</td></tr><tr><td>P0021</td><td>186</td><td>2025-06-23T23:30:44.248Z</td><td>2025-06-23T23:30:44.248Z</td></tr><tr><td>P0035</td><td>187</td><td>2025-06-23T23:30:44.248Z</td><td>2025-06-23T23:30:44.248Z</td></tr><tr><td>P0058</td><td>188</td><td>2025-06-23T23:30:44.248Z</td><td>2025-06-23T23:30:44.248Z</td></tr><tr><td>P0066</td><td>189</td><td>2025-06-23T23:30:44.248Z</td><td>2025-06-23T23:30:44.248Z</td></tr><tr><td>P0071</td><td>190</td><td>2025-06-23T23:30:44.248Z</td><td>2025-06-23T23:30:44.248Z</td></tr><tr><td>P0072</td><td>191</td><td>2025-06-23T23:30:44.248Z</td><td>2025-06-23T23:30:44.248Z</td></tr><tr><td>P0073</td><td>192</td><td>2025-06-23T23:30:44.248Z</td><td>2025-06-23T23:30:44.248Z</td></tr><tr><td>P0081</td><td>193</td><td>2025-06-23T23:30:44.248Z</td><td>2025-06-23T23:30:44.248Z</td></tr><tr><td>P0085</td><td>194</td><td>2025-06-23T23:30:44.248Z</td><td>2025-06-23T23:30:44.248Z</td></tr><tr><td>P0103</td><td>195</td><td>2025-06-23T23:30:44.248Z</td><td>2025-06-23T23:30:44.248Z</td></tr><tr><td>P0104</td><td>196</td><td>2025-06-23T23:30:44.248Z</td><td>2025-06-23T23:30:44.248Z</td></tr><tr><td>P0106</td><td>197</td><td>2025-06-23T23:30:44.248Z</td><td>2025-06-23T23:30:44.248Z</td></tr><tr><td>P0119</td><td>198</td><td>2025-06-23T23:30:44.248Z</td><td>2025-06-23T23:30:44.248Z</td></tr><tr><td>P0166</td><td>199</td><td>2025-06-23T23:30:44.248Z</td><td>2025-06-23T23:30:44.248Z</td></tr><tr><td>P0191</td><td>200</td><td>2025-06-23T23:30:44.248Z</td><td>2025-06-23T23:30:44.248Z</td></tr><tr><td>P0206</td><td>201</td><td>2025-06-23T23:30:44.248Z</td><td>2025-06-23T23:30:44.248Z</td></tr><tr><td>P0211</td><td>202</td><td>2025-06-23T23:30:44.248Z</td><td>2025-06-23T23:30:44.248Z</td></tr><tr><td>P0212</td><td>203</td><td>2025-06-23T23:30:44.248Z</td><td>2025-06-23T23:30:44.248Z</td></tr><tr><td>P0216</td><td>204</td><td>2025-06-23T23:30:44.248Z</td><td>2025-06-23T23:30:44.248Z</td></tr><tr><td>P0209</td><td>205</td><td>2025-06-23T23:30:44.248Z</td><td>2025-06-23T23:30:44.248Z</td></tr><tr><td>P0220</td><td>206</td><td>2025-06-23T23:30:44.248Z</td><td>2025-06-23T23:30:44.248Z</td></tr><tr><td>P0215</td><td>207</td><td>2025-06-23T23:30:44.248Z</td><td>2025-06-23T23:30:44.248Z</td></tr><tr><td>P0219</td><td>208</td><td>2025-06-23T23:30:44.248Z</td><td>2025-06-23T23:30:44.248Z</td></tr><tr><td>P0201</td><td>209</td><td>2025-06-23T23:30:44.248Z</td><td>2025-06-23T23:30:44.248Z</td></tr><tr><td>P0207</td><td>210</td><td>2025-06-23T23:30:44.248Z</td><td>2025-06-23T23:30:44.248Z</td></tr><tr><td>P0214</td><td>211</td><td>2025-06-23T23:30:44.248Z</td><td>2025-06-23T23:30:44.248Z</td></tr><tr><td>P0218</td><td>212</td><td>2025-06-23T23:30:44.248Z</td><td>2025-06-23T23:30:44.248Z</td></tr><tr><td>P0202</td><td>213</td><td>2025-06-23T23:30:44.248Z</td><td>2025-06-23T23:30:44.248Z</td></tr><tr><td>P0205</td><td>214</td><td>2025-06-23T23:30:44.248Z</td><td>2025-06-23T23:30:44.248Z</td></tr><tr><td>P0210</td><td>215</td><td>2025-06-23T23:30:44.248Z</td><td>2025-06-23T23:30:44.248Z</td></tr><tr><td>P0203</td><td>216</td><td>2025-06-23T23:30:44.248Z</td><td>2025-06-23T23:30:44.248Z</td></tr><tr><td>P0213</td><td>217</td><td>2025-06-23T23:30:44.248Z</td><td>2025-06-23T23:30:44.248Z</td></tr><tr><td>P0217</td><td>218</td><td>2025-06-23T23:30:44.248Z</td><td>2025-06-23T23:30:44.248Z</td></tr><tr><td>P0208</td><td>219</td><td>2025-06-23T23:30:44.248Z</td><td>2025-06-23T23:30:44.248Z</td></tr><tr><td>P0204</td><td>220</td><td>2025-06-23T23:30:44.248Z</td><td>2025-06-23T23:30:44.248Z</td></tr></tbody></table></div>"
      ]
     },
     "metadata": {
      "application/vnd.databricks.v1+output": {
       "addedWidgets": {},
       "aggData": [],
       "aggError": "",
       "aggOverflow": false,
       "aggSchema": [],
       "aggSeriesLimitReached": false,
       "aggType": "",
       "arguments": {},
       "columnCustomDisplayInfos": {},
       "data": [
        [
         "P0002",
         1,
         "2025-06-23T23:30:44.248Z",
         "2025-06-23T23:30:44.248Z"
        ],
        [
         "P0004",
         2,
         "2025-06-23T23:30:44.248Z",
         "2025-06-23T23:30:44.248Z"
        ],
        [
         "P0007",
         3,
         "2025-06-23T23:30:44.248Z",
         "2025-06-23T23:30:44.248Z"
        ],
        [
         "P0014",
         4,
         "2025-06-23T23:30:44.248Z",
         "2025-06-23T23:30:44.248Z"
        ],
        [
         "P0023",
         5,
         "2025-06-23T23:30:44.248Z",
         "2025-06-23T23:30:44.248Z"
        ],
        [
         "P0033",
         6,
         "2025-06-23T23:30:44.248Z",
         "2025-06-23T23:30:44.248Z"
        ],
        [
         "P0049",
         7,
         "2025-06-23T23:30:44.248Z",
         "2025-06-23T23:30:44.248Z"
        ],
        [
         "P0080",
         8,
         "2025-06-23T23:30:44.248Z",
         "2025-06-23T23:30:44.248Z"
        ],
        [
         "P0120",
         9,
         "2025-06-23T23:30:44.248Z",
         "2025-06-23T23:30:44.248Z"
        ],
        [
         "P0134",
         10,
         "2025-06-23T23:30:44.248Z",
         "2025-06-23T23:30:44.248Z"
        ],
        [
         "P0151",
         11,
         "2025-06-23T23:30:44.248Z",
         "2025-06-23T23:30:44.248Z"
        ],
        [
         "P0186",
         12,
         "2025-06-23T23:30:44.248Z",
         "2025-06-23T23:30:44.248Z"
        ],
        [
         "P0192",
         13,
         "2025-06-23T23:30:44.248Z",
         "2025-06-23T23:30:44.248Z"
        ],
        [
         "P0022",
         14,
         "2025-06-23T23:30:44.248Z",
         "2025-06-23T23:30:44.248Z"
        ],
        [
         "P0041",
         15,
         "2025-06-23T23:30:44.248Z",
         "2025-06-23T23:30:44.248Z"
        ],
        [
         "P0051",
         16,
         "2025-06-23T23:30:44.248Z",
         "2025-06-23T23:30:44.248Z"
        ],
        [
         "P0057",
         17,
         "2025-06-23T23:30:44.248Z",
         "2025-06-23T23:30:44.248Z"
        ],
        [
         "P0097",
         18,
         "2025-06-23T23:30:44.248Z",
         "2025-06-23T23:30:44.248Z"
        ],
        [
         "P0114",
         19,
         "2025-06-23T23:30:44.248Z",
         "2025-06-23T23:30:44.248Z"
        ],
        [
         "P0123",
         20,
         "2025-06-23T23:30:44.248Z",
         "2025-06-23T23:30:44.248Z"
        ],
        [
         "P0130",
         21,
         "2025-06-23T23:30:44.248Z",
         "2025-06-23T23:30:44.248Z"
        ],
        [
         "P0135",
         22,
         "2025-06-23T23:30:44.248Z",
         "2025-06-23T23:30:44.248Z"
        ],
        [
         "P0138",
         23,
         "2025-06-23T23:30:44.248Z",
         "2025-06-23T23:30:44.248Z"
        ],
        [
         "P0142",
         24,
         "2025-06-23T23:30:44.248Z",
         "2025-06-23T23:30:44.248Z"
        ],
        [
         "P0146",
         25,
         "2025-06-23T23:30:44.248Z",
         "2025-06-23T23:30:44.248Z"
        ],
        [
         "P0148",
         26,
         "2025-06-23T23:30:44.248Z",
         "2025-06-23T23:30:44.248Z"
        ],
        [
         "P0159",
         27,
         "2025-06-23T23:30:44.248Z",
         "2025-06-23T23:30:44.248Z"
        ],
        [
         "P0171",
         28,
         "2025-06-23T23:30:44.248Z",
         "2025-06-23T23:30:44.248Z"
        ],
        [
         "P0195",
         29,
         "2025-06-23T23:30:44.248Z",
         "2025-06-23T23:30:44.248Z"
        ],
        [
         "P0005",
         30,
         "2025-06-23T23:30:44.248Z",
         "2025-06-23T23:30:44.248Z"
        ],
        [
         "P0040",
         31,
         "2025-06-23T23:30:44.248Z",
         "2025-06-23T23:30:44.248Z"
        ],
        [
         "P0077",
         32,
         "2025-06-23T23:30:44.248Z",
         "2025-06-23T23:30:44.248Z"
        ],
        [
         "P0083",
         33,
         "2025-06-23T23:30:44.248Z",
         "2025-06-23T23:30:44.248Z"
        ],
        [
         "P0090",
         34,
         "2025-06-23T23:30:44.248Z",
         "2025-06-23T23:30:44.248Z"
        ],
        [
         "P0091",
         35,
         "2025-06-23T23:30:44.248Z",
         "2025-06-23T23:30:44.248Z"
        ],
        [
         "P0108",
         36,
         "2025-06-23T23:30:44.248Z",
         "2025-06-23T23:30:44.248Z"
        ],
        [
         "P0115",
         37,
         "2025-06-23T23:30:44.248Z",
         "2025-06-23T23:30:44.248Z"
        ],
        [
         "P0122",
         38,
         "2025-06-23T23:30:44.248Z",
         "2025-06-23T23:30:44.248Z"
        ],
        [
         "P0133",
         39,
         "2025-06-23T23:30:44.248Z",
         "2025-06-23T23:30:44.248Z"
        ],
        [
         "P0160",
         40,
         "2025-06-23T23:30:44.248Z",
         "2025-06-23T23:30:44.248Z"
        ],
        [
         "P0167",
         41,
         "2025-06-23T23:30:44.248Z",
         "2025-06-23T23:30:44.248Z"
        ],
        [
         "P0177",
         42,
         "2025-06-23T23:30:44.248Z",
         "2025-06-23T23:30:44.248Z"
        ],
        [
         "P0189",
         43,
         "2025-06-23T23:30:44.248Z",
         "2025-06-23T23:30:44.248Z"
        ],
        [
         "P0011",
         44,
         "2025-06-23T23:30:44.248Z",
         "2025-06-23T23:30:44.248Z"
        ],
        [
         "P0020",
         45,
         "2025-06-23T23:30:44.248Z",
         "2025-06-23T23:30:44.248Z"
        ],
        [
         "P0032",
         46,
         "2025-06-23T23:30:44.248Z",
         "2025-06-23T23:30:44.248Z"
        ],
        [
         "P0045",
         47,
         "2025-06-23T23:30:44.248Z",
         "2025-06-23T23:30:44.248Z"
        ],
        [
         "P0088",
         48,
         "2025-06-23T23:30:44.248Z",
         "2025-06-23T23:30:44.248Z"
        ],
        [
         "P0110",
         49,
         "2025-06-23T23:30:44.248Z",
         "2025-06-23T23:30:44.248Z"
        ],
        [
         "P0113",
         50,
         "2025-06-23T23:30:44.248Z",
         "2025-06-23T23:30:44.248Z"
        ],
        [
         "P0125",
         51,
         "2025-06-23T23:30:44.248Z",
         "2025-06-23T23:30:44.248Z"
        ],
        [
         "P0136",
         52,
         "2025-06-23T23:30:44.248Z",
         "2025-06-23T23:30:44.248Z"
        ],
        [
         "P0149",
         53,
         "2025-06-23T23:30:44.248Z",
         "2025-06-23T23:30:44.248Z"
        ],
        [
         "P0152",
         54,
         "2025-06-23T23:30:44.248Z",
         "2025-06-23T23:30:44.248Z"
        ],
        [
         "P0169",
         55,
         "2025-06-23T23:30:44.248Z",
         "2025-06-23T23:30:44.248Z"
        ],
        [
         "P0034",
         56,
         "2025-06-23T23:30:44.248Z",
         "2025-06-23T23:30:44.248Z"
        ],
        [
         "P0036",
         57,
         "2025-06-23T23:30:44.248Z",
         "2025-06-23T23:30:44.248Z"
        ],
        [
         "P0082",
         58,
         "2025-06-23T23:30:44.248Z",
         "2025-06-23T23:30:44.248Z"
        ],
        [
         "P0084",
         59,
         "2025-06-23T23:30:44.248Z",
         "2025-06-23T23:30:44.248Z"
        ],
        [
         "P0087",
         60,
         "2025-06-23T23:30:44.248Z",
         "2025-06-23T23:30:44.248Z"
        ],
        [
         "P0094",
         61,
         "2025-06-23T23:30:44.248Z",
         "2025-06-23T23:30:44.248Z"
        ],
        [
         "P0100",
         62,
         "2025-06-23T23:30:44.248Z",
         "2025-06-23T23:30:44.248Z"
        ],
        [
         "P0141",
         63,
         "2025-06-23T23:30:44.248Z",
         "2025-06-23T23:30:44.248Z"
        ],
        [
         "P0150",
         64,
         "2025-06-23T23:30:44.248Z",
         "2025-06-23T23:30:44.248Z"
        ],
        [
         "P0163",
         65,
         "2025-06-23T23:30:44.248Z",
         "2025-06-23T23:30:44.248Z"
        ],
        [
         "P0164",
         66,
         "2025-06-23T23:30:44.248Z",
         "2025-06-23T23:30:44.248Z"
        ],
        [
         "P0013",
         67,
         "2025-06-23T23:30:44.248Z",
         "2025-06-23T23:30:44.248Z"
        ],
        [
         "P0038",
         68,
         "2025-06-23T23:30:44.248Z",
         "2025-06-23T23:30:44.248Z"
        ],
        [
         "P0060",
         69,
         "2025-06-23T23:30:44.248Z",
         "2025-06-23T23:30:44.248Z"
        ],
        [
         "P0061",
         70,
         "2025-06-23T23:30:44.248Z",
         "2025-06-23T23:30:44.248Z"
        ],
        [
         "P0107",
         71,
         "2025-06-23T23:30:44.248Z",
         "2025-06-23T23:30:44.248Z"
        ],
        [
         "P0111",
         72,
         "2025-06-23T23:30:44.248Z",
         "2025-06-23T23:30:44.248Z"
        ],
        [
         "P0128",
         73,
         "2025-06-23T23:30:44.248Z",
         "2025-06-23T23:30:44.248Z"
        ],
        [
         "P0131",
         74,
         "2025-06-23T23:30:44.248Z",
         "2025-06-23T23:30:44.248Z"
        ],
        [
         "P0139",
         75,
         "2025-06-23T23:30:44.248Z",
         "2025-06-23T23:30:44.248Z"
        ],
        [
         "P0158",
         76,
         "2025-06-23T23:30:44.248Z",
         "2025-06-23T23:30:44.248Z"
        ],
        [
         "P0188",
         77,
         "2025-06-23T23:30:44.248Z",
         "2025-06-23T23:30:44.248Z"
        ],
        [
         "P0001",
         78,
         "2025-06-23T23:30:44.248Z",
         "2025-06-23T23:30:44.248Z"
        ],
        [
         "P0026",
         79,
         "2025-06-23T23:30:44.248Z",
         "2025-06-23T23:30:44.248Z"
        ],
        [
         "P0145",
         80,
         "2025-06-23T23:30:44.248Z",
         "2025-06-23T23:30:44.248Z"
        ],
        [
         "P0153",
         81,
         "2025-06-23T23:30:44.248Z",
         "2025-06-23T23:30:44.248Z"
        ],
        [
         "P0155",
         82,
         "2025-06-23T23:30:44.248Z",
         "2025-06-23T23:30:44.248Z"
        ],
        [
         "P0170",
         83,
         "2025-06-23T23:30:44.248Z",
         "2025-06-23T23:30:44.248Z"
        ],
        [
         "P0173",
         84,
         "2025-06-23T23:30:44.248Z",
         "2025-06-23T23:30:44.248Z"
        ],
        [
         "P0176",
         85,
         "2025-06-23T23:30:44.248Z",
         "2025-06-23T23:30:44.248Z"
        ],
        [
         "P0196",
         86,
         "2025-06-23T23:30:44.248Z",
         "2025-06-23T23:30:44.248Z"
        ],
        [
         "P0199",
         87,
         "2025-06-23T23:30:44.248Z",
         "2025-06-23T23:30:44.248Z"
        ],
        [
         "P0044",
         88,
         "2025-06-23T23:30:44.248Z",
         "2025-06-23T23:30:44.248Z"
        ],
        [
         "P0046",
         89,
         "2025-06-23T23:30:44.248Z",
         "2025-06-23T23:30:44.248Z"
        ],
        [
         "P0064",
         90,
         "2025-06-23T23:30:44.248Z",
         "2025-06-23T23:30:44.248Z"
        ],
        [
         "P0074",
         91,
         "2025-06-23T23:30:44.248Z",
         "2025-06-23T23:30:44.248Z"
        ],
        [
         "P0096",
         92,
         "2025-06-23T23:30:44.248Z",
         "2025-06-23T23:30:44.248Z"
        ],
        [
         "P0099",
         93,
         "2025-06-23T23:30:44.248Z",
         "2025-06-23T23:30:44.248Z"
        ],
        [
         "P0116",
         94,
         "2025-06-23T23:30:44.248Z",
         "2025-06-23T23:30:44.248Z"
        ],
        [
         "P0129",
         95,
         "2025-06-23T23:30:44.248Z",
         "2025-06-23T23:30:44.248Z"
        ],
        [
         "P0161",
         96,
         "2025-06-23T23:30:44.248Z",
         "2025-06-23T23:30:44.248Z"
        ],
        [
         "P0180",
         97,
         "2025-06-23T23:30:44.248Z",
         "2025-06-23T23:30:44.248Z"
        ],
        [
         "P0181",
         98,
         "2025-06-23T23:30:44.248Z",
         "2025-06-23T23:30:44.248Z"
        ],
        [
         "P0006",
         99,
         "2025-06-23T23:30:44.248Z",
         "2025-06-23T23:30:44.248Z"
        ],
        [
         "P0015",
         100,
         "2025-06-23T23:30:44.248Z",
         "2025-06-23T23:30:44.248Z"
        ],
        [
         "P0019",
         101,
         "2025-06-23T23:30:44.248Z",
         "2025-06-23T23:30:44.248Z"
        ],
        [
         "P0054",
         102,
         "2025-06-23T23:30:44.248Z",
         "2025-06-23T23:30:44.248Z"
        ],
        [
         "P0069",
         103,
         "2025-06-23T23:30:44.248Z",
         "2025-06-23T23:30:44.248Z"
        ],
        [
         "P0075",
         104,
         "2025-06-23T23:30:44.248Z",
         "2025-06-23T23:30:44.248Z"
        ],
        [
         "P0079",
         105,
         "2025-06-23T23:30:44.248Z",
         "2025-06-23T23:30:44.248Z"
        ],
        [
         "P0089",
         106,
         "2025-06-23T23:30:44.248Z",
         "2025-06-23T23:30:44.248Z"
        ],
        [
         "P0092",
         107,
         "2025-06-23T23:30:44.248Z",
         "2025-06-23T23:30:44.248Z"
        ],
        [
         "P0101",
         108,
         "2025-06-23T23:30:44.248Z",
         "2025-06-23T23:30:44.248Z"
        ],
        [
         "P0140",
         109,
         "2025-06-23T23:30:44.248Z",
         "2025-06-23T23:30:44.248Z"
        ],
        [
         "P0154",
         110,
         "2025-06-23T23:30:44.248Z",
         "2025-06-23T23:30:44.248Z"
        ],
        [
         "P0009",
         111,
         "2025-06-23T23:30:44.248Z",
         "2025-06-23T23:30:44.248Z"
        ],
        [
         "P0010",
         112,
         "2025-06-23T23:30:44.248Z",
         "2025-06-23T23:30:44.248Z"
        ],
        [
         "P0028",
         113,
         "2025-06-23T23:30:44.248Z",
         "2025-06-23T23:30:44.248Z"
        ],
        [
         "P0030",
         114,
         "2025-06-23T23:30:44.248Z",
         "2025-06-23T23:30:44.248Z"
        ],
        [
         "P0042",
         115,
         "2025-06-23T23:30:44.248Z",
         "2025-06-23T23:30:44.248Z"
        ],
        [
         "P0052",
         116,
         "2025-06-23T23:30:44.248Z",
         "2025-06-23T23:30:44.248Z"
        ],
        [
         "P0093",
         117,
         "2025-06-23T23:30:44.248Z",
         "2025-06-23T23:30:44.248Z"
        ],
        [
         "P0112",
         118,
         "2025-06-23T23:30:44.248Z",
         "2025-06-23T23:30:44.248Z"
        ],
        [
         "P0118",
         119,
         "2025-06-23T23:30:44.248Z",
         "2025-06-23T23:30:44.248Z"
        ],
        [
         "P0132",
         120,
         "2025-06-23T23:30:44.248Z",
         "2025-06-23T23:30:44.248Z"
        ],
        [
         "P0147",
         121,
         "2025-06-23T23:30:44.248Z",
         "2025-06-23T23:30:44.248Z"
        ],
        [
         "P0183",
         122,
         "2025-06-23T23:30:44.248Z",
         "2025-06-23T23:30:44.248Z"
        ],
        [
         "P0185",
         123,
         "2025-06-23T23:30:44.248Z",
         "2025-06-23T23:30:44.248Z"
        ],
        [
         "P0190",
         124,
         "2025-06-23T23:30:44.248Z",
         "2025-06-23T23:30:44.248Z"
        ],
        [
         "P0008",
         125,
         "2025-06-23T23:30:44.248Z",
         "2025-06-23T23:30:44.248Z"
        ],
        [
         "P0027",
         126,
         "2025-06-23T23:30:44.248Z",
         "2025-06-23T23:30:44.248Z"
        ],
        [
         "P0031",
         127,
         "2025-06-23T23:30:44.248Z",
         "2025-06-23T23:30:44.248Z"
        ],
        [
         "P0048",
         128,
         "2025-06-23T23:30:44.248Z",
         "2025-06-23T23:30:44.248Z"
        ],
        [
         "P0056",
         129,
         "2025-06-23T23:30:44.248Z",
         "2025-06-23T23:30:44.248Z"
        ],
        [
         "P0062",
         130,
         "2025-06-23T23:30:44.248Z",
         "2025-06-23T23:30:44.248Z"
        ],
        [
         "P0063",
         131,
         "2025-06-23T23:30:44.248Z",
         "2025-06-23T23:30:44.248Z"
        ],
        [
         "P0065",
         132,
         "2025-06-23T23:30:44.248Z",
         "2025-06-23T23:30:44.248Z"
        ],
        [
         "P0078",
         133,
         "2025-06-23T23:30:44.248Z",
         "2025-06-23T23:30:44.248Z"
        ],
        [
         "P0095",
         134,
         "2025-06-23T23:30:44.248Z",
         "2025-06-23T23:30:44.248Z"
        ],
        [
         "P0126",
         135,
         "2025-06-23T23:30:44.248Z",
         "2025-06-23T23:30:44.248Z"
        ],
        [
         "P0162",
         136,
         "2025-06-23T23:30:44.248Z",
         "2025-06-23T23:30:44.248Z"
        ],
        [
         "P0017",
         137,
         "2025-06-23T23:30:44.248Z",
         "2025-06-23T23:30:44.248Z"
        ],
        [
         "P0029",
         138,
         "2025-06-23T23:30:44.248Z",
         "2025-06-23T23:30:44.248Z"
        ],
        [
         "P0039",
         139,
         "2025-06-23T23:30:44.248Z",
         "2025-06-23T23:30:44.248Z"
        ],
        [
         "P0059",
         140,
         "2025-06-23T23:30:44.248Z",
         "2025-06-23T23:30:44.248Z"
        ],
        [
         "P0068",
         141,
         "2025-06-23T23:30:44.248Z",
         "2025-06-23T23:30:44.248Z"
        ],
        [
         "P0086",
         142,
         "2025-06-23T23:30:44.248Z",
         "2025-06-23T23:30:44.248Z"
        ],
        [
         "P0144",
         143,
         "2025-06-23T23:30:44.248Z",
         "2025-06-23T23:30:44.248Z"
        ],
        [
         "P0165",
         144,
         "2025-06-23T23:30:44.248Z",
         "2025-06-23T23:30:44.248Z"
        ],
        [
         "P0168",
         145,
         "2025-06-23T23:30:44.248Z",
         "2025-06-23T23:30:44.248Z"
        ],
        [
         "P0197",
         146,
         "2025-06-23T23:30:44.248Z",
         "2025-06-23T23:30:44.248Z"
        ],
        [
         "P0025",
         147,
         "2025-06-23T23:30:44.248Z",
         "2025-06-23T23:30:44.248Z"
        ],
        [
         "P0050",
         148,
         "2025-06-23T23:30:44.248Z",
         "2025-06-23T23:30:44.248Z"
        ],
        [
         "P0055",
         149,
         "2025-06-23T23:30:44.248Z",
         "2025-06-23T23:30:44.248Z"
        ],
        [
         "P0067",
         150,
         "2025-06-23T23:30:44.248Z",
         "2025-06-23T23:30:44.248Z"
        ],
        [
         "P0070",
         151,
         "2025-06-23T23:30:44.248Z",
         "2025-06-23T23:30:44.248Z"
        ],
        [
         "P0098",
         152,
         "2025-06-23T23:30:44.248Z",
         "2025-06-23T23:30:44.248Z"
        ],
        [
         "P0109",
         153,
         "2025-06-23T23:30:44.248Z",
         "2025-06-23T23:30:44.248Z"
        ],
        [
         "P0127",
         154,
         "2025-06-23T23:30:44.248Z",
         "2025-06-23T23:30:44.248Z"
        ],
        [
         "P0143",
         155,
         "2025-06-23T23:30:44.248Z",
         "2025-06-23T23:30:44.248Z"
        ],
        [
         "P0175",
         156,
         "2025-06-23T23:30:44.248Z",
         "2025-06-23T23:30:44.248Z"
        ],
        [
         "P0184",
         157,
         "2025-06-23T23:30:44.248Z",
         "2025-06-23T23:30:44.248Z"
        ],
        [
         "P0187",
         158,
         "2025-06-23T23:30:44.248Z",
         "2025-06-23T23:30:44.248Z"
        ],
        [
         "P0037",
         159,
         "2025-06-23T23:30:44.248Z",
         "2025-06-23T23:30:44.248Z"
        ],
        [
         "P0043",
         160,
         "2025-06-23T23:30:44.248Z",
         "2025-06-23T23:30:44.248Z"
        ],
        [
         "P0102",
         161,
         "2025-06-23T23:30:44.248Z",
         "2025-06-23T23:30:44.248Z"
        ],
        [
         "P0105",
         162,
         "2025-06-23T23:30:44.248Z",
         "2025-06-23T23:30:44.248Z"
        ],
        [
         "P0117",
         163,
         "2025-06-23T23:30:44.248Z",
         "2025-06-23T23:30:44.248Z"
        ],
        [
         "P0121",
         164,
         "2025-06-23T23:30:44.248Z",
         "2025-06-23T23:30:44.248Z"
        ],
        [
         "P0124",
         165,
         "2025-06-23T23:30:44.248Z",
         "2025-06-23T23:30:44.248Z"
        ],
        [
         "P0137",
         166,
         "2025-06-23T23:30:44.248Z",
         "2025-06-23T23:30:44.248Z"
        ],
        [
         "P0156",
         167,
         "2025-06-23T23:30:44.248Z",
         "2025-06-23T23:30:44.248Z"
        ],
        [
         "P0157",
         168,
         "2025-06-23T23:30:44.248Z",
         "2025-06-23T23:30:44.248Z"
        ],
        [
         "P0179",
         169,
         "2025-06-23T23:30:44.248Z",
         "2025-06-23T23:30:44.248Z"
        ],
        [
         "P0182",
         170,
         "2025-06-23T23:30:44.248Z",
         "2025-06-23T23:30:44.248Z"
        ],
        [
         "P0193",
         171,
         "2025-06-23T23:30:44.248Z",
         "2025-06-23T23:30:44.248Z"
        ],
        [
         "P0200",
         172,
         "2025-06-23T23:30:44.248Z",
         "2025-06-23T23:30:44.248Z"
        ],
        [
         "P0016",
         173,
         "2025-06-23T23:30:44.248Z",
         "2025-06-23T23:30:44.248Z"
        ],
        [
         "P0024",
         174,
         "2025-06-23T23:30:44.248Z",
         "2025-06-23T23:30:44.248Z"
        ],
        [
         "P0047",
         175,
         "2025-06-23T23:30:44.248Z",
         "2025-06-23T23:30:44.248Z"
        ],
        [
         "P0053",
         176,
         "2025-06-23T23:30:44.248Z",
         "2025-06-23T23:30:44.248Z"
        ],
        [
         "P0076",
         177,
         "2025-06-23T23:30:44.248Z",
         "2025-06-23T23:30:44.248Z"
        ],
        [
         "P0172",
         178,
         "2025-06-23T23:30:44.248Z",
         "2025-06-23T23:30:44.248Z"
        ],
        [
         "P0174",
         179,
         "2025-06-23T23:30:44.248Z",
         "2025-06-23T23:30:44.248Z"
        ],
        [
         "P0178",
         180,
         "2025-06-23T23:30:44.248Z",
         "2025-06-23T23:30:44.248Z"
        ],
        [
         "P0194",
         181,
         "2025-06-23T23:30:44.248Z",
         "2025-06-23T23:30:44.248Z"
        ],
        [
         "P0198",
         182,
         "2025-06-23T23:30:44.248Z",
         "2025-06-23T23:30:44.248Z"
        ],
        [
         "P0003",
         183,
         "2025-06-23T23:30:44.248Z",
         "2025-06-23T23:30:44.248Z"
        ],
        [
         "P0012",
         184,
         "2025-06-23T23:30:44.248Z",
         "2025-06-23T23:30:44.248Z"
        ],
        [
         "P0018",
         185,
         "2025-06-23T23:30:44.248Z",
         "2025-06-23T23:30:44.248Z"
        ],
        [
         "P0021",
         186,
         "2025-06-23T23:30:44.248Z",
         "2025-06-23T23:30:44.248Z"
        ],
        [
         "P0035",
         187,
         "2025-06-23T23:30:44.248Z",
         "2025-06-23T23:30:44.248Z"
        ],
        [
         "P0058",
         188,
         "2025-06-23T23:30:44.248Z",
         "2025-06-23T23:30:44.248Z"
        ],
        [
         "P0066",
         189,
         "2025-06-23T23:30:44.248Z",
         "2025-06-23T23:30:44.248Z"
        ],
        [
         "P0071",
         190,
         "2025-06-23T23:30:44.248Z",
         "2025-06-23T23:30:44.248Z"
        ],
        [
         "P0072",
         191,
         "2025-06-23T23:30:44.248Z",
         "2025-06-23T23:30:44.248Z"
        ],
        [
         "P0073",
         192,
         "2025-06-23T23:30:44.248Z",
         "2025-06-23T23:30:44.248Z"
        ],
        [
         "P0081",
         193,
         "2025-06-23T23:30:44.248Z",
         "2025-06-23T23:30:44.248Z"
        ],
        [
         "P0085",
         194,
         "2025-06-23T23:30:44.248Z",
         "2025-06-23T23:30:44.248Z"
        ],
        [
         "P0103",
         195,
         "2025-06-23T23:30:44.248Z",
         "2025-06-23T23:30:44.248Z"
        ],
        [
         "P0104",
         196,
         "2025-06-23T23:30:44.248Z",
         "2025-06-23T23:30:44.248Z"
        ],
        [
         "P0106",
         197,
         "2025-06-23T23:30:44.248Z",
         "2025-06-23T23:30:44.248Z"
        ],
        [
         "P0119",
         198,
         "2025-06-23T23:30:44.248Z",
         "2025-06-23T23:30:44.248Z"
        ],
        [
         "P0166",
         199,
         "2025-06-23T23:30:44.248Z",
         "2025-06-23T23:30:44.248Z"
        ],
        [
         "P0191",
         200,
         "2025-06-23T23:30:44.248Z",
         "2025-06-23T23:30:44.248Z"
        ],
        [
         "P0206",
         201,
         "2025-06-23T23:30:44.248Z",
         "2025-06-23T23:30:44.248Z"
        ],
        [
         "P0211",
         202,
         "2025-06-23T23:30:44.248Z",
         "2025-06-23T23:30:44.248Z"
        ],
        [
         "P0212",
         203,
         "2025-06-23T23:30:44.248Z",
         "2025-06-23T23:30:44.248Z"
        ],
        [
         "P0216",
         204,
         "2025-06-23T23:30:44.248Z",
         "2025-06-23T23:30:44.248Z"
        ],
        [
         "P0209",
         205,
         "2025-06-23T23:30:44.248Z",
         "2025-06-23T23:30:44.248Z"
        ],
        [
         "P0220",
         206,
         "2025-06-23T23:30:44.248Z",
         "2025-06-23T23:30:44.248Z"
        ],
        [
         "P0215",
         207,
         "2025-06-23T23:30:44.248Z",
         "2025-06-23T23:30:44.248Z"
        ],
        [
         "P0219",
         208,
         "2025-06-23T23:30:44.248Z",
         "2025-06-23T23:30:44.248Z"
        ],
        [
         "P0201",
         209,
         "2025-06-23T23:30:44.248Z",
         "2025-06-23T23:30:44.248Z"
        ],
        [
         "P0207",
         210,
         "2025-06-23T23:30:44.248Z",
         "2025-06-23T23:30:44.248Z"
        ],
        [
         "P0214",
         211,
         "2025-06-23T23:30:44.248Z",
         "2025-06-23T23:30:44.248Z"
        ],
        [
         "P0218",
         212,
         "2025-06-23T23:30:44.248Z",
         "2025-06-23T23:30:44.248Z"
        ],
        [
         "P0202",
         213,
         "2025-06-23T23:30:44.248Z",
         "2025-06-23T23:30:44.248Z"
        ],
        [
         "P0205",
         214,
         "2025-06-23T23:30:44.248Z",
         "2025-06-23T23:30:44.248Z"
        ],
        [
         "P0210",
         215,
         "2025-06-23T23:30:44.248Z",
         "2025-06-23T23:30:44.248Z"
        ],
        [
         "P0203",
         216,
         "2025-06-23T23:30:44.248Z",
         "2025-06-23T23:30:44.248Z"
        ],
        [
         "P0213",
         217,
         "2025-06-23T23:30:44.248Z",
         "2025-06-23T23:30:44.248Z"
        ],
        [
         "P0217",
         218,
         "2025-06-23T23:30:44.248Z",
         "2025-06-23T23:30:44.248Z"
        ],
        [
         "P0208",
         219,
         "2025-06-23T23:30:44.248Z",
         "2025-06-23T23:30:44.248Z"
        ],
        [
         "P0204",
         220,
         "2025-06-23T23:30:44.248Z",
         "2025-06-23T23:30:44.248Z"
        ]
       ],
       "datasetInfos": [],
       "dbfsResultPath": null,
       "isJsonSchema": true,
       "metadata": {},
       "overflow": false,
       "plotOptions": {
        "customPlotOptions": {},
        "displayType": "table",
        "pivotAggregation": null,
        "pivotColumns": null,
        "xColumns": null,
        "yColumns": null
       },
       "removedWidgets": [],
       "schema": [
        {
         "metadata": "{}",
         "name": "passenger_id",
         "type": "\"string\""
        },
        {
         "metadata": "{}",
         "name": "DimPassengersKey",
         "type": "\"long\""
        },
        {
         "metadata": "{}",
         "name": "create_date",
         "type": "\"timestamp\""
        },
        {
         "metadata": "{}",
         "name": "update_date",
         "type": "\"timestamp\""
        }
       ],
       "type": "table"
      }
     },
     "output_type": "display_data"
    }
   ],
   "source": [
    "df_trg.display()"
   ]
  },
  {
   "cell_type": "markdown",
   "metadata": {
    "application/vnd.databricks.v1+cell": {
     "cellMetadata": {
      "byteLimit": 2048000,
      "rowLimit": 10000
     },
     "inputWidgets": {},
     "nuid": "ea8cabf1-9938-4f15-9caa-7586f8cd769d",
     "showTitle": false,
     "tableResultSettingsMap": {},
     "title": ""
    }
   },
   "source": [
    "**JOIN CONDITION**"
   ]
  },
  {
   "cell_type": "code",
   "execution_count": 0,
   "metadata": {
    "application/vnd.databricks.v1+cell": {
     "cellMetadata": {
      "byteLimit": 2048000,
      "rowLimit": 10000
     },
     "inputWidgets": {},
     "nuid": "08135f85-cda2-4a51-ba06-f0060bc77d62",
     "showTitle": false,
     "tableResultSettingsMap": {},
     "title": ""
    }
   },
   "outputs": [],
   "source": [
    "join_condition = ' AND '.join([f\"src.{i} = trg.{i}\" for i in key_cols_list])"
   ]
  },
  {
   "cell_type": "code",
   "execution_count": 0,
   "metadata": {
    "application/vnd.databricks.v1+cell": {
     "cellMetadata": {
      "byteLimit": 2048000,
      "rowLimit": 10000
     },
     "inputWidgets": {},
     "nuid": "a81f340d-13a7-49f1-803c-e7ee5e9b4b4c",
     "showTitle": false,
     "tableResultSettingsMap": {},
     "title": ""
    }
   },
   "outputs": [],
   "source": [
    "df_src.createOrReplaceTempView(\"src\")\n",
    "df_trg.createOrReplaceTempView(\"trg\")\n",
    "\n",
    "df_join = spark.sql(f\"\"\"\n",
    "            SELECT src.*, \n",
    "                   trg.{surrogate_key},\n",
    "                   trg.create_date,\n",
    "                   trg.update_date\n",
    "            FROM src\n",
    "            LEFT JOIN trg\n",
    "            ON {join_condition}\n",
    "            \"\"\")"
   ]
  },
  {
   "cell_type": "code",
   "execution_count": 0,
   "metadata": {
    "application/vnd.databricks.v1+cell": {
     "cellMetadata": {
      "byteLimit": 2048000,
      "rowLimit": 10000
     },
     "inputWidgets": {},
     "nuid": "bf7d85af-7694-4571-a5cf-2da7cf59cb69",
     "showTitle": false,
     "tableResultSettingsMap": {},
     "title": ""
    }
   },
   "outputs": [
    {
     "output_type": "display_data",
     "data": {
      "text/html": [
       "<style scoped>\n",
       "  .table-result-container {\n",
       "    max-height: 300px;\n",
       "    overflow: auto;\n",
       "  }\n",
       "  table, th, td {\n",
       "    border: 1px solid black;\n",
       "    border-collapse: collapse;\n",
       "  }\n",
       "  th, td {\n",
       "    padding: 5px;\n",
       "  }\n",
       "  th {\n",
       "    text-align: left;\n",
       "  }\n",
       "</style><div class='table-result-container'><table class='table-result'><thead style='background-color: white'><tr><th>passenger_id</th><th>name</th><th>gender</th><th>nationality</th><th>modifiedDate</th><th>DimPassengersKey</th><th>create_date</th><th>update_date</th></tr></thead><tbody><tr><td>P0155</td><td>Robert Singleton</td><td>Female</td><td>Northern Mariana Islands</td><td>2025-06-23T23:38:01.852Z</td><td>82</td><td>2025-06-23T23:30:44.248Z</td><td>2025-06-23T23:30:44.248Z</td></tr><tr><td>P0106</td><td>Joshua Shepherd Jr.</td><td>Female</td><td>Netherlands</td><td>2025-06-23T23:38:01.852Z</td><td>197</td><td>2025-06-23T23:30:44.248Z</td><td>2025-06-23T23:30:44.248Z</td></tr><tr><td>P0032</td><td>Daniel Douglas</td><td>Male</td><td>Singapore</td><td>2025-06-23T23:38:01.852Z</td><td>46</td><td>2025-06-23T23:30:44.248Z</td><td>2025-06-23T23:30:44.248Z</td></tr><tr><td>P0154</td><td>Angel Thompson</td><td>Female</td><td>Gambia</td><td>2025-06-23T23:38:01.852Z</td><td>110</td><td>2025-06-23T23:30:44.248Z</td><td>2025-06-23T23:30:44.248Z</td></tr><tr><td>P0196</td><td>Monica Dillon</td><td>Female</td><td>Belarus</td><td>2025-06-23T23:38:01.852Z</td><td>86</td><td>2025-06-23T23:30:44.248Z</td><td>2025-06-23T23:30:44.248Z</td></tr><tr><td>P0049</td><td>Justin Thomas</td><td>Female</td><td>Tokelau</td><td>2025-06-23T23:38:01.852Z</td><td>7</td><td>2025-06-23T23:30:44.248Z</td><td>2025-06-23T23:30:44.248Z</td></tr><tr><td>P0108</td><td>Brian Anderson</td><td>Female</td><td>Eritrea</td><td>2025-06-23T23:38:01.852Z</td><td>36</td><td>2025-06-23T23:30:44.248Z</td><td>2025-06-23T23:30:44.248Z</td></tr><tr><td>P0113</td><td>Brian Richardson</td><td>Male</td><td>Dominican Republic</td><td>2025-06-23T23:38:01.852Z</td><td>50</td><td>2025-06-23T23:30:44.248Z</td><td>2025-06-23T23:30:44.248Z</td></tr><tr><td>P0158</td><td>Jamie Mcneil</td><td>Male</td><td>Burundi</td><td>2025-06-23T23:38:01.852Z</td><td>76</td><td>2025-06-23T23:30:44.248Z</td><td>2025-06-23T23:30:44.248Z</td></tr><tr><td>P0149</td><td>Katherine Bowen DVM</td><td>Male</td><td>Mexico</td><td>2025-06-23T23:38:01.852Z</td><td>53</td><td>2025-06-23T23:30:44.248Z</td><td>2025-06-23T23:30:44.248Z</td></tr><tr><td>P0225</td><td>William Lopez</td><td>Male</td><td>Heard Island and McDonald Islands</td><td>2025-06-23T23:38:01.852Z</td><td>null</td><td>null</td><td>null</td></tr><tr><td>P0224</td><td>Jason Jensen</td><td>Female</td><td>Rwanda</td><td>2025-06-23T23:38:01.852Z</td><td>null</td><td>null</td><td>null</td></tr><tr><td>P0223</td><td>Nicholas Gomez</td><td>Female</td><td>Cook Islands</td><td>2025-06-23T23:38:01.852Z</td><td>null</td><td>null</td><td>null</td></tr><tr><td>P0222</td><td>Maria Taylor</td><td>Male</td><td>Lao People's Democratic Republic</td><td>2025-06-23T23:38:01.852Z</td><td>null</td><td>null</td><td>null</td></tr><tr><td>P0221</td><td>Amy Welch</td><td>Male</td><td>Croatia</td><td>2025-06-23T23:38:01.852Z</td><td>null</td><td>null</td><td>null</td></tr></tbody></table></div>"
      ]
     },
     "metadata": {
      "application/vnd.databricks.v1+output": {
       "addedWidgets": {},
       "aggData": [],
       "aggError": "",
       "aggOverflow": false,
       "aggSchema": [],
       "aggSeriesLimitReached": false,
       "aggType": "",
       "arguments": {},
       "columnCustomDisplayInfos": {},
       "data": [
        [
         "P0155",
         "Robert Singleton",
         "Female",
         "Northern Mariana Islands",
         "2025-06-23T23:38:01.852Z",
         82,
         "2025-06-23T23:30:44.248Z",
         "2025-06-23T23:30:44.248Z"
        ],
        [
         "P0106",
         "Joshua Shepherd Jr.",
         "Female",
         "Netherlands",
         "2025-06-23T23:38:01.852Z",
         197,
         "2025-06-23T23:30:44.248Z",
         "2025-06-23T23:30:44.248Z"
        ],
        [
         "P0032",
         "Daniel Douglas",
         "Male",
         "Singapore",
         "2025-06-23T23:38:01.852Z",
         46,
         "2025-06-23T23:30:44.248Z",
         "2025-06-23T23:30:44.248Z"
        ],
        [
         "P0154",
         "Angel Thompson",
         "Female",
         "Gambia",
         "2025-06-23T23:38:01.852Z",
         110,
         "2025-06-23T23:30:44.248Z",
         "2025-06-23T23:30:44.248Z"
        ],
        [
         "P0196",
         "Monica Dillon",
         "Female",
         "Belarus",
         "2025-06-23T23:38:01.852Z",
         86,
         "2025-06-23T23:30:44.248Z",
         "2025-06-23T23:30:44.248Z"
        ],
        [
         "P0049",
         "Justin Thomas",
         "Female",
         "Tokelau",
         "2025-06-23T23:38:01.852Z",
         7,
         "2025-06-23T23:30:44.248Z",
         "2025-06-23T23:30:44.248Z"
        ],
        [
         "P0108",
         "Brian Anderson",
         "Female",
         "Eritrea",
         "2025-06-23T23:38:01.852Z",
         36,
         "2025-06-23T23:30:44.248Z",
         "2025-06-23T23:30:44.248Z"
        ],
        [
         "P0113",
         "Brian Richardson",
         "Male",
         "Dominican Republic",
         "2025-06-23T23:38:01.852Z",
         50,
         "2025-06-23T23:30:44.248Z",
         "2025-06-23T23:30:44.248Z"
        ],
        [
         "P0158",
         "Jamie Mcneil",
         "Male",
         "Burundi",
         "2025-06-23T23:38:01.852Z",
         76,
         "2025-06-23T23:30:44.248Z",
         "2025-06-23T23:30:44.248Z"
        ],
        [
         "P0149",
         "Katherine Bowen DVM",
         "Male",
         "Mexico",
         "2025-06-23T23:38:01.852Z",
         53,
         "2025-06-23T23:30:44.248Z",
         "2025-06-23T23:30:44.248Z"
        ],
        [
         "P0225",
         "William Lopez",
         "Male",
         "Heard Island and McDonald Islands",
         "2025-06-23T23:38:01.852Z",
         null,
         null,
         null
        ],
        [
         "P0224",
         "Jason Jensen",
         "Female",
         "Rwanda",
         "2025-06-23T23:38:01.852Z",
         null,
         null,
         null
        ],
        [
         "P0223",
         "Nicholas Gomez",
         "Female",
         "Cook Islands",
         "2025-06-23T23:38:01.852Z",
         null,
         null,
         null
        ],
        [
         "P0222",
         "Maria Taylor",
         "Male",
         "Lao People's Democratic Republic",
         "2025-06-23T23:38:01.852Z",
         null,
         null,
         null
        ],
        [
         "P0221",
         "Amy Welch",
         "Male",
         "Croatia",
         "2025-06-23T23:38:01.852Z",
         null,
         null,
         null
        ]
       ],
       "datasetInfos": [],
       "dbfsResultPath": null,
       "isJsonSchema": true,
       "metadata": {},
       "overflow": false,
       "plotOptions": {
        "customPlotOptions": {},
        "displayType": "table",
        "pivotAggregation": null,
        "pivotColumns": null,
        "xColumns": null,
        "yColumns": null
       },
       "removedWidgets": [],
       "schema": [
        {
         "metadata": "{}",
         "name": "passenger_id",
         "type": "\"string\""
        },
        {
         "metadata": "{}",
         "name": "name",
         "type": "\"string\""
        },
        {
         "metadata": "{}",
         "name": "gender",
         "type": "\"string\""
        },
        {
         "metadata": "{}",
         "name": "nationality",
         "type": "\"string\""
        },
        {
         "metadata": "{}",
         "name": "modifiedDate",
         "type": "\"timestamp\""
        },
        {
         "metadata": "{}",
         "name": "DimPassengersKey",
         "type": "\"long\""
        },
        {
         "metadata": "{}",
         "name": "create_date",
         "type": "\"timestamp\""
        },
        {
         "metadata": "{}",
         "name": "update_date",
         "type": "\"timestamp\""
        }
       ],
       "type": "table"
      }
     },
     "output_type": "display_data"
    }
   ],
   "source": [
    "df_join.display()"
   ]
  },
  {
   "cell_type": "code",
   "execution_count": 0,
   "metadata": {
    "application/vnd.databricks.v1+cell": {
     "cellMetadata": {
      "byteLimit": 2048000,
      "rowLimit": 10000
     },
     "inputWidgets": {},
     "nuid": "3d8d6676-9f11-4b01-b761-7f9764ceb46c",
     "showTitle": false,
     "tableResultSettingsMap": {},
     "title": ""
    }
   },
   "outputs": [],
   "source": [
    "# OLD RECORDS\n",
    "df_old = df_join.filter(col(f'{surrogate_key}').isNotNull())\n",
    "\n",
    "# NEW RECOERDS\n",
    "df_new = df_join.filter(col(f'{surrogate_key}').isNull())"
   ]
  },
  {
   "cell_type": "code",
   "execution_count": 0,
   "metadata": {
    "application/vnd.databricks.v1+cell": {
     "cellMetadata": {
      "byteLimit": 2048000,
      "rowLimit": 10000
     },
     "inputWidgets": {},
     "nuid": "8d6ec86d-50d1-4262-a0e5-6b76fd3c61fa",
     "showTitle": false,
     "tableResultSettingsMap": {},
     "title": ""
    }
   },
   "outputs": [
    {
     "output_type": "display_data",
     "data": {
      "text/html": [
       "<style scoped>\n",
       "  .table-result-container {\n",
       "    max-height: 300px;\n",
       "    overflow: auto;\n",
       "  }\n",
       "  table, th, td {\n",
       "    border: 1px solid black;\n",
       "    border-collapse: collapse;\n",
       "  }\n",
       "  th, td {\n",
       "    padding: 5px;\n",
       "  }\n",
       "  th {\n",
       "    text-align: left;\n",
       "  }\n",
       "</style><div class='table-result-container'><table class='table-result'><thead style='background-color: white'><tr><th>passenger_id</th><th>name</th><th>gender</th><th>nationality</th><th>modifiedDate</th><th>DimPassengersKey</th><th>create_date</th><th>update_date</th></tr></thead><tbody><tr><td>P0049</td><td>Justin Thomas</td><td>Female</td><td>Tokelau</td><td>2025-06-23T23:38:01.852Z</td><td>7</td><td>2025-06-23T23:30:44.248Z</td><td>2025-06-23T23:30:44.248Z</td></tr><tr><td>P0108</td><td>Brian Anderson</td><td>Female</td><td>Eritrea</td><td>2025-06-23T23:38:01.852Z</td><td>36</td><td>2025-06-23T23:30:44.248Z</td><td>2025-06-23T23:30:44.248Z</td></tr><tr><td>P0032</td><td>Daniel Douglas</td><td>Male</td><td>Singapore</td><td>2025-06-23T23:38:01.852Z</td><td>46</td><td>2025-06-23T23:30:44.248Z</td><td>2025-06-23T23:30:44.248Z</td></tr><tr><td>P0113</td><td>Brian Richardson</td><td>Male</td><td>Dominican Republic</td><td>2025-06-23T23:38:01.852Z</td><td>50</td><td>2025-06-23T23:30:44.248Z</td><td>2025-06-23T23:30:44.248Z</td></tr><tr><td>P0149</td><td>Katherine Bowen DVM</td><td>Male</td><td>Mexico</td><td>2025-06-23T23:38:01.852Z</td><td>53</td><td>2025-06-23T23:30:44.248Z</td><td>2025-06-23T23:30:44.248Z</td></tr><tr><td>P0158</td><td>Jamie Mcneil</td><td>Male</td><td>Burundi</td><td>2025-06-23T23:38:01.852Z</td><td>76</td><td>2025-06-23T23:30:44.248Z</td><td>2025-06-23T23:30:44.248Z</td></tr><tr><td>P0155</td><td>Robert Singleton</td><td>Female</td><td>Northern Mariana Islands</td><td>2025-06-23T23:38:01.852Z</td><td>82</td><td>2025-06-23T23:30:44.248Z</td><td>2025-06-23T23:30:44.248Z</td></tr><tr><td>P0196</td><td>Monica Dillon</td><td>Female</td><td>Belarus</td><td>2025-06-23T23:38:01.852Z</td><td>86</td><td>2025-06-23T23:30:44.248Z</td><td>2025-06-23T23:30:44.248Z</td></tr><tr><td>P0154</td><td>Angel Thompson</td><td>Female</td><td>Gambia</td><td>2025-06-23T23:38:01.852Z</td><td>110</td><td>2025-06-23T23:30:44.248Z</td><td>2025-06-23T23:30:44.248Z</td></tr><tr><td>P0106</td><td>Joshua Shepherd Jr.</td><td>Female</td><td>Netherlands</td><td>2025-06-23T23:38:01.852Z</td><td>197</td><td>2025-06-23T23:30:44.248Z</td><td>2025-06-23T23:30:44.248Z</td></tr></tbody></table></div>"
      ]
     },
     "metadata": {
      "application/vnd.databricks.v1+output": {
       "addedWidgets": {},
       "aggData": [],
       "aggError": "",
       "aggOverflow": false,
       "aggSchema": [],
       "aggSeriesLimitReached": false,
       "aggType": "",
       "arguments": {},
       "columnCustomDisplayInfos": {},
       "data": [
        [
         "P0049",
         "Justin Thomas",
         "Female",
         "Tokelau",
         "2025-06-23T23:38:01.852Z",
         7,
         "2025-06-23T23:30:44.248Z",
         "2025-06-23T23:30:44.248Z"
        ],
        [
         "P0108",
         "Brian Anderson",
         "Female",
         "Eritrea",
         "2025-06-23T23:38:01.852Z",
         36,
         "2025-06-23T23:30:44.248Z",
         "2025-06-23T23:30:44.248Z"
        ],
        [
         "P0032",
         "Daniel Douglas",
         "Male",
         "Singapore",
         "2025-06-23T23:38:01.852Z",
         46,
         "2025-06-23T23:30:44.248Z",
         "2025-06-23T23:30:44.248Z"
        ],
        [
         "P0113",
         "Brian Richardson",
         "Male",
         "Dominican Republic",
         "2025-06-23T23:38:01.852Z",
         50,
         "2025-06-23T23:30:44.248Z",
         "2025-06-23T23:30:44.248Z"
        ],
        [
         "P0149",
         "Katherine Bowen DVM",
         "Male",
         "Mexico",
         "2025-06-23T23:38:01.852Z",
         53,
         "2025-06-23T23:30:44.248Z",
         "2025-06-23T23:30:44.248Z"
        ],
        [
         "P0158",
         "Jamie Mcneil",
         "Male",
         "Burundi",
         "2025-06-23T23:38:01.852Z",
         76,
         "2025-06-23T23:30:44.248Z",
         "2025-06-23T23:30:44.248Z"
        ],
        [
         "P0155",
         "Robert Singleton",
         "Female",
         "Northern Mariana Islands",
         "2025-06-23T23:38:01.852Z",
         82,
         "2025-06-23T23:30:44.248Z",
         "2025-06-23T23:30:44.248Z"
        ],
        [
         "P0196",
         "Monica Dillon",
         "Female",
         "Belarus",
         "2025-06-23T23:38:01.852Z",
         86,
         "2025-06-23T23:30:44.248Z",
         "2025-06-23T23:30:44.248Z"
        ],
        [
         "P0154",
         "Angel Thompson",
         "Female",
         "Gambia",
         "2025-06-23T23:38:01.852Z",
         110,
         "2025-06-23T23:30:44.248Z",
         "2025-06-23T23:30:44.248Z"
        ],
        [
         "P0106",
         "Joshua Shepherd Jr.",
         "Female",
         "Netherlands",
         "2025-06-23T23:38:01.852Z",
         197,
         "2025-06-23T23:30:44.248Z",
         "2025-06-23T23:30:44.248Z"
        ]
       ],
       "datasetInfos": [],
       "dbfsResultPath": null,
       "isJsonSchema": true,
       "metadata": {},
       "overflow": false,
       "plotOptions": {
        "customPlotOptions": {},
        "displayType": "table",
        "pivotAggregation": null,
        "pivotColumns": null,
        "xColumns": null,
        "yColumns": null
       },
       "removedWidgets": [],
       "schema": [
        {
         "metadata": "{}",
         "name": "passenger_id",
         "type": "\"string\""
        },
        {
         "metadata": "{}",
         "name": "name",
         "type": "\"string\""
        },
        {
         "metadata": "{}",
         "name": "gender",
         "type": "\"string\""
        },
        {
         "metadata": "{}",
         "name": "nationality",
         "type": "\"string\""
        },
        {
         "metadata": "{}",
         "name": "modifiedDate",
         "type": "\"timestamp\""
        },
        {
         "metadata": "{}",
         "name": "DimPassengersKey",
         "type": "\"long\""
        },
        {
         "metadata": "{}",
         "name": "create_date",
         "type": "\"timestamp\""
        },
        {
         "metadata": "{}",
         "name": "update_date",
         "type": "\"timestamp\""
        }
       ],
       "type": "table"
      }
     },
     "output_type": "display_data"
    }
   ],
   "source": [
    "df_old.display()"
   ]
  },
  {
   "cell_type": "markdown",
   "metadata": {
    "application/vnd.databricks.v1+cell": {
     "cellMetadata": {
      "byteLimit": 2048000,
      "rowLimit": 10000
     },
     "inputWidgets": {},
     "nuid": "6cd46de2-32b6-45ea-9c35-386fe8c6c2f4",
     "showTitle": false,
     "tableResultSettingsMap": {},
     "title": ""
    }
   },
   "source": [
    "## **ENRICHING DFS**"
   ]
  },
  {
   "cell_type": "markdown",
   "metadata": {
    "application/vnd.databricks.v1+cell": {
     "cellMetadata": {
      "byteLimit": 2048000,
      "rowLimit": 10000
     },
     "inputWidgets": {},
     "nuid": "6e48b719-5998-4e16-8e0b-e972874e798c",
     "showTitle": false,
     "tableResultSettingsMap": {},
     "title": ""
    }
   },
   "source": [
    "#### **Preparing DF_OLD**"
   ]
  },
  {
   "cell_type": "code",
   "execution_count": 0,
   "metadata": {
    "application/vnd.databricks.v1+cell": {
     "cellMetadata": {
      "byteLimit": 2048000,
      "rowLimit": 10000
     },
     "inputWidgets": {},
     "nuid": "3ef8d9d6-7410-4ded-bc5d-386e03293aba",
     "showTitle": false,
     "tableResultSettingsMap": {},
     "title": ""
    }
   },
   "outputs": [],
   "source": [
    "df_old_enr = df_old.withColumn('update_date', current_timestamp())"
   ]
  },
  {
   "cell_type": "markdown",
   "metadata": {
    "application/vnd.databricks.v1+cell": {
     "cellMetadata": {
      "byteLimit": 2048000,
      "rowLimit": 10000
     },
     "inputWidgets": {},
     "nuid": "6b0848bf-cd94-4275-b56c-8c54afcee317",
     "showTitle": false,
     "tableResultSettingsMap": {},
     "title": ""
    }
   },
   "source": [
    "#### **Preparing DF_NEW**"
   ]
  },
  {
   "cell_type": "code",
   "execution_count": 0,
   "metadata": {
    "application/vnd.databricks.v1+cell": {
     "cellMetadata": {
      "byteLimit": 2048000,
      "rowLimit": 10000
     },
     "inputWidgets": {},
     "nuid": "1c5b2843-91d4-4c9c-ae15-a80f9a6effe1",
     "showTitle": false,
     "tableResultSettingsMap": {},
     "title": ""
    }
   },
   "outputs": [
    {
     "output_type": "display_data",
     "data": {
      "text/html": [
       "<style scoped>\n",
       "  .table-result-container {\n",
       "    max-height: 300px;\n",
       "    overflow: auto;\n",
       "  }\n",
       "  table, th, td {\n",
       "    border: 1px solid black;\n",
       "    border-collapse: collapse;\n",
       "  }\n",
       "  th, td {\n",
       "    padding: 5px;\n",
       "  }\n",
       "  th {\n",
       "    text-align: left;\n",
       "  }\n",
       "</style><div class='table-result-container'><table class='table-result'><thead style='background-color: white'><tr><th>passenger_id</th><th>name</th><th>gender</th><th>nationality</th><th>modifiedDate</th><th>DimPassengersKey</th><th>create_date</th><th>update_date</th></tr></thead><tbody><tr><td>P0225</td><td>William Lopez</td><td>Male</td><td>Heard Island and McDonald Islands</td><td>2025-06-23T23:38:01.852Z</td><td>null</td><td>null</td><td>null</td></tr><tr><td>P0224</td><td>Jason Jensen</td><td>Female</td><td>Rwanda</td><td>2025-06-23T23:38:01.852Z</td><td>null</td><td>null</td><td>null</td></tr><tr><td>P0223</td><td>Nicholas Gomez</td><td>Female</td><td>Cook Islands</td><td>2025-06-23T23:38:01.852Z</td><td>null</td><td>null</td><td>null</td></tr><tr><td>P0222</td><td>Maria Taylor</td><td>Male</td><td>Lao People's Democratic Republic</td><td>2025-06-23T23:38:01.852Z</td><td>null</td><td>null</td><td>null</td></tr><tr><td>P0221</td><td>Amy Welch</td><td>Male</td><td>Croatia</td><td>2025-06-23T23:38:01.852Z</td><td>null</td><td>null</td><td>null</td></tr></tbody></table></div>"
      ]
     },
     "metadata": {
      "application/vnd.databricks.v1+output": {
       "addedWidgets": {},
       "aggData": [],
       "aggError": "",
       "aggOverflow": false,
       "aggSchema": [],
       "aggSeriesLimitReached": false,
       "aggType": "",
       "arguments": {},
       "columnCustomDisplayInfos": {},
       "data": [
        [
         "P0225",
         "William Lopez",
         "Male",
         "Heard Island and McDonald Islands",
         "2025-06-23T23:38:01.852Z",
         null,
         null,
         null
        ],
        [
         "P0224",
         "Jason Jensen",
         "Female",
         "Rwanda",
         "2025-06-23T23:38:01.852Z",
         null,
         null,
         null
        ],
        [
         "P0223",
         "Nicholas Gomez",
         "Female",
         "Cook Islands",
         "2025-06-23T23:38:01.852Z",
         null,
         null,
         null
        ],
        [
         "P0222",
         "Maria Taylor",
         "Male",
         "Lao People's Democratic Republic",
         "2025-06-23T23:38:01.852Z",
         null,
         null,
         null
        ],
        [
         "P0221",
         "Amy Welch",
         "Male",
         "Croatia",
         "2025-06-23T23:38:01.852Z",
         null,
         null,
         null
        ]
       ],
       "datasetInfos": [],
       "dbfsResultPath": null,
       "isJsonSchema": true,
       "metadata": {},
       "overflow": false,
       "plotOptions": {
        "customPlotOptions": {},
        "displayType": "table",
        "pivotAggregation": null,
        "pivotColumns": null,
        "xColumns": null,
        "yColumns": null
       },
       "removedWidgets": [],
       "schema": [
        {
         "metadata": "{}",
         "name": "passenger_id",
         "type": "\"string\""
        },
        {
         "metadata": "{}",
         "name": "name",
         "type": "\"string\""
        },
        {
         "metadata": "{}",
         "name": "gender",
         "type": "\"string\""
        },
        {
         "metadata": "{}",
         "name": "nationality",
         "type": "\"string\""
        },
        {
         "metadata": "{}",
         "name": "modifiedDate",
         "type": "\"timestamp\""
        },
        {
         "metadata": "{}",
         "name": "DimPassengersKey",
         "type": "\"long\""
        },
        {
         "metadata": "{}",
         "name": "create_date",
         "type": "\"timestamp\""
        },
        {
         "metadata": "{}",
         "name": "update_date",
         "type": "\"timestamp\""
        }
       ],
       "type": "table"
      }
     },
     "output_type": "display_data"
    }
   ],
   "source": [
    "df_new.display()"
   ]
  },
  {
   "cell_type": "code",
   "execution_count": 0,
   "metadata": {
    "application/vnd.databricks.v1+cell": {
     "cellMetadata": {
      "byteLimit": 2048000,
      "rowLimit": 10000
     },
     "inputWidgets": {},
     "nuid": "3c01dfa7-a5a7-4da1-b7fa-7a913bf2c2b3",
     "showTitle": false,
     "tableResultSettingsMap": {},
     "title": ""
    }
   },
   "outputs": [],
   "source": [
    "if spark.catalog.tableExists(f\"{catalog}.{target_schema}.{target_object}\"): \n",
    "    max_surrogate_key = spark.sql(f\"\"\"\n",
    "                            SELECT max({surrogate_key}) FROM {catalog}.{target_schema}.{target_object}\n",
    "                        \"\"\").collect()[0][0]\n",
    "    df_new_enr = df_new.withColumn(f'{surrogate_key}', lit(max_surrogate_key)+lit(1)+monotonically_increasing_id())\\\n",
    "                    .withColumn('create_date', current_timestamp())\\\n",
    "                    .withColumn('update_date', current_timestamp())    \n",
    "\n",
    "else:\n",
    "    max_surrogate_key = 0\n",
    "    df_new_enr = df_new.withColumn(f'{surrogate_key}', lit(max_surrogate_key)+lit(1)+monotonically_increasing_id())\\\n",
    "                    .withColumn('create_date', current_timestamp())\\\n",
    "                    .withColumn('update_date', current_timestamp())\n"
   ]
  },
  {
   "cell_type": "code",
   "execution_count": 0,
   "metadata": {
    "application/vnd.databricks.v1+cell": {
     "cellMetadata": {
      "byteLimit": 2048000,
      "rowLimit": 10000
     },
     "inputWidgets": {},
     "nuid": "99c8e73d-1f9e-4cf9-b14b-8dc1ba79c2ef",
     "showTitle": false,
     "tableResultSettingsMap": {},
     "title": ""
    }
   },
   "outputs": [
    {
     "output_type": "display_data",
     "data": {
      "text/html": [
       "<style scoped>\n",
       "  .table-result-container {\n",
       "    max-height: 300px;\n",
       "    overflow: auto;\n",
       "  }\n",
       "  table, th, td {\n",
       "    border: 1px solid black;\n",
       "    border-collapse: collapse;\n",
       "  }\n",
       "  th, td {\n",
       "    padding: 5px;\n",
       "  }\n",
       "  th {\n",
       "    text-align: left;\n",
       "  }\n",
       "</style><div class='table-result-container'><table class='table-result'><thead style='background-color: white'><tr><th>passenger_id</th><th>name</th><th>gender</th><th>nationality</th><th>modifiedDate</th><th>DimPassengersKey</th><th>create_date</th><th>update_date</th></tr></thead><tbody><tr><td>P0049</td><td>Justin Thomas</td><td>Female</td><td>Tokelau</td><td>2025-06-23T23:38:01.852Z</td><td>7</td><td>2025-06-23T23:30:44.248Z</td><td>2025-06-23T23:42:12.129Z</td></tr><tr><td>P0108</td><td>Brian Anderson</td><td>Female</td><td>Eritrea</td><td>2025-06-23T23:38:01.852Z</td><td>36</td><td>2025-06-23T23:30:44.248Z</td><td>2025-06-23T23:42:12.129Z</td></tr><tr><td>P0032</td><td>Daniel Douglas</td><td>Male</td><td>Singapore</td><td>2025-06-23T23:38:01.852Z</td><td>46</td><td>2025-06-23T23:30:44.248Z</td><td>2025-06-23T23:42:12.129Z</td></tr><tr><td>P0113</td><td>Brian Richardson</td><td>Male</td><td>Dominican Republic</td><td>2025-06-23T23:38:01.852Z</td><td>50</td><td>2025-06-23T23:30:44.248Z</td><td>2025-06-23T23:42:12.129Z</td></tr><tr><td>P0149</td><td>Katherine Bowen DVM</td><td>Male</td><td>Mexico</td><td>2025-06-23T23:38:01.852Z</td><td>53</td><td>2025-06-23T23:30:44.248Z</td><td>2025-06-23T23:42:12.129Z</td></tr><tr><td>P0158</td><td>Jamie Mcneil</td><td>Male</td><td>Burundi</td><td>2025-06-23T23:38:01.852Z</td><td>76</td><td>2025-06-23T23:30:44.248Z</td><td>2025-06-23T23:42:12.129Z</td></tr><tr><td>P0155</td><td>Robert Singleton</td><td>Female</td><td>Northern Mariana Islands</td><td>2025-06-23T23:38:01.852Z</td><td>82</td><td>2025-06-23T23:30:44.248Z</td><td>2025-06-23T23:42:12.129Z</td></tr><tr><td>P0196</td><td>Monica Dillon</td><td>Female</td><td>Belarus</td><td>2025-06-23T23:38:01.852Z</td><td>86</td><td>2025-06-23T23:30:44.248Z</td><td>2025-06-23T23:42:12.129Z</td></tr><tr><td>P0154</td><td>Angel Thompson</td><td>Female</td><td>Gambia</td><td>2025-06-23T23:38:01.852Z</td><td>110</td><td>2025-06-23T23:30:44.248Z</td><td>2025-06-23T23:42:12.129Z</td></tr><tr><td>P0106</td><td>Joshua Shepherd Jr.</td><td>Female</td><td>Netherlands</td><td>2025-06-23T23:38:01.852Z</td><td>197</td><td>2025-06-23T23:30:44.248Z</td><td>2025-06-23T23:42:12.129Z</td></tr></tbody></table></div>"
      ]
     },
     "metadata": {
      "application/vnd.databricks.v1+output": {
       "addedWidgets": {},
       "aggData": [],
       "aggError": "",
       "aggOverflow": false,
       "aggSchema": [],
       "aggSeriesLimitReached": false,
       "aggType": "",
       "arguments": {},
       "columnCustomDisplayInfos": {},
       "data": [
        [
         "P0049",
         "Justin Thomas",
         "Female",
         "Tokelau",
         "2025-06-23T23:38:01.852Z",
         7,
         "2025-06-23T23:30:44.248Z",
         "2025-06-23T23:42:12.129Z"
        ],
        [
         "P0108",
         "Brian Anderson",
         "Female",
         "Eritrea",
         "2025-06-23T23:38:01.852Z",
         36,
         "2025-06-23T23:30:44.248Z",
         "2025-06-23T23:42:12.129Z"
        ],
        [
         "P0032",
         "Daniel Douglas",
         "Male",
         "Singapore",
         "2025-06-23T23:38:01.852Z",
         46,
         "2025-06-23T23:30:44.248Z",
         "2025-06-23T23:42:12.129Z"
        ],
        [
         "P0113",
         "Brian Richardson",
         "Male",
         "Dominican Republic",
         "2025-06-23T23:38:01.852Z",
         50,
         "2025-06-23T23:30:44.248Z",
         "2025-06-23T23:42:12.129Z"
        ],
        [
         "P0149",
         "Katherine Bowen DVM",
         "Male",
         "Mexico",
         "2025-06-23T23:38:01.852Z",
         53,
         "2025-06-23T23:30:44.248Z",
         "2025-06-23T23:42:12.129Z"
        ],
        [
         "P0158",
         "Jamie Mcneil",
         "Male",
         "Burundi",
         "2025-06-23T23:38:01.852Z",
         76,
         "2025-06-23T23:30:44.248Z",
         "2025-06-23T23:42:12.129Z"
        ],
        [
         "P0155",
         "Robert Singleton",
         "Female",
         "Northern Mariana Islands",
         "2025-06-23T23:38:01.852Z",
         82,
         "2025-06-23T23:30:44.248Z",
         "2025-06-23T23:42:12.129Z"
        ],
        [
         "P0196",
         "Monica Dillon",
         "Female",
         "Belarus",
         "2025-06-23T23:38:01.852Z",
         86,
         "2025-06-23T23:30:44.248Z",
         "2025-06-23T23:42:12.129Z"
        ],
        [
         "P0154",
         "Angel Thompson",
         "Female",
         "Gambia",
         "2025-06-23T23:38:01.852Z",
         110,
         "2025-06-23T23:30:44.248Z",
         "2025-06-23T23:42:12.129Z"
        ],
        [
         "P0106",
         "Joshua Shepherd Jr.",
         "Female",
         "Netherlands",
         "2025-06-23T23:38:01.852Z",
         197,
         "2025-06-23T23:30:44.248Z",
         "2025-06-23T23:42:12.129Z"
        ]
       ],
       "datasetInfos": [],
       "dbfsResultPath": null,
       "isJsonSchema": true,
       "metadata": {},
       "overflow": false,
       "plotOptions": {
        "customPlotOptions": {},
        "displayType": "table",
        "pivotAggregation": null,
        "pivotColumns": null,
        "xColumns": null,
        "yColumns": null
       },
       "removedWidgets": [],
       "schema": [
        {
         "metadata": "{}",
         "name": "passenger_id",
         "type": "\"string\""
        },
        {
         "metadata": "{}",
         "name": "name",
         "type": "\"string\""
        },
        {
         "metadata": "{}",
         "name": "gender",
         "type": "\"string\""
        },
        {
         "metadata": "{}",
         "name": "nationality",
         "type": "\"string\""
        },
        {
         "metadata": "{}",
         "name": "modifiedDate",
         "type": "\"timestamp\""
        },
        {
         "metadata": "{}",
         "name": "DimPassengersKey",
         "type": "\"long\""
        },
        {
         "metadata": "{}",
         "name": "create_date",
         "type": "\"timestamp\""
        },
        {
         "metadata": "{}",
         "name": "update_date",
         "type": "\"timestamp\""
        }
       ],
       "type": "table"
      }
     },
     "output_type": "display_data"
    }
   ],
   "source": [
    "df_old_enr.display()"
   ]
  },
  {
   "cell_type": "markdown",
   "metadata": {
    "application/vnd.databricks.v1+cell": {
     "cellMetadata": {
      "byteLimit": 2048000,
      "rowLimit": 10000
     },
     "inputWidgets": {},
     "nuid": "0de4efbe-41c1-422a-9f28-5b7183b9b712",
     "showTitle": false,
     "tableResultSettingsMap": {},
     "title": ""
    }
   },
   "source": [
    "## **Unioning OLD AND NEW RECORDS**"
   ]
  },
  {
   "cell_type": "code",
   "execution_count": 0,
   "metadata": {
    "application/vnd.databricks.v1+cell": {
     "cellMetadata": {
      "byteLimit": 2048000,
      "rowLimit": 10000
     },
     "inputWidgets": {},
     "nuid": "15c569f2-d910-4200-a462-d5acc2cdea35",
     "showTitle": false,
     "tableResultSettingsMap": {},
     "title": ""
    }
   },
   "outputs": [],
   "source": [
    "df_union = df_old_enr.unionByName(df_new_enr)"
   ]
  },
  {
   "cell_type": "code",
   "execution_count": 0,
   "metadata": {
    "application/vnd.databricks.v1+cell": {
     "cellMetadata": {
      "byteLimit": 2048000,
      "rowLimit": 10000
     },
     "inputWidgets": {},
     "nuid": "fbe3084b-706c-43c5-a443-023000a6989d",
     "showTitle": false,
     "tableResultSettingsMap": {},
     "title": ""
    }
   },
   "outputs": [
    {
     "output_type": "display_data",
     "data": {
      "text/html": [
       "<style scoped>\n",
       "  .table-result-container {\n",
       "    max-height: 300px;\n",
       "    overflow: auto;\n",
       "  }\n",
       "  table, th, td {\n",
       "    border: 1px solid black;\n",
       "    border-collapse: collapse;\n",
       "  }\n",
       "  th, td {\n",
       "    padding: 5px;\n",
       "  }\n",
       "  th {\n",
       "    text-align: left;\n",
       "  }\n",
       "</style><div class='table-result-container'><table class='table-result'><thead style='background-color: white'><tr><th>passenger_id</th><th>name</th><th>gender</th><th>nationality</th><th>modifiedDate</th><th>DimPassengersKey</th><th>create_date</th><th>update_date</th></tr></thead><tbody><tr><td>P0049</td><td>Justin Thomas</td><td>Female</td><td>Tokelau</td><td>2025-06-23T23:38:01.852Z</td><td>7</td><td>2025-06-23T23:30:44.248Z</td><td>2025-06-23T23:42:13.357Z</td></tr><tr><td>P0108</td><td>Brian Anderson</td><td>Female</td><td>Eritrea</td><td>2025-06-23T23:38:01.852Z</td><td>36</td><td>2025-06-23T23:30:44.248Z</td><td>2025-06-23T23:42:13.357Z</td></tr><tr><td>P0032</td><td>Daniel Douglas</td><td>Male</td><td>Singapore</td><td>2025-06-23T23:38:01.852Z</td><td>46</td><td>2025-06-23T23:30:44.248Z</td><td>2025-06-23T23:42:13.357Z</td></tr><tr><td>P0113</td><td>Brian Richardson</td><td>Male</td><td>Dominican Republic</td><td>2025-06-23T23:38:01.852Z</td><td>50</td><td>2025-06-23T23:30:44.248Z</td><td>2025-06-23T23:42:13.357Z</td></tr><tr><td>P0149</td><td>Katherine Bowen DVM</td><td>Male</td><td>Mexico</td><td>2025-06-23T23:38:01.852Z</td><td>53</td><td>2025-06-23T23:30:44.248Z</td><td>2025-06-23T23:42:13.357Z</td></tr><tr><td>P0158</td><td>Jamie Mcneil</td><td>Male</td><td>Burundi</td><td>2025-06-23T23:38:01.852Z</td><td>76</td><td>2025-06-23T23:30:44.248Z</td><td>2025-06-23T23:42:13.357Z</td></tr><tr><td>P0155</td><td>Robert Singleton</td><td>Female</td><td>Northern Mariana Islands</td><td>2025-06-23T23:38:01.852Z</td><td>82</td><td>2025-06-23T23:30:44.248Z</td><td>2025-06-23T23:42:13.357Z</td></tr><tr><td>P0196</td><td>Monica Dillon</td><td>Female</td><td>Belarus</td><td>2025-06-23T23:38:01.852Z</td><td>86</td><td>2025-06-23T23:30:44.248Z</td><td>2025-06-23T23:42:13.357Z</td></tr><tr><td>P0154</td><td>Angel Thompson</td><td>Female</td><td>Gambia</td><td>2025-06-23T23:38:01.852Z</td><td>110</td><td>2025-06-23T23:30:44.248Z</td><td>2025-06-23T23:42:13.357Z</td></tr><tr><td>P0106</td><td>Joshua Shepherd Jr.</td><td>Female</td><td>Netherlands</td><td>2025-06-23T23:38:01.852Z</td><td>197</td><td>2025-06-23T23:30:44.248Z</td><td>2025-06-23T23:42:13.357Z</td></tr><tr><td>P0225</td><td>William Lopez</td><td>Male</td><td>Heard Island and McDonald Islands</td><td>2025-06-23T23:38:01.852Z</td><td>221</td><td>2025-06-23T23:42:13.357Z</td><td>2025-06-23T23:42:13.357Z</td></tr><tr><td>P0224</td><td>Jason Jensen</td><td>Female</td><td>Rwanda</td><td>2025-06-23T23:38:01.852Z</td><td>222</td><td>2025-06-23T23:42:13.357Z</td><td>2025-06-23T23:42:13.357Z</td></tr><tr><td>P0223</td><td>Nicholas Gomez</td><td>Female</td><td>Cook Islands</td><td>2025-06-23T23:38:01.852Z</td><td>223</td><td>2025-06-23T23:42:13.357Z</td><td>2025-06-23T23:42:13.357Z</td></tr><tr><td>P0222</td><td>Maria Taylor</td><td>Male</td><td>Lao People's Democratic Republic</td><td>2025-06-23T23:38:01.852Z</td><td>224</td><td>2025-06-23T23:42:13.357Z</td><td>2025-06-23T23:42:13.357Z</td></tr><tr><td>P0221</td><td>Amy Welch</td><td>Male</td><td>Croatia</td><td>2025-06-23T23:38:01.852Z</td><td>225</td><td>2025-06-23T23:42:13.357Z</td><td>2025-06-23T23:42:13.357Z</td></tr></tbody></table></div>"
      ]
     },
     "metadata": {
      "application/vnd.databricks.v1+output": {
       "addedWidgets": {},
       "aggData": [],
       "aggError": "",
       "aggOverflow": false,
       "aggSchema": [],
       "aggSeriesLimitReached": false,
       "aggType": "",
       "arguments": {},
       "columnCustomDisplayInfos": {},
       "data": [
        [
         "P0049",
         "Justin Thomas",
         "Female",
         "Tokelau",
         "2025-06-23T23:38:01.852Z",
         7,
         "2025-06-23T23:30:44.248Z",
         "2025-06-23T23:42:13.357Z"
        ],
        [
         "P0108",
         "Brian Anderson",
         "Female",
         "Eritrea",
         "2025-06-23T23:38:01.852Z",
         36,
         "2025-06-23T23:30:44.248Z",
         "2025-06-23T23:42:13.357Z"
        ],
        [
         "P0032",
         "Daniel Douglas",
         "Male",
         "Singapore",
         "2025-06-23T23:38:01.852Z",
         46,
         "2025-06-23T23:30:44.248Z",
         "2025-06-23T23:42:13.357Z"
        ],
        [
         "P0113",
         "Brian Richardson",
         "Male",
         "Dominican Republic",
         "2025-06-23T23:38:01.852Z",
         50,
         "2025-06-23T23:30:44.248Z",
         "2025-06-23T23:42:13.357Z"
        ],
        [
         "P0149",
         "Katherine Bowen DVM",
         "Male",
         "Mexico",
         "2025-06-23T23:38:01.852Z",
         53,
         "2025-06-23T23:30:44.248Z",
         "2025-06-23T23:42:13.357Z"
        ],
        [
         "P0158",
         "Jamie Mcneil",
         "Male",
         "Burundi",
         "2025-06-23T23:38:01.852Z",
         76,
         "2025-06-23T23:30:44.248Z",
         "2025-06-23T23:42:13.357Z"
        ],
        [
         "P0155",
         "Robert Singleton",
         "Female",
         "Northern Mariana Islands",
         "2025-06-23T23:38:01.852Z",
         82,
         "2025-06-23T23:30:44.248Z",
         "2025-06-23T23:42:13.357Z"
        ],
        [
         "P0196",
         "Monica Dillon",
         "Female",
         "Belarus",
         "2025-06-23T23:38:01.852Z",
         86,
         "2025-06-23T23:30:44.248Z",
         "2025-06-23T23:42:13.357Z"
        ],
        [
         "P0154",
         "Angel Thompson",
         "Female",
         "Gambia",
         "2025-06-23T23:38:01.852Z",
         110,
         "2025-06-23T23:30:44.248Z",
         "2025-06-23T23:42:13.357Z"
        ],
        [
         "P0106",
         "Joshua Shepherd Jr.",
         "Female",
         "Netherlands",
         "2025-06-23T23:38:01.852Z",
         197,
         "2025-06-23T23:30:44.248Z",
         "2025-06-23T23:42:13.357Z"
        ],
        [
         "P0225",
         "William Lopez",
         "Male",
         "Heard Island and McDonald Islands",
         "2025-06-23T23:38:01.852Z",
         221,
         "2025-06-23T23:42:13.357Z",
         "2025-06-23T23:42:13.357Z"
        ],
        [
         "P0224",
         "Jason Jensen",
         "Female",
         "Rwanda",
         "2025-06-23T23:38:01.852Z",
         222,
         "2025-06-23T23:42:13.357Z",
         "2025-06-23T23:42:13.357Z"
        ],
        [
         "P0223",
         "Nicholas Gomez",
         "Female",
         "Cook Islands",
         "2025-06-23T23:38:01.852Z",
         223,
         "2025-06-23T23:42:13.357Z",
         "2025-06-23T23:42:13.357Z"
        ],
        [
         "P0222",
         "Maria Taylor",
         "Male",
         "Lao People's Democratic Republic",
         "2025-06-23T23:38:01.852Z",
         224,
         "2025-06-23T23:42:13.357Z",
         "2025-06-23T23:42:13.357Z"
        ],
        [
         "P0221",
         "Amy Welch",
         "Male",
         "Croatia",
         "2025-06-23T23:38:01.852Z",
         225,
         "2025-06-23T23:42:13.357Z",
         "2025-06-23T23:42:13.357Z"
        ]
       ],
       "datasetInfos": [],
       "dbfsResultPath": null,
       "isJsonSchema": true,
       "metadata": {},
       "overflow": false,
       "plotOptions": {
        "customPlotOptions": {},
        "displayType": "table",
        "pivotAggregation": null,
        "pivotColumns": null,
        "xColumns": null,
        "yColumns": null
       },
       "removedWidgets": [],
       "schema": [
        {
         "metadata": "{}",
         "name": "passenger_id",
         "type": "\"string\""
        },
        {
         "metadata": "{}",
         "name": "name",
         "type": "\"string\""
        },
        {
         "metadata": "{}",
         "name": "gender",
         "type": "\"string\""
        },
        {
         "metadata": "{}",
         "name": "nationality",
         "type": "\"string\""
        },
        {
         "metadata": "{}",
         "name": "modifiedDate",
         "type": "\"timestamp\""
        },
        {
         "metadata": "{}",
         "name": "DimPassengersKey",
         "type": "\"long\""
        },
        {
         "metadata": "{}",
         "name": "create_date",
         "type": "\"timestamp\""
        },
        {
         "metadata": "{}",
         "name": "update_date",
         "type": "\"timestamp\""
        }
       ],
       "type": "table"
      }
     },
     "output_type": "display_data"
    }
   ],
   "source": [
    "df_union.display()"
   ]
  },
  {
   "cell_type": "markdown",
   "metadata": {
    "application/vnd.databricks.v1+cell": {
     "cellMetadata": {
      "byteLimit": 2048000,
      "rowLimit": 10000
     },
     "inputWidgets": {},
     "nuid": "26227ab7-3a28-4fcd-b19a-da16d2dbeb6b",
     "showTitle": false,
     "tableResultSettingsMap": {},
     "title": ""
    }
   },
   "source": [
    "## **UPSERT**"
   ]
  },
  {
   "cell_type": "code",
   "execution_count": 0,
   "metadata": {
    "application/vnd.databricks.v1+cell": {
     "cellMetadata": {
      "byteLimit": 2048000,
      "rowLimit": 10000
     },
     "inputWidgets": {},
     "nuid": "c3fc9406-0a75-4dac-ac62-fa2ad09eb1fb",
     "showTitle": false,
     "tableResultSettingsMap": {},
     "title": ""
    }
   },
   "outputs": [],
   "source": [
    "from delta.tables import DeltaTable "
   ]
  },
  {
   "cell_type": "code",
   "execution_count": 0,
   "metadata": {
    "application/vnd.databricks.v1+cell": {
     "cellMetadata": {
      "byteLimit": 2048000,
      "rowLimit": 10000
     },
     "inputWidgets": {},
     "nuid": "e5e342a6-229d-4af7-ab78-f9b6693ff231",
     "showTitle": false,
     "tableResultSettingsMap": {},
     "title": ""
    }
   },
   "outputs": [],
   "source": [
    "if spark.catalog.tableExists(f\"{catalog}.{target_schema}.{target_object}\"):\n",
    "\n",
    "    dlt_obj = DeltaTable.forName(spark, f\"{catalog}.{target_schema}.{target_object}\")\n",
    "    dlt_obj.alias(\"trg\").merge(df_union.alias(\"src\"), f\"trg.{surrogate_key} = src.{surrogate_key}\")\\\n",
    "                        .whenMatchedUpdateAll(condition = f\"src.{cdc_col} >= trg.{cdc_col}\")\\\n",
    "                        .whenNotMatchedInsertAll()\\\n",
    "                        .execute()\n",
    "\n",
    "else: \n",
    "\n",
    "    df_union.write.format(\"delta\")\\\n",
    "            .mode(\"append\")\\\n",
    "            .saveAsTable(f\"{catalog}.{target_schema}.{target_object}\")\n"
   ]
  },
  {
   "cell_type": "code",
   "execution_count": 0,
   "metadata": {
    "application/vnd.databricks.v1+cell": {
     "cellMetadata": {
      "byteLimit": 2048000,
      "implicitDf": true,
      "rowLimit": 10000
     },
     "inputWidgets": {},
     "nuid": "8766f375-643d-4fb1-8499-a4bef15c3f1b",
     "showTitle": false,
     "tableResultSettingsMap": {},
     "title": ""
    }
   },
   "outputs": [
    {
     "output_type": "display_data",
     "data": {
      "text/html": [
       "<style scoped>\n",
       "  .table-result-container {\n",
       "    max-height: 300px;\n",
       "    overflow: auto;\n",
       "  }\n",
       "  table, th, td {\n",
       "    border: 1px solid black;\n",
       "    border-collapse: collapse;\n",
       "  }\n",
       "  th, td {\n",
       "    padding: 5px;\n",
       "  }\n",
       "  th {\n",
       "    text-align: left;\n",
       "  }\n",
       "</style><div class='table-result-container'><table class='table-result'><thead style='background-color: white'><tr><th>passenger_id</th><th>name</th><th>gender</th><th>nationality</th><th>modifiedDate</th><th>DimPassengersKey</th><th>create_date</th><th>update_date</th></tr></thead><tbody><tr><td>P0049</td><td>Justin Thomas</td><td>Female</td><td>Tokelau</td><td>2025-06-23T23:38:01.852Z</td><td>7</td><td>2025-06-23T23:30:44.248Z</td><td>2025-06-23T23:42:14.906Z</td></tr></tbody></table></div>"
      ]
     },
     "metadata": {
      "application/vnd.databricks.v1+output": {
       "addedWidgets": {},
       "aggData": [],
       "aggError": "",
       "aggOverflow": false,
       "aggSchema": [],
       "aggSeriesLimitReached": false,
       "aggType": "",
       "arguments": {},
       "columnCustomDisplayInfos": {},
       "data": [
        [
         "P0049",
         "Justin Thomas",
         "Female",
         "Tokelau",
         "2025-06-23T23:38:01.852Z",
         7,
         "2025-06-23T23:30:44.248Z",
         "2025-06-23T23:42:14.906Z"
        ]
       ],
       "datasetInfos": [
        {
         "name": "_sqldf",
         "schema": {
          "fields": [
           {
            "metadata": {},
            "name": "passenger_id",
            "nullable": true,
            "type": "string"
           },
           {
            "metadata": {},
            "name": "name",
            "nullable": true,
            "type": "string"
           },
           {
            "metadata": {},
            "name": "gender",
            "nullable": true,
            "type": "string"
           },
           {
            "metadata": {},
            "name": "nationality",
            "nullable": true,
            "type": "string"
           },
           {
            "metadata": {},
            "name": "modifiedDate",
            "nullable": true,
            "type": "timestamp"
           },
           {
            "metadata": {},
            "name": "DimPassengersKey",
            "nullable": true,
            "type": "long"
           },
           {
            "metadata": {},
            "name": "create_date",
            "nullable": true,
            "type": "timestamp"
           },
           {
            "metadata": {},
            "name": "update_date",
            "nullable": true,
            "type": "timestamp"
           }
          ],
          "type": "struct"
         },
         "tableIdentifier": null,
         "typeStr": "pyspark.sql.connect.dataframe.DataFrame"
        }
       ],
       "dbfsResultPath": null,
       "isJsonSchema": true,
       "metadata": {
        "createTempViewForImplicitDf": true,
        "dataframeName": "_sqldf",
        "executionCount": 341
       },
       "overflow": false,
       "plotOptions": {
        "customPlotOptions": {},
        "displayType": "table",
        "pivotAggregation": null,
        "pivotColumns": null,
        "xColumns": null,
        "yColumns": null
       },
       "removedWidgets": [],
       "schema": [
        {
         "metadata": "{}",
         "name": "passenger_id",
         "type": "\"string\""
        },
        {
         "metadata": "{}",
         "name": "name",
         "type": "\"string\""
        },
        {
         "metadata": "{}",
         "name": "gender",
         "type": "\"string\""
        },
        {
         "metadata": "{}",
         "name": "nationality",
         "type": "\"string\""
        },
        {
         "metadata": "{}",
         "name": "modifiedDate",
         "type": "\"timestamp\""
        },
        {
         "metadata": "{}",
         "name": "DimPassengersKey",
         "type": "\"long\""
        },
        {
         "metadata": "{}",
         "name": "create_date",
         "type": "\"timestamp\""
        },
        {
         "metadata": "{}",
         "name": "update_date",
         "type": "\"timestamp\""
        }
       ],
       "type": "table"
      }
     },
     "output_type": "display_data"
    }
   ],
   "source": [
    "%sql\n",
    "select * from workspace.gold.dimpassengers where passenger_id = 'P0049'"
   ]
  },
  {
   "cell_type": "code",
   "execution_count": 0,
   "metadata": {
    "application/vnd.databricks.v1+cell": {
     "cellMetadata": {
      "byteLimit": 2048000,
      "rowLimit": 10000
     },
     "inputWidgets": {},
     "nuid": "ddd6ab73-1d1d-402c-8f23-a9c63b15bc51",
     "showTitle": false,
     "tableResultSettingsMap": {},
     "title": ""
    }
   },
   "outputs": [],
   "source": []
  }
 ],
 "metadata": {
  "application/vnd.databricks.v1+notebook": {
   "computePreferences": null,
   "dashboards": [],
   "environmentMetadata": {
    "base_environment": "",
    "environment_version": "2"
   },
   "inputWidgetPreferences": null,
   "language": "python",
   "notebookMetadata": {
    "mostRecentlyExecutedCommandWithImplicitDF": {
     "commandId": 4828103698282968,
     "dataframes": [
      "_sqldf"
     ]
    },
    "pythonIndentUnit": 4,
    "widgetLayout": []
   },
   "notebookName": "GOLD_DIMS",
   "widgets": {}
  },
  "language_info": {
   "name": "python"
  }
 },
 "nbformat": 4,
 "nbformat_minor": 0
}