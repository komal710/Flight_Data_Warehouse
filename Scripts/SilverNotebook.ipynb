{
 "cells": [
  {
   "cell_type": "code",
   "execution_count": 0,
   "metadata": {
    "application/vnd.databricks.v1+cell": {
     "cellMetadata": {
      "byteLimit": 2048000,
      "implicitDf": true,
      "rowLimit": 10000
     },
     "inputWidgets": {},
     "nuid": "716d0ef7-5d55-483c-8f18-c4065c47b36f",
     "showTitle": false,
     "tableResultSettingsMap": {},
     "title": ""
    }
   },
   "outputs": [
    {
     "output_type": "display_data",
     "data": {
      "text/html": [
       "<style scoped>\n",
       "  .table-result-container {\n",
       "    max-height: 300px;\n",
       "    overflow: auto;\n",
       "  }\n",
       "  table, th, td {\n",
       "    border: 1px solid black;\n",
       "    border-collapse: collapse;\n",
       "  }\n",
       "  th, td {\n",
       "    padding: 5px;\n",
       "  }\n",
       "  th {\n",
       "    text-align: left;\n",
       "  }\n",
       "</style><div class='table-result-container'><table class='table-result'><thead style='background-color: white'><tr><th>airport_id</th><th>airport_name</th><th>city</th><th>country</th><th>modifiedDate</th></tr></thead><tbody><tr><td>A012</td><td>East Nancy International Airport</td><td>Crosston</td><td>Romania</td><td>2025-07-15T08:14:11.922Z</td></tr><tr><td>A044</td><td>Cordovaview International Airport</td><td>Shannonport</td><td>Gabon</td><td>2025-07-15T08:14:11.922Z</td></tr><tr><td>A047</td><td>New Michaelland International Airport</td><td>Sanchezberg</td><td>Hong Kong</td><td>2025-07-15T08:14:11.922Z</td></tr><tr><td>A050</td><td>Paultown International Airport</td><td>North Richardmouth</td><td>France</td><td>2025-07-15T08:14:11.922Z</td></tr><tr><td>A009</td><td>New Joshuafurt International Airport</td><td>Port Jamiehaven</td><td>Pitcairn Islands</td><td>2025-07-15T08:14:11.922Z</td></tr><tr><td>A023</td><td>Maryfurt International Airport</td><td>Lake Kennethfurt</td><td>Panama</td><td>2025-07-15T08:14:11.922Z</td></tr><tr><td>A043</td><td>Kaylaland International Airport</td><td>Schultzhaven</td><td>Sweden</td><td>2025-07-15T08:14:11.922Z</td></tr><tr><td>A022</td><td>Blankenshipport International Airport</td><td>Sherryville</td><td>Bhutan</td><td>2025-07-15T08:14:11.922Z</td></tr><tr><td>A032</td><td>East Robinmouth International Airport</td><td>Sharonstad</td><td>Poland</td><td>2025-07-15T08:14:11.922Z</td></tr><tr><td>A005</td><td>East Aaron International Airport</td><td>Davishaven</td><td>Monaco</td><td>2025-07-15T08:14:11.922Z</td></tr><tr><td>A014</td><td>Brittanyshire International Airport</td><td>Kylechester</td><td>Mauritius</td><td>2025-07-15T08:14:11.922Z</td></tr><tr><td>A028</td><td>Hamiltonview International Airport</td><td>Isaacland</td><td>Lebanon</td><td>2025-07-15T08:14:11.922Z</td></tr><tr><td>A029</td><td>New Amber International Airport</td><td>Davismouth</td><td>Congo</td><td>2025-07-15T08:14:11.922Z</td></tr><tr><td>A040</td><td>Jillville International Airport</td><td>Wallerchester</td><td>Libyan Arab Jamahiriya</td><td>2025-07-15T08:14:11.922Z</td></tr><tr><td>A003</td><td>Brownland International Airport</td><td>Samuelville</td><td>Costa Rica</td><td>2025-07-15T08:14:11.922Z</td></tr><tr><td>A011</td><td>Alisonville International Airport</td><td>West Annaburgh</td><td>Mexico</td><td>2025-07-15T08:14:11.922Z</td></tr><tr><td>A025</td><td>East Tiffanymouth International Airport</td><td>North Ashley</td><td>Gambia</td><td>2025-07-15T08:14:11.922Z</td></tr><tr><td>A039</td><td>Reneeborough International Airport</td><td>East Amanda</td><td>Germany</td><td>2025-07-15T08:14:11.922Z</td></tr><tr><td>A042</td><td>West Matthew International Airport</td><td>Reedshire</td><td>Lithuania</td><td>2025-07-15T08:14:11.922Z</td></tr><tr><td>A002</td><td>East Kristin International Airport</td><td>North Michaelview</td><td>Bosnia and Herzegovina</td><td>2025-07-15T08:14:11.922Z</td></tr><tr><td>A006</td><td>Michaelburgh International Airport</td><td>East Blake</td><td>Iceland</td><td>2025-07-15T08:14:11.922Z</td></tr><tr><td>A015</td><td>North Erinberg International Airport</td><td>Walshtown</td><td>South Georgia and the South Sandwich Islands</td><td>2025-07-15T08:14:11.922Z</td></tr><tr><td>A026</td><td>New Isaiah International Airport</td><td>Lake Melissaland</td><td>Cote d'Ivoire</td><td>2025-07-15T08:14:11.922Z</td></tr><tr><td>A034</td><td>West Matthew International Airport</td><td>Wigginsmouth</td><td>Czech Republic</td><td>2025-07-15T08:14:11.922Z</td></tr><tr><td>A013</td><td>West Christianstad International Airport</td><td>North Janetton</td><td>Qatar</td><td>2025-07-15T08:14:11.922Z</td></tr><tr><td>A004</td><td>Meghanton International Airport</td><td>Andrewsmouth</td><td>Macedonia</td><td>2025-07-15T08:14:11.922Z</td></tr><tr><td>A041</td><td>Lake Amber International Airport</td><td>Brownstad</td><td>Algeria</td><td>2025-07-15T08:14:11.922Z</td></tr><tr><td>A048</td><td>Sarahmouth International Airport</td><td>Edwardmouth</td><td>Malaysia</td><td>2025-07-15T08:14:11.922Z</td></tr><tr><td>A001</td><td>Gregoryland International Airport</td><td>Kristenmouth</td><td>South Georgia and the South Sandwich Islands</td><td>2025-07-15T08:14:11.922Z</td></tr><tr><td>A007</td><td>West Jennifer International Airport</td><td>Jillianstad</td><td>Libyan Arab Jamahiriya</td><td>2025-07-15T08:14:11.922Z</td></tr><tr><td>A010</td><td>Thompsontown International Airport</td><td>Murraychester</td><td>Ireland</td><td>2025-07-15T08:14:11.922Z</td></tr><tr><td>A037</td><td>Francobury International Airport</td><td>Foleyland</td><td>Denmark</td><td>2025-07-15T08:14:11.922Z</td></tr><tr><td>A016</td><td>Davidhaven International Airport</td><td>South Michael</td><td>Holy See (Vatican City State)</td><td>2025-07-15T08:14:11.922Z</td></tr><tr><td>A017</td><td>West Melissaborough International Airport</td><td>North Robertburgh</td><td>Switzerland</td><td>2025-07-15T08:14:11.922Z</td></tr><tr><td>A018</td><td>Lake Mandyport International Airport</td><td>Englishfort</td><td>Russian Federation</td><td>2025-07-15T08:14:11.922Z</td></tr><tr><td>A020</td><td>Port Lori International Airport</td><td>Nicholaston</td><td>Martinique</td><td>2025-07-15T08:14:11.922Z</td></tr><tr><td>A035</td><td>Chavezchester International Airport</td><td>Port Meganhaven</td><td>Niger</td><td>2025-07-15T08:14:11.922Z</td></tr><tr><td>A033</td><td>Perezbury International Airport</td><td>West Maryville</td><td>Korea</td><td>2025-07-15T08:14:11.922Z</td></tr><tr><td>A045</td><td>Stoneport International Airport</td><td>New Joseph</td><td>Georgia</td><td>2025-07-15T08:14:11.922Z</td></tr><tr><td>A008</td><td>Port Craig International Airport</td><td>New Lisa</td><td>French Southern Territories</td><td>2025-07-15T08:14:11.922Z</td></tr><tr><td>A021</td><td>Phillipsburgh International Airport</td><td>West Ritaland</td><td>Colombia</td><td>2025-07-15T08:14:11.922Z</td></tr><tr><td>A027</td><td>West Patricia International Airport</td><td>Wilsonmouth</td><td>Djibouti</td><td>2025-07-15T08:14:11.922Z</td></tr><tr><td>A049</td><td>North Heather International Airport</td><td>West Andrewview</td><td>Netherlands Antilles</td><td>2025-07-15T08:14:11.922Z</td></tr><tr><td>A019</td><td>East Gregtown International Airport</td><td>Downsborough</td><td>Kazakhstan</td><td>2025-07-15T08:14:11.922Z</td></tr><tr><td>A031</td><td>East Paulahaven International Airport</td><td>New Charlesberg</td><td>Thailand</td><td>2025-07-15T08:14:11.922Z</td></tr><tr><td>A036</td><td>Teresaberg International Airport</td><td>Taylorshire</td><td>Cayman Islands</td><td>2025-07-15T08:14:11.922Z</td></tr><tr><td>A038</td><td>South Caroline International Airport</td><td>Sarahchester</td><td>New Zealand</td><td>2025-07-15T08:14:11.922Z</td></tr><tr><td>A024</td><td>West Barbara International Airport</td><td>Sherribury</td><td>Tokelau</td><td>2025-07-15T08:14:11.922Z</td></tr><tr><td>A030</td><td>Leeport International Airport</td><td>Lake Gary</td><td>Armenia</td><td>2025-07-15T08:14:11.922Z</td></tr><tr><td>A046</td><td>Janetview International Airport</td><td>West Steventon</td><td>Bahamas</td><td>2025-07-15T08:14:11.922Z</td></tr><tr><td>A052</td><td>East Cynthia International Airport</td><td>Gibbsfurt</td><td>Ecuador</td><td>2025-07-15T08:14:11.922Z</td></tr><tr><td>A051</td><td>Amandaport International Airport</td><td>Jamestown</td><td>Micronesia</td><td>2025-07-15T08:14:11.922Z</td></tr><tr><td>A054</td><td>Jonestown International Airport</td><td>Garciaview</td><td>Colombia</td><td>2025-07-15T08:14:11.922Z</td></tr><tr><td>A055</td><td>Port Jamieport International Airport</td><td>Sarahstad</td><td>Netherlands</td><td>2025-07-15T08:14:11.922Z</td></tr><tr><td>A053</td><td>South Corey International Airport</td><td>Johnsonfort</td><td>Switzerland</td><td>2025-07-15T08:14:11.922Z</td></tr></tbody></table></div>"
      ]
     },
     "metadata": {
      "application/vnd.databricks.v1+output": {
       "addedWidgets": {},
       "aggData": [],
       "aggError": "",
       "aggOverflow": false,
       "aggSchema": [],
       "aggSeriesLimitReached": false,
       "aggType": "",
       "arguments": {},
       "columnCustomDisplayInfos": {},
       "data": [
        [
         "A012",
         "East Nancy International Airport",
         "Crosston",
         "Romania",
         "2025-07-15T08:14:11.922Z"
        ],
        [
         "A044",
         "Cordovaview International Airport",
         "Shannonport",
         "Gabon",
         "2025-07-15T08:14:11.922Z"
        ],
        [
         "A047",
         "New Michaelland International Airport",
         "Sanchezberg",
         "Hong Kong",
         "2025-07-15T08:14:11.922Z"
        ],
        [
         "A050",
         "Paultown International Airport",
         "North Richardmouth",
         "France",
         "2025-07-15T08:14:11.922Z"
        ],
        [
         "A009",
         "New Joshuafurt International Airport",
         "Port Jamiehaven",
         "Pitcairn Islands",
         "2025-07-15T08:14:11.922Z"
        ],
        [
         "A023",
         "Maryfurt International Airport",
         "Lake Kennethfurt",
         "Panama",
         "2025-07-15T08:14:11.922Z"
        ],
        [
         "A043",
         "Kaylaland International Airport",
         "Schultzhaven",
         "Sweden",
         "2025-07-15T08:14:11.922Z"
        ],
        [
         "A022",
         "Blankenshipport International Airport",
         "Sherryville",
         "Bhutan",
         "2025-07-15T08:14:11.922Z"
        ],
        [
         "A032",
         "East Robinmouth International Airport",
         "Sharonstad",
         "Poland",
         "2025-07-15T08:14:11.922Z"
        ],
        [
         "A005",
         "East Aaron International Airport",
         "Davishaven",
         "Monaco",
         "2025-07-15T08:14:11.922Z"
        ],
        [
         "A014",
         "Brittanyshire International Airport",
         "Kylechester",
         "Mauritius",
         "2025-07-15T08:14:11.922Z"
        ],
        [
         "A028",
         "Hamiltonview International Airport",
         "Isaacland",
         "Lebanon",
         "2025-07-15T08:14:11.922Z"
        ],
        [
         "A029",
         "New Amber International Airport",
         "Davismouth",
         "Congo",
         "2025-07-15T08:14:11.922Z"
        ],
        [
         "A040",
         "Jillville International Airport",
         "Wallerchester",
         "Libyan Arab Jamahiriya",
         "2025-07-15T08:14:11.922Z"
        ],
        [
         "A003",
         "Brownland International Airport",
         "Samuelville",
         "Costa Rica",
         "2025-07-15T08:14:11.922Z"
        ],
        [
         "A011",
         "Alisonville International Airport",
         "West Annaburgh",
         "Mexico",
         "2025-07-15T08:14:11.922Z"
        ],
        [
         "A025",
         "East Tiffanymouth International Airport",
         "North Ashley",
         "Gambia",
         "2025-07-15T08:14:11.922Z"
        ],
        [
         "A039",
         "Reneeborough International Airport",
         "East Amanda",
         "Germany",
         "2025-07-15T08:14:11.922Z"
        ],
        [
         "A042",
         "West Matthew International Airport",
         "Reedshire",
         "Lithuania",
         "2025-07-15T08:14:11.922Z"
        ],
        [
         "A002",
         "East Kristin International Airport",
         "North Michaelview",
         "Bosnia and Herzegovina",
         "2025-07-15T08:14:11.922Z"
        ],
        [
         "A006",
         "Michaelburgh International Airport",
         "East Blake",
         "Iceland",
         "2025-07-15T08:14:11.922Z"
        ],
        [
         "A015",
         "North Erinberg International Airport",
         "Walshtown",
         "South Georgia and the South Sandwich Islands",
         "2025-07-15T08:14:11.922Z"
        ],
        [
         "A026",
         "New Isaiah International Airport",
         "Lake Melissaland",
         "Cote d'Ivoire",
         "2025-07-15T08:14:11.922Z"
        ],
        [
         "A034",
         "West Matthew International Airport",
         "Wigginsmouth",
         "Czech Republic",
         "2025-07-15T08:14:11.922Z"
        ],
        [
         "A013",
         "West Christianstad International Airport",
         "North Janetton",
         "Qatar",
         "2025-07-15T08:14:11.922Z"
        ],
        [
         "A004",
         "Meghanton International Airport",
         "Andrewsmouth",
         "Macedonia",
         "2025-07-15T08:14:11.922Z"
        ],
        [
         "A041",
         "Lake Amber International Airport",
         "Brownstad",
         "Algeria",
         "2025-07-15T08:14:11.922Z"
        ],
        [
         "A048",
         "Sarahmouth International Airport",
         "Edwardmouth",
         "Malaysia",
         "2025-07-15T08:14:11.922Z"
        ],
        [
         "A001",
         "Gregoryland International Airport",
         "Kristenmouth",
         "South Georgia and the South Sandwich Islands",
         "2025-07-15T08:14:11.922Z"
        ],
        [
         "A007",
         "West Jennifer International Airport",
         "Jillianstad",
         "Libyan Arab Jamahiriya",
         "2025-07-15T08:14:11.922Z"
        ],
        [
         "A010",
         "Thompsontown International Airport",
         "Murraychester",
         "Ireland",
         "2025-07-15T08:14:11.922Z"
        ],
        [
         "A037",
         "Francobury International Airport",
         "Foleyland",
         "Denmark",
         "2025-07-15T08:14:11.922Z"
        ],
        [
         "A016",
         "Davidhaven International Airport",
         "South Michael",
         "Holy See (Vatican City State)",
         "2025-07-15T08:14:11.922Z"
        ],
        [
         "A017",
         "West Melissaborough International Airport",
         "North Robertburgh",
         "Switzerland",
         "2025-07-15T08:14:11.922Z"
        ],
        [
         "A018",
         "Lake Mandyport International Airport",
         "Englishfort",
         "Russian Federation",
         "2025-07-15T08:14:11.922Z"
        ],
        [
         "A020",
         "Port Lori International Airport",
         "Nicholaston",
         "Martinique",
         "2025-07-15T08:14:11.922Z"
        ],
        [
         "A035",
         "Chavezchester International Airport",
         "Port Meganhaven",
         "Niger",
         "2025-07-15T08:14:11.922Z"
        ],
        [
         "A033",
         "Perezbury International Airport",
         "West Maryville",
         "Korea",
         "2025-07-15T08:14:11.922Z"
        ],
        [
         "A045",
         "Stoneport International Airport",
         "New Joseph",
         "Georgia",
         "2025-07-15T08:14:11.922Z"
        ],
        [
         "A008",
         "Port Craig International Airport",
         "New Lisa",
         "French Southern Territories",
         "2025-07-15T08:14:11.922Z"
        ],
        [
         "A021",
         "Phillipsburgh International Airport",
         "West Ritaland",
         "Colombia",
         "2025-07-15T08:14:11.922Z"
        ],
        [
         "A027",
         "West Patricia International Airport",
         "Wilsonmouth",
         "Djibouti",
         "2025-07-15T08:14:11.922Z"
        ],
        [
         "A049",
         "North Heather International Airport",
         "West Andrewview",
         "Netherlands Antilles",
         "2025-07-15T08:14:11.922Z"
        ],
        [
         "A019",
         "East Gregtown International Airport",
         "Downsborough",
         "Kazakhstan",
         "2025-07-15T08:14:11.922Z"
        ],
        [
         "A031",
         "East Paulahaven International Airport",
         "New Charlesberg",
         "Thailand",
         "2025-07-15T08:14:11.922Z"
        ],
        [
         "A036",
         "Teresaberg International Airport",
         "Taylorshire",
         "Cayman Islands",
         "2025-07-15T08:14:11.922Z"
        ],
        [
         "A038",
         "South Caroline International Airport",
         "Sarahchester",
         "New Zealand",
         "2025-07-15T08:14:11.922Z"
        ],
        [
         "A024",
         "West Barbara International Airport",
         "Sherribury",
         "Tokelau",
         "2025-07-15T08:14:11.922Z"
        ],
        [
         "A030",
         "Leeport International Airport",
         "Lake Gary",
         "Armenia",
         "2025-07-15T08:14:11.922Z"
        ],
        [
         "A046",
         "Janetview International Airport",
         "West Steventon",
         "Bahamas",
         "2025-07-15T08:14:11.922Z"
        ],
        [
         "A052",
         "East Cynthia International Airport",
         "Gibbsfurt",
         "Ecuador",
         "2025-07-15T08:14:11.922Z"
        ],
        [
         "A051",
         "Amandaport International Airport",
         "Jamestown",
         "Micronesia",
         "2025-07-15T08:14:11.922Z"
        ],
        [
         "A054",
         "Jonestown International Airport",
         "Garciaview",
         "Colombia",
         "2025-07-15T08:14:11.922Z"
        ],
        [
         "A055",
         "Port Jamieport International Airport",
         "Sarahstad",
         "Netherlands",
         "2025-07-15T08:14:11.922Z"
        ],
        [
         "A053",
         "South Corey International Airport",
         "Johnsonfort",
         "Switzerland",
         "2025-07-15T08:14:11.922Z"
        ]
       ],
       "datasetInfos": [
        {
         "name": "_sqldf",
         "schema": {
          "fields": [
           {
            "metadata": {},
            "name": "airport_id",
            "nullable": true,
            "type": "string"
           },
           {
            "metadata": {},
            "name": "airport_name",
            "nullable": true,
            "type": "string"
           },
           {
            "metadata": {},
            "name": "city",
            "nullable": true,
            "type": "string"
           },
           {
            "metadata": {},
            "name": "country",
            "nullable": true,
            "type": "string"
           },
           {
            "metadata": {},
            "name": "modifiedDate",
            "nullable": true,
            "type": "timestamp"
           }
          ],
          "type": "struct"
         },
         "tableIdentifier": null,
         "typeStr": "pyspark.sql.connect.dataframe.DataFrame"
        }
       ],
       "dbfsResultPath": null,
       "isJsonSchema": true,
       "metadata": {
        "createTempViewForImplicitDf": true,
        "dataframeName": "_sqldf",
        "executionCount": 2
       },
       "overflow": false,
       "plotOptions": {
        "customPlotOptions": {},
        "displayType": "table",
        "pivotAggregation": null,
        "pivotColumns": null,
        "xColumns": null,
        "yColumns": null
       },
       "removedWidgets": [],
       "schema": [
        {
         "metadata": "{}",
         "name": "airport_id",
         "type": "\"string\""
        },
        {
         "metadata": "{}",
         "name": "airport_name",
         "type": "\"string\""
        },
        {
         "metadata": "{}",
         "name": "city",
         "type": "\"string\""
        },
        {
         "metadata": "{}",
         "name": "country",
         "type": "\"string\""
        },
        {
         "metadata": "{}",
         "name": "modifiedDate",
         "type": "\"timestamp\""
        }
       ],
       "type": "table"
      }
     },
     "output_type": "display_data"
    }
   ],
   "source": [
    "%sql\n",
    "select * from workspace.silver.silver_airports"
   ]
  },
  {
   "cell_type": "code",
   "execution_count": 0,
   "metadata": {
    "application/vnd.databricks.v1+cell": {
     "cellMetadata": {
      "byteLimit": 2048000,
      "rowLimit": 10000
     },
     "inputWidgets": {},
     "nuid": "cd3b8d52-a54e-48eb-85d7-ae9ee0e2382f",
     "showTitle": false,
     "tableResultSettingsMap": {},
     "title": ""
    }
   },
   "outputs": [],
   "source": [
    "from pyspark.sql.functions import *\n",
    "from pyspark.sql.types import *"
   ]
  },
  {
   "cell_type": "code",
   "execution_count": 0,
   "metadata": {
    "application/vnd.databricks.v1+cell": {
     "cellMetadata": {
      "byteLimit": 2048000,
      "rowLimit": 10000
     },
     "inputWidgets": {},
     "nuid": "aed888b8-6d7e-4c2b-9069-2f4d6e57decc",
     "showTitle": false,
     "tableResultSettingsMap": {},
     "title": ""
    }
   },
   "outputs": [
    {
     "output_type": "display_data",
     "data": {
      "text/html": [
       "<style scoped>\n",
       "  .table-result-container {\n",
       "    max-height: 300px;\n",
       "    overflow: auto;\n",
       "  }\n",
       "  table, th, td {\n",
       "    border: 1px solid black;\n",
       "    border-collapse: collapse;\n",
       "  }\n",
       "  th, td {\n",
       "    padding: 5px;\n",
       "  }\n",
       "  th {\n",
       "    text-align: left;\n",
       "  }\n",
       "</style><div class='table-result-container'><table class='table-result'><thead style='background-color: white'><tr><th>airport_id</th><th>airport_name</th><th>city</th><th>country</th><th>_rescued_data</th></tr></thead><tbody><tr><td>A001</td><td>Gregoryland International Airport</td><td>Kristenmouth</td><td>South Georgia and the South Sandwich Islands</td><td>null</td></tr><tr><td>A002</td><td>East Kristin International Airport</td><td>North Michaelview</td><td>Bosnia and Herzegovina</td><td>null</td></tr><tr><td>A003</td><td>Brownland International Airport</td><td>Samuelville</td><td>Costa Rica</td><td>null</td></tr><tr><td>A004</td><td>Meghanton International Airport</td><td>Andrewsmouth</td><td>Macedonia</td><td>null</td></tr><tr><td>A005</td><td>East Aaron International Airport</td><td>Davishaven</td><td>Monaco</td><td>null</td></tr><tr><td>A006</td><td>Michaelburgh International Airport</td><td>East Blake</td><td>Iceland</td><td>null</td></tr><tr><td>A007</td><td>West Jennifer International Airport</td><td>Jillianstad</td><td>Libyan Arab Jamahiriya</td><td>null</td></tr><tr><td>A008</td><td>Port Craig International Airport</td><td>New Lisa</td><td>French Southern Territories</td><td>null</td></tr><tr><td>A009</td><td>New Joshuafurt International Airport</td><td>Port Jamiehaven</td><td>Pitcairn Islands</td><td>null</td></tr><tr><td>A010</td><td>Thompsontown International Airport</td><td>Murraychester</td><td>Ireland</td><td>null</td></tr><tr><td>A011</td><td>Alisonville International Airport</td><td>West Annaburgh</td><td>Mexico</td><td>null</td></tr><tr><td>A012</td><td>East Nancy International Airport</td><td>Crosston</td><td>Romania</td><td>null</td></tr><tr><td>A013</td><td>West Christianstad International Airport</td><td>North Janetton</td><td>Qatar</td><td>null</td></tr><tr><td>A014</td><td>Brittanyshire International Airport</td><td>Kylechester</td><td>Mauritius</td><td>null</td></tr><tr><td>A015</td><td>North Erinberg International Airport</td><td>Walshtown</td><td>South Georgia and the South Sandwich Islands</td><td>null</td></tr><tr><td>A016</td><td>Davidhaven International Airport</td><td>South Michael</td><td>Holy See (Vatican City State)</td><td>null</td></tr><tr><td>A017</td><td>West Melissaborough International Airport</td><td>North Robertburgh</td><td>Switzerland</td><td>null</td></tr><tr><td>A018</td><td>Lake Mandyport International Airport</td><td>Englishfort</td><td>Russian Federation</td><td>null</td></tr><tr><td>A019</td><td>East Gregtown International Airport</td><td>Downsborough</td><td>Kazakhstan</td><td>null</td></tr><tr><td>A020</td><td>Port Lori International Airport</td><td>Nicholaston</td><td>Martinique</td><td>null</td></tr><tr><td>A021</td><td>Phillipsburgh International Airport</td><td>West Ritaland</td><td>Colombia</td><td>null</td></tr><tr><td>A022</td><td>Blankenshipport International Airport</td><td>Sherryville</td><td>Bhutan</td><td>null</td></tr><tr><td>A023</td><td>Maryfurt International Airport</td><td>Lake Kennethfurt</td><td>Panama</td><td>null</td></tr><tr><td>A024</td><td>West Barbara International Airport</td><td>Sherribury</td><td>Tokelau</td><td>null</td></tr><tr><td>A025</td><td>East Tiffanymouth International Airport</td><td>North Ashley</td><td>Gambia</td><td>null</td></tr><tr><td>A026</td><td>New Isaiah International Airport</td><td>Lake Melissaland</td><td>Cote d'Ivoire</td><td>null</td></tr><tr><td>A027</td><td>West Patricia International Airport</td><td>Wilsonmouth</td><td>Djibouti</td><td>null</td></tr><tr><td>A028</td><td>Hamiltonview International Airport</td><td>Isaacland</td><td>Lebanon</td><td>null</td></tr><tr><td>A029</td><td>New Amber International Airport</td><td>Davismouth</td><td>Congo</td><td>null</td></tr><tr><td>A030</td><td>Leeport International Airport</td><td>Lake Gary</td><td>Armenia</td><td>null</td></tr><tr><td>A031</td><td>East Paulahaven International Airport</td><td>New Charlesberg</td><td>Thailand</td><td>null</td></tr><tr><td>A032</td><td>East Robinmouth International Airport</td><td>Sharonstad</td><td>Poland</td><td>null</td></tr><tr><td>A033</td><td>Perezbury International Airport</td><td>West Maryville</td><td>Korea</td><td>null</td></tr><tr><td>A034</td><td>West Matthew International Airport</td><td>Wigginsmouth</td><td>Czech Republic</td><td>null</td></tr><tr><td>A035</td><td>Chavezchester International Airport</td><td>Port Meganhaven</td><td>Niger</td><td>null</td></tr><tr><td>A036</td><td>Teresaberg International Airport</td><td>Taylorshire</td><td>Cayman Islands</td><td>null</td></tr><tr><td>A037</td><td>Francobury International Airport</td><td>Foleyland</td><td>Denmark</td><td>null</td></tr><tr><td>A038</td><td>South Caroline International Airport</td><td>Sarahchester</td><td>New Zealand</td><td>null</td></tr><tr><td>A039</td><td>Reneeborough International Airport</td><td>East Amanda</td><td>Germany</td><td>null</td></tr><tr><td>A040</td><td>Jillville International Airport</td><td>Wallerchester</td><td>Libyan Arab Jamahiriya</td><td>null</td></tr><tr><td>A041</td><td>Lake Amber International Airport</td><td>Brownstad</td><td>Algeria</td><td>null</td></tr><tr><td>A042</td><td>West Matthew International Airport</td><td>Reedshire</td><td>Lithuania</td><td>null</td></tr><tr><td>A043</td><td>Kaylaland International Airport</td><td>Schultzhaven</td><td>Sweden</td><td>null</td></tr><tr><td>A044</td><td>Cordovaview International Airport</td><td>Shannonport</td><td>Gabon</td><td>null</td></tr><tr><td>A045</td><td>Stoneport International Airport</td><td>New Joseph</td><td>Georgia</td><td>null</td></tr><tr><td>A046</td><td>Janetview International Airport</td><td>West Steventon</td><td>Bahamas</td><td>null</td></tr><tr><td>A047</td><td>New Michaelland International Airport</td><td>Sanchezberg</td><td>Hong Kong</td><td>null</td></tr><tr><td>A048</td><td>Sarahmouth International Airport</td><td>Edwardmouth</td><td>Malaysia</td><td>null</td></tr><tr><td>A049</td><td>North Heather International Airport</td><td>West Andrewview</td><td>Netherlands Antilles</td><td>null</td></tr><tr><td>A050</td><td>Paultown International Airport</td><td>North Richardmouth</td><td>France</td><td>null</td></tr><tr><td>A051</td><td>Amandaport International Airport</td><td>Jamestown</td><td>Micronesia</td><td>null</td></tr><tr><td>A052</td><td>East Cynthia International Airport</td><td>Gibbsfurt</td><td>Ecuador</td><td>null</td></tr><tr><td>A053</td><td>South Corey International Airport</td><td>Johnsonfort</td><td>Switzerland</td><td>null</td></tr><tr><td>A054</td><td>Jonestown International Airport</td><td>Garciaview</td><td>Colombia</td><td>null</td></tr><tr><td>A055</td><td>Port Jamieport International Airport</td><td>Sarahstad</td><td>Netherlands</td><td>null</td></tr></tbody></table></div>"
      ]
     },
     "metadata": {
      "application/vnd.databricks.v1+output": {
       "addedWidgets": {},
       "aggData": [],
       "aggError": "",
       "aggOverflow": false,
       "aggSchema": [],
       "aggSeriesLimitReached": false,
       "aggType": "",
       "arguments": {},
       "columnCustomDisplayInfos": {},
       "data": [
        [
         "A001",
         "Gregoryland International Airport",
         "Kristenmouth",
         "South Georgia and the South Sandwich Islands",
         null
        ],
        [
         "A002",
         "East Kristin International Airport",
         "North Michaelview",
         "Bosnia and Herzegovina",
         null
        ],
        [
         "A003",
         "Brownland International Airport",
         "Samuelville",
         "Costa Rica",
         null
        ],
        [
         "A004",
         "Meghanton International Airport",
         "Andrewsmouth",
         "Macedonia",
         null
        ],
        [
         "A005",
         "East Aaron International Airport",
         "Davishaven",
         "Monaco",
         null
        ],
        [
         "A006",
         "Michaelburgh International Airport",
         "East Blake",
         "Iceland",
         null
        ],
        [
         "A007",
         "West Jennifer International Airport",
         "Jillianstad",
         "Libyan Arab Jamahiriya",
         null
        ],
        [
         "A008",
         "Port Craig International Airport",
         "New Lisa",
         "French Southern Territories",
         null
        ],
        [
         "A009",
         "New Joshuafurt International Airport",
         "Port Jamiehaven",
         "Pitcairn Islands",
         null
        ],
        [
         "A010",
         "Thompsontown International Airport",
         "Murraychester",
         "Ireland",
         null
        ],
        [
         "A011",
         "Alisonville International Airport",
         "West Annaburgh",
         "Mexico",
         null
        ],
        [
         "A012",
         "East Nancy International Airport",
         "Crosston",
         "Romania",
         null
        ],
        [
         "A013",
         "West Christianstad International Airport",
         "North Janetton",
         "Qatar",
         null
        ],
        [
         "A014",
         "Brittanyshire International Airport",
         "Kylechester",
         "Mauritius",
         null
        ],
        [
         "A015",
         "North Erinberg International Airport",
         "Walshtown",
         "South Georgia and the South Sandwich Islands",
         null
        ],
        [
         "A016",
         "Davidhaven International Airport",
         "South Michael",
         "Holy See (Vatican City State)",
         null
        ],
        [
         "A017",
         "West Melissaborough International Airport",
         "North Robertburgh",
         "Switzerland",
         null
        ],
        [
         "A018",
         "Lake Mandyport International Airport",
         "Englishfort",
         "Russian Federation",
         null
        ],
        [
         "A019",
         "East Gregtown International Airport",
         "Downsborough",
         "Kazakhstan",
         null
        ],
        [
         "A020",
         "Port Lori International Airport",
         "Nicholaston",
         "Martinique",
         null
        ],
        [
         "A021",
         "Phillipsburgh International Airport",
         "West Ritaland",
         "Colombia",
         null
        ],
        [
         "A022",
         "Blankenshipport International Airport",
         "Sherryville",
         "Bhutan",
         null
        ],
        [
         "A023",
         "Maryfurt International Airport",
         "Lake Kennethfurt",
         "Panama",
         null
        ],
        [
         "A024",
         "West Barbara International Airport",
         "Sherribury",
         "Tokelau",
         null
        ],
        [
         "A025",
         "East Tiffanymouth International Airport",
         "North Ashley",
         "Gambia",
         null
        ],
        [
         "A026",
         "New Isaiah International Airport",
         "Lake Melissaland",
         "Cote d'Ivoire",
         null
        ],
        [
         "A027",
         "West Patricia International Airport",
         "Wilsonmouth",
         "Djibouti",
         null
        ],
        [
         "A028",
         "Hamiltonview International Airport",
         "Isaacland",
         "Lebanon",
         null
        ],
        [
         "A029",
         "New Amber International Airport",
         "Davismouth",
         "Congo",
         null
        ],
        [
         "A030",
         "Leeport International Airport",
         "Lake Gary",
         "Armenia",
         null
        ],
        [
         "A031",
         "East Paulahaven International Airport",
         "New Charlesberg",
         "Thailand",
         null
        ],
        [
         "A032",
         "East Robinmouth International Airport",
         "Sharonstad",
         "Poland",
         null
        ],
        [
         "A033",
         "Perezbury International Airport",
         "West Maryville",
         "Korea",
         null
        ],
        [
         "A034",
         "West Matthew International Airport",
         "Wigginsmouth",
         "Czech Republic",
         null
        ],
        [
         "A035",
         "Chavezchester International Airport",
         "Port Meganhaven",
         "Niger",
         null
        ],
        [
         "A036",
         "Teresaberg International Airport",
         "Taylorshire",
         "Cayman Islands",
         null
        ],
        [
         "A037",
         "Francobury International Airport",
         "Foleyland",
         "Denmark",
         null
        ],
        [
         "A038",
         "South Caroline International Airport",
         "Sarahchester",
         "New Zealand",
         null
        ],
        [
         "A039",
         "Reneeborough International Airport",
         "East Amanda",
         "Germany",
         null
        ],
        [
         "A040",
         "Jillville International Airport",
         "Wallerchester",
         "Libyan Arab Jamahiriya",
         null
        ],
        [
         "A041",
         "Lake Amber International Airport",
         "Brownstad",
         "Algeria",
         null
        ],
        [
         "A042",
         "West Matthew International Airport",
         "Reedshire",
         "Lithuania",
         null
        ],
        [
         "A043",
         "Kaylaland International Airport",
         "Schultzhaven",
         "Sweden",
         null
        ],
        [
         "A044",
         "Cordovaview International Airport",
         "Shannonport",
         "Gabon",
         null
        ],
        [
         "A045",
         "Stoneport International Airport",
         "New Joseph",
         "Georgia",
         null
        ],
        [
         "A046",
         "Janetview International Airport",
         "West Steventon",
         "Bahamas",
         null
        ],
        [
         "A047",
         "New Michaelland International Airport",
         "Sanchezberg",
         "Hong Kong",
         null
        ],
        [
         "A048",
         "Sarahmouth International Airport",
         "Edwardmouth",
         "Malaysia",
         null
        ],
        [
         "A049",
         "North Heather International Airport",
         "West Andrewview",
         "Netherlands Antilles",
         null
        ],
        [
         "A050",
         "Paultown International Airport",
         "North Richardmouth",
         "France",
         null
        ],
        [
         "A051",
         "Amandaport International Airport",
         "Jamestown",
         "Micronesia",
         null
        ],
        [
         "A052",
         "East Cynthia International Airport",
         "Gibbsfurt",
         "Ecuador",
         null
        ],
        [
         "A053",
         "South Corey International Airport",
         "Johnsonfort",
         "Switzerland",
         null
        ],
        [
         "A054",
         "Jonestown International Airport",
         "Garciaview",
         "Colombia",
         null
        ],
        [
         "A055",
         "Port Jamieport International Airport",
         "Sarahstad",
         "Netherlands",
         null
        ]
       ],
       "datasetInfos": [],
       "dbfsResultPath": null,
       "isJsonSchema": true,
       "metadata": {},
       "overflow": false,
       "plotOptions": {
        "customPlotOptions": {},
        "displayType": "table",
        "pivotAggregation": null,
        "pivotColumns": null,
        "xColumns": null,
        "yColumns": null
       },
       "removedWidgets": [],
       "schema": [
        {
         "metadata": "{}",
         "name": "airport_id",
         "type": "\"string\""
        },
        {
         "metadata": "{}",
         "name": "airport_name",
         "type": "\"string\""
        },
        {
         "metadata": "{}",
         "name": "city",
         "type": "\"string\""
        },
        {
         "metadata": "{}",
         "name": "country",
         "type": "\"string\""
        },
        {
         "metadata": "{}",
         "name": "_rescued_data",
         "type": "\"string\""
        }
       ],
       "type": "table"
      }
     },
     "output_type": "display_data"
    }
   ],
   "source": [
    "df = spark.read.format(\"delta\").load(\"/Volumes/workspace/bronze/bronzevolume/airports/data/\")\n",
    "df = df.drop(\"_rescued_data\")\\\n",
    "       .withColumn(\"modifiedDate\", current_timestamp())\n",
    "\n",
    "display(df)"
   ]
  },
  {
   "cell_type": "code",
   "execution_count": 0,
   "metadata": {
    "application/vnd.databricks.v1+cell": {
     "cellMetadata": {
      "byteLimit": 2048000,
      "rowLimit": 10000
     },
     "inputWidgets": {},
     "nuid": "7ca09ef7-636d-4338-9329-db84d1307bd5",
     "showTitle": false,
     "tableResultSettingsMap": {
      "0": {
       "dataGridStateBlob": "{\"version\":1,\"tableState\":{\"columnPinning\":{\"left\":[\"#row_number#\"],\"right\":[]},\"columnSizing\":{},\"columnVisibility\":{}},\"settings\":{\"columns\":{}},\"syncTimestamp\":1752565634510}",
       "filterBlob": null,
       "queryPlanFiltersBlob": null,
       "tableResultIndex": 0
      }
     },
     "title": ""
    }
   },
   "outputs": [
    {
     "output_type": "display_data",
     "data": {
      "text/html": [
       "<style scoped>\n",
       "  .table-result-container {\n",
       "    max-height: 300px;\n",
       "    overflow: auto;\n",
       "  }\n",
       "  table, th, td {\n",
       "    border: 1px solid black;\n",
       "    border-collapse: collapse;\n",
       "  }\n",
       "  th, td {\n",
       "    padding: 5px;\n",
       "  }\n",
       "  th {\n",
       "    text-align: left;\n",
       "  }\n",
       "</style><div class='table-result-container'><table class='table-result'><thead style='background-color: white'><tr><th>passenger_id</th><th>name</th><th>gender</th><th>nationality</th><th>modifiedDate</th></tr></thead><tbody><tr><td>P0001</td><td>Kevin Ferguson</td><td>Male</td><td>Reunion</td><td>2025-07-15T07:47:11.041Z</td></tr><tr><td>P0002</td><td>Kathleen Martinez DVM</td><td>Female</td><td>Burkina Faso</td><td>2025-07-15T07:47:11.041Z</td></tr><tr><td>P0003</td><td>Cynthia Frazier</td><td>Male</td><td>Marshall Islands</td><td>2025-07-15T07:47:11.041Z</td></tr><tr><td>P0004</td><td>Ryan Ramsey</td><td>Male</td><td>Niger</td><td>2025-07-15T07:47:11.041Z</td></tr><tr><td>P0005</td><td>Mike Kim</td><td>Male</td><td>Taiwan</td><td>2025-07-15T07:47:11.041Z</td></tr><tr><td>P0006</td><td>Diana Adams</td><td>Male</td><td>Mayotte</td><td>2025-07-15T07:47:11.041Z</td></tr><tr><td>P0007</td><td>Sharon Moon</td><td>Male</td><td>Madagascar</td><td>2025-07-15T07:47:11.041Z</td></tr><tr><td>P0008</td><td>Cheryl Glenn</td><td>Male</td><td>Maldives</td><td>2025-07-15T07:47:11.041Z</td></tr><tr><td>P0009</td><td>Allen Lowery</td><td>Male</td><td>Rwanda</td><td>2025-07-15T07:47:11.041Z</td></tr><tr><td>P0010</td><td>Maria Medina</td><td>Male</td><td>Denmark</td><td>2025-07-15T07:47:11.041Z</td></tr><tr><td>P0011</td><td>Michael Anderson MD</td><td>Female</td><td>Czech Republic</td><td>2025-07-15T07:47:11.041Z</td></tr><tr><td>P0012</td><td>Samantha Barnes</td><td>Female</td><td>British Virgin Islands</td><td>2025-07-15T07:47:11.041Z</td></tr><tr><td>P0013</td><td>Christine Young</td><td>Male</td><td>Iran</td><td>2025-07-15T07:47:11.041Z</td></tr><tr><td>P0014</td><td>Rebecca Sampson</td><td>Male</td><td>Suriname</td><td>2025-07-15T07:47:11.041Z</td></tr><tr><td>P0015</td><td>Brittany Schultz</td><td>Female</td><td>Tokelau</td><td>2025-07-15T07:47:11.041Z</td></tr><tr><td>P0016</td><td>Michael Terry</td><td>Female</td><td>El Salvador</td><td>2025-07-15T07:47:11.041Z</td></tr><tr><td>P0017</td><td>Billy Williams</td><td>Male</td><td>Togo</td><td>2025-07-15T07:47:11.041Z</td></tr><tr><td>P0018</td><td>Kyle Carter</td><td>Female</td><td>Lebanon</td><td>2025-07-15T07:47:11.041Z</td></tr><tr><td>P0019</td><td>Brittney Morgan</td><td>Female</td><td>Congo</td><td>2025-07-15T07:47:11.041Z</td></tr><tr><td>P0020</td><td>Xavier Rivera</td><td>Female</td><td>Timor-Leste</td><td>2025-07-15T07:47:11.041Z</td></tr><tr><td>P0021</td><td>Nicholas Ritter</td><td>Female</td><td>Korea</td><td>2025-07-15T07:47:11.041Z</td></tr><tr><td>P0022</td><td>Edward Rice</td><td>Female</td><td>Antigua and Barbuda</td><td>2025-07-15T07:47:11.041Z</td></tr><tr><td>P0023</td><td>Wendy Jones</td><td>Female</td><td>Haiti</td><td>2025-07-15T07:47:11.041Z</td></tr><tr><td>P0024</td><td>Jordan Moore</td><td>Female</td><td>Aruba</td><td>2025-07-15T07:47:11.041Z</td></tr><tr><td>P0025</td><td>Christopher Kim</td><td>Male</td><td>Greece</td><td>2025-07-15T07:47:11.041Z</td></tr><tr><td>P0026</td><td>Anita Jones</td><td>Female</td><td>Comoros</td><td>2025-07-15T07:47:11.041Z</td></tr><tr><td>P0027</td><td>Spencer Grimes Jr.</td><td>Female</td><td>Portugal</td><td>2025-07-15T07:47:11.041Z</td></tr><tr><td>P0028</td><td>Juan Sweeney</td><td>Female</td><td>Yemen</td><td>2025-07-15T07:47:11.041Z</td></tr><tr><td>P0029</td><td>Tony Adams</td><td>Female</td><td>British Virgin Islands</td><td>2025-07-15T07:47:11.041Z</td></tr><tr><td>P0030</td><td>Daniel Rush</td><td>Male</td><td>Tunisia</td><td>2025-07-15T07:47:11.041Z</td></tr><tr><td>P0031</td><td>Jesus Clark</td><td>Female</td><td>Namibia</td><td>2025-07-15T07:47:11.041Z</td></tr><tr><td>P0032</td><td>Brittany Aguirre</td><td>Male</td><td>Uzbekistan</td><td>2025-07-15T07:47:11.041Z</td></tr><tr><td>P0033</td><td>Sandra Green</td><td>Male</td><td>Switzerland</td><td>2025-07-15T07:47:11.041Z</td></tr><tr><td>P0034</td><td>Victoria Franklin</td><td>Female</td><td>Spain</td><td>2025-07-15T07:47:11.041Z</td></tr><tr><td>P0035</td><td>Gina Lee</td><td>Male</td><td>Samoa</td><td>2025-07-15T07:47:11.041Z</td></tr><tr><td>P0036</td><td>Abigail Brown</td><td>Male</td><td>France</td><td>2025-07-15T07:47:11.041Z</td></tr><tr><td>P0037</td><td>Cheryl Reyes</td><td>Female</td><td>French Guiana</td><td>2025-07-15T07:47:11.041Z</td></tr><tr><td>P0038</td><td>Heather Garcia</td><td>Male</td><td>Isle of Man</td><td>2025-07-15T07:47:11.041Z</td></tr><tr><td>P0039</td><td>Krystal Mathews</td><td>Male</td><td>Cyprus</td><td>2025-07-15T07:47:11.041Z</td></tr><tr><td>P0040</td><td>Troy Green</td><td>Female</td><td>Macao</td><td>2025-07-15T07:47:11.041Z</td></tr><tr><td>P0041</td><td>Amanda Hughes</td><td>Male</td><td>Kenya</td><td>2025-07-15T07:47:11.041Z</td></tr><tr><td>P0042</td><td>Nicholas Garcia</td><td>Female</td><td>Germany</td><td>2025-07-15T07:47:11.041Z</td></tr><tr><td>P0043</td><td>Gloria Hill</td><td>Female</td><td>Guadeloupe</td><td>2025-07-15T07:47:11.041Z</td></tr><tr><td>P0044</td><td>Lindsey Robinson</td><td>Male</td><td>Bermuda</td><td>2025-07-15T07:47:11.041Z</td></tr><tr><td>P0045</td><td>Mary Mann</td><td>Female</td><td>Sri Lanka</td><td>2025-07-15T07:47:11.041Z</td></tr><tr><td>P0046</td><td>Matthew Evans</td><td>Female</td><td>Guadeloupe</td><td>2025-07-15T07:47:11.041Z</td></tr><tr><td>P0047</td><td>Virginia Vance</td><td>Female</td><td>British Indian Ocean Territory (Chagos Archipelago)</td><td>2025-07-15T07:47:11.041Z</td></tr><tr><td>P0048</td><td>Jonathan Martinez</td><td>Male</td><td>Mayotte</td><td>2025-07-15T07:47:11.041Z</td></tr><tr><td>P0049</td><td>Douglas Montoya</td><td>Female</td><td>Pakistan</td><td>2025-07-15T07:47:11.041Z</td></tr><tr><td>P0050</td><td>Brandon Smith</td><td>Male</td><td>Senegal</td><td>2025-07-15T07:47:11.041Z</td></tr><tr><td>P0051</td><td>Brett Rios</td><td>Female</td><td>Guyana</td><td>2025-07-15T07:47:11.041Z</td></tr><tr><td>P0052</td><td>Jill Brennan</td><td>Female</td><td>Togo</td><td>2025-07-15T07:47:11.041Z</td></tr><tr><td>P0053</td><td>Glenda Silva</td><td>Female</td><td>Guinea</td><td>2025-07-15T07:47:11.041Z</td></tr><tr><td>P0054</td><td>Benjamin Mata</td><td>Male</td><td>Croatia</td><td>2025-07-15T07:47:11.041Z</td></tr><tr><td>P0055</td><td>William Tanner</td><td>Female</td><td>Guadeloupe</td><td>2025-07-15T07:47:11.041Z</td></tr><tr><td>P0056</td><td>Joseph James</td><td>Male</td><td>Turks and Caicos Islands</td><td>2025-07-15T07:47:11.041Z</td></tr><tr><td>P0057</td><td>Alexandra Sanders</td><td>Female</td><td>Australia</td><td>2025-07-15T07:47:11.041Z</td></tr><tr><td>P0058</td><td>William Meza</td><td>Male</td><td>Central African Republic</td><td>2025-07-15T07:47:11.041Z</td></tr><tr><td>P0059</td><td>Alexander Wells</td><td>Male</td><td>Bosnia and Herzegovina</td><td>2025-07-15T07:47:11.041Z</td></tr><tr><td>P0060</td><td>Megan Watts</td><td>Male</td><td>Bahrain</td><td>2025-07-15T07:47:11.041Z</td></tr><tr><td>P0061</td><td>Kelsey Andrews</td><td>Female</td><td>Solomon Islands</td><td>2025-07-15T07:47:11.041Z</td></tr><tr><td>P0062</td><td>Maria Gibbs</td><td>Female</td><td>Taiwan</td><td>2025-07-15T07:47:11.041Z</td></tr><tr><td>P0063</td><td>Mark Martin</td><td>Male</td><td>Saint Helena</td><td>2025-07-15T07:47:11.041Z</td></tr><tr><td>P0064</td><td>Pam Garcia</td><td>Male</td><td>Thailand</td><td>2025-07-15T07:47:11.041Z</td></tr><tr><td>P0065</td><td>Daniel Ray</td><td>Female</td><td>Argentina</td><td>2025-07-15T07:47:11.041Z</td></tr><tr><td>P0066</td><td>Brandi Maddox</td><td>Male</td><td>Senegal</td><td>2025-07-15T07:47:11.041Z</td></tr><tr><td>P0067</td><td>Jimmy Smith</td><td>Female</td><td>China</td><td>2025-07-15T07:47:11.041Z</td></tr><tr><td>P0068</td><td>Timothy Goodwin</td><td>Female</td><td>Kuwait</td><td>2025-07-15T07:47:11.041Z</td></tr><tr><td>P0069</td><td>Taylor Stephenson</td><td>Female</td><td>Spain</td><td>2025-07-15T07:47:11.041Z</td></tr><tr><td>P0070</td><td>Anthony Ingram</td><td>Male</td><td>Papua New Guinea</td><td>2025-07-15T07:47:11.041Z</td></tr><tr><td>P0071</td><td>Jeanette Garrison</td><td>Male</td><td>Andorra</td><td>2025-07-15T07:47:11.041Z</td></tr><tr><td>P0072</td><td>Seth Salazar</td><td>Female</td><td>Japan</td><td>2025-07-15T07:47:11.041Z</td></tr><tr><td>P0073</td><td>Tina Harris</td><td>Male</td><td>Korea</td><td>2025-07-15T07:47:11.041Z</td></tr><tr><td>P0074</td><td>Shelley Green</td><td>Male</td><td>Guyana</td><td>2025-07-15T07:47:11.041Z</td></tr><tr><td>P0075</td><td>Patrick Lyons</td><td>Female</td><td>Mayotte</td><td>2025-07-15T07:47:11.041Z</td></tr><tr><td>P0076</td><td>Edward Nelson</td><td>Male</td><td>Reunion</td><td>2025-07-15T07:47:11.041Z</td></tr><tr><td>P0077</td><td>Audrey Rodriguez</td><td>Female</td><td>Saint Barthelemy</td><td>2025-07-15T07:47:11.041Z</td></tr><tr><td>P0078</td><td>Darlene Perez</td><td>Female</td><td>Cyprus</td><td>2025-07-15T07:47:11.041Z</td></tr><tr><td>P0079</td><td>Tracy Russo</td><td>Male</td><td>Iceland</td><td>2025-07-15T07:47:11.041Z</td></tr><tr><td>P0080</td><td>Brandon Lynch</td><td>Female</td><td>Eritrea</td><td>2025-07-15T07:47:11.041Z</td></tr><tr><td>P0081</td><td>Amy Kim MD</td><td>Female</td><td>New Caledonia</td><td>2025-07-15T07:47:11.041Z</td></tr><tr><td>P0082</td><td>Sarah House</td><td>Female</td><td>Cook Islands</td><td>2025-07-15T07:47:11.041Z</td></tr><tr><td>P0083</td><td>Natalie Jones</td><td>Male</td><td>Faroe Islands</td><td>2025-07-15T07:47:11.041Z</td></tr><tr><td>P0084</td><td>Troy White</td><td>Female</td><td>Tokelau</td><td>2025-07-15T07:47:11.041Z</td></tr><tr><td>P0085</td><td>Frederick Robertson</td><td>Female</td><td>Germany</td><td>2025-07-15T07:47:11.041Z</td></tr><tr><td>P0086</td><td>Gloria Williams</td><td>Male</td><td>Somalia</td><td>2025-07-15T07:47:11.041Z</td></tr><tr><td>P0087</td><td>Andrew Carr</td><td>Male</td><td>Andorra</td><td>2025-07-15T07:47:11.041Z</td></tr><tr><td>P0088</td><td>Austin Murphy</td><td>Female</td><td>Lao People's Democratic Republic</td><td>2025-07-15T07:47:11.041Z</td></tr><tr><td>P0089</td><td>Daniel Jones</td><td>Female</td><td>Costa Rica</td><td>2025-07-15T07:47:11.041Z</td></tr><tr><td>P0090</td><td>Ryan Anderson</td><td>Male</td><td>Spain</td><td>2025-07-15T07:47:11.041Z</td></tr><tr><td>P0091</td><td>Kenneth Dean</td><td>Female</td><td>Bhutan</td><td>2025-07-15T07:47:11.041Z</td></tr><tr><td>P0092</td><td>Robert Mason</td><td>Male</td><td>Micronesia</td><td>2025-07-15T07:47:11.041Z</td></tr><tr><td>P0093</td><td>Austin Ortega DVM</td><td>Female</td><td>Korea</td><td>2025-07-15T07:47:11.041Z</td></tr><tr><td>P0094</td><td>Kristen Pierce</td><td>Male</td><td>Tonga</td><td>2025-07-15T07:47:11.041Z</td></tr><tr><td>P0095</td><td>Kelsey Hill</td><td>Male</td><td>Cook Islands</td><td>2025-07-15T07:47:11.041Z</td></tr><tr><td>P0096</td><td>Erika Hall</td><td>Male</td><td>Kenya</td><td>2025-07-15T07:47:11.041Z</td></tr><tr><td>P0097</td><td>Kristen Bailey</td><td>Male</td><td>Bermuda</td><td>2025-07-15T07:47:11.041Z</td></tr><tr><td>P0098</td><td>Andrea Mcknight</td><td>Male</td><td>Samoa</td><td>2025-07-15T07:47:11.041Z</td></tr><tr><td>P0099</td><td>Ryan Curry</td><td>Female</td><td>Qatar</td><td>2025-07-15T07:47:11.041Z</td></tr><tr><td>P0100</td><td>Benjamin Cowan</td><td>Male</td><td>Namibia</td><td>2025-07-15T07:47:11.041Z</td></tr><tr><td>P0101</td><td>Dale Figueroa</td><td>Female</td><td>Albania</td><td>2025-07-15T07:47:11.041Z</td></tr><tr><td>P0102</td><td>Michael Collins</td><td>Male</td><td>Turkey</td><td>2025-07-15T07:47:11.041Z</td></tr><tr><td>P0103</td><td>Nicholas Chapman</td><td>Male</td><td>Jersey</td><td>2025-07-15T07:47:11.041Z</td></tr><tr><td>P0104</td><td>Amy Rose</td><td>Female</td><td>British Virgin Islands</td><td>2025-07-15T07:47:11.041Z</td></tr><tr><td>P0105</td><td>James Frederick</td><td>Female</td><td>Cote d'Ivoire</td><td>2025-07-15T07:47:11.041Z</td></tr><tr><td>P0106</td><td>Ashley Freeman</td><td>Female</td><td>Belize</td><td>2025-07-15T07:47:11.041Z</td></tr><tr><td>P0107</td><td>Brittany Young</td><td>Female</td><td>Taiwan</td><td>2025-07-15T07:47:11.041Z</td></tr><tr><td>P0108</td><td>Pamela Byrd</td><td>Female</td><td>Morocco</td><td>2025-07-15T07:47:11.041Z</td></tr><tr><td>P0109</td><td>Brian Mosley</td><td>Male</td><td>Brunei Darussalam</td><td>2025-07-15T07:47:11.041Z</td></tr><tr><td>P0110</td><td>Eric Stephens</td><td>Female</td><td>Guyana</td><td>2025-07-15T07:47:11.041Z</td></tr><tr><td>P0111</td><td>Cheyenne Estes</td><td>Male</td><td>Nepal</td><td>2025-07-15T07:47:11.041Z</td></tr><tr><td>P0112</td><td>William Bailey</td><td>Male</td><td>Micronesia</td><td>2025-07-15T07:47:11.041Z</td></tr><tr><td>P0113</td><td>Timothy Stone</td><td>Male</td><td>Sierra Leone</td><td>2025-07-15T07:47:11.041Z</td></tr><tr><td>P0114</td><td>Charles Stanley</td><td>Female</td><td>Tonga</td><td>2025-07-15T07:47:11.041Z</td></tr><tr><td>P0115</td><td>Diana Fisher</td><td>Male</td><td>Netherlands</td><td>2025-07-15T07:47:11.041Z</td></tr><tr><td>P0116</td><td>Richard Mayer</td><td>Male</td><td>Cayman Islands</td><td>2025-07-15T07:47:11.041Z</td></tr><tr><td>P0117</td><td>Scott Acosta</td><td>Female</td><td>Hong Kong</td><td>2025-07-15T07:47:11.041Z</td></tr><tr><td>P0118</td><td>Anita Figueroa</td><td>Male</td><td>Mauritania</td><td>2025-07-15T07:47:11.041Z</td></tr><tr><td>P0119</td><td>Paul Sanchez</td><td>Male</td><td>Bouvet Island (Bouvetoya)</td><td>2025-07-15T07:47:11.041Z</td></tr><tr><td>P0120</td><td>Tiffany Williams</td><td>Female</td><td>New Caledonia</td><td>2025-07-15T07:47:11.041Z</td></tr><tr><td>P0121</td><td>Bethany Foley</td><td>Male</td><td>Romania</td><td>2025-07-15T07:47:11.041Z</td></tr><tr><td>P0122</td><td>Joshua White</td><td>Male</td><td>Bouvet Island (Bouvetoya)</td><td>2025-07-15T07:47:11.041Z</td></tr><tr><td>P0123</td><td>Stephanie Rush</td><td>Female</td><td>Belgium</td><td>2025-07-15T07:47:11.041Z</td></tr><tr><td>P0124</td><td>Alyssa Herrera</td><td>Female</td><td>Martinique</td><td>2025-07-15T07:47:11.041Z</td></tr><tr><td>P0125</td><td>Katherine Aguilar</td><td>Male</td><td>Cambodia</td><td>2025-07-15T07:47:11.041Z</td></tr><tr><td>P0126</td><td>Charles Wilson</td><td>Male</td><td>Palau</td><td>2025-07-15T07:47:11.041Z</td></tr><tr><td>P0127</td><td>Chloe Conway</td><td>Male</td><td>Brunei Darussalam</td><td>2025-07-15T07:47:11.041Z</td></tr><tr><td>P0128</td><td>Nicole Walters</td><td>Male</td><td>Dominica</td><td>2025-07-15T07:47:11.041Z</td></tr><tr><td>P0129</td><td>Desiree Gonzales</td><td>Female</td><td>Saint Helena</td><td>2025-07-15T07:47:11.041Z</td></tr><tr><td>P0130</td><td>Gregory Alexander</td><td>Female</td><td>Slovakia (Slovak Republic)</td><td>2025-07-15T07:47:11.041Z</td></tr><tr><td>P0131</td><td>Dr. Kyle Salazar</td><td>Male</td><td>Brazil</td><td>2025-07-15T07:47:11.041Z</td></tr><tr><td>P0132</td><td>Makayla Robbins</td><td>Male</td><td>Kazakhstan</td><td>2025-07-15T07:47:11.041Z</td></tr><tr><td>P0133</td><td>Scott Morales</td><td>Male</td><td>Angola</td><td>2025-07-15T07:47:11.041Z</td></tr><tr><td>P0134</td><td>Phyllis Lewis</td><td>Female</td><td>Northern Mariana Islands</td><td>2025-07-15T07:47:11.041Z</td></tr><tr><td>P0135</td><td>David Hamilton</td><td>Female</td><td>Sri Lanka</td><td>2025-07-15T07:47:11.041Z</td></tr><tr><td>P0136</td><td>Melinda Smith</td><td>Female</td><td>Swaziland</td><td>2025-07-15T07:47:11.041Z</td></tr><tr><td>P0137</td><td>Vanessa Fuller</td><td>Female</td><td>Moldova</td><td>2025-07-15T07:47:11.041Z</td></tr><tr><td>P0138</td><td>Christopher Wilkinson</td><td>Male</td><td>Canada</td><td>2025-07-15T07:47:11.041Z</td></tr><tr><td>P0139</td><td>Brent Johnson</td><td>Female</td><td>Bahamas</td><td>2025-07-15T07:47:11.041Z</td></tr><tr><td>P0140</td><td>Mark Taylor</td><td>Male</td><td>Kyrgyz Republic</td><td>2025-07-15T07:47:11.041Z</td></tr><tr><td>P0141</td><td>Joshua Richardson</td><td>Female</td><td>Northern Mariana Islands</td><td>2025-07-15T07:47:11.041Z</td></tr><tr><td>P0142</td><td>Dr. Nancy Jacobs PhD</td><td>Male</td><td>Belgium</td><td>2025-07-15T07:47:11.041Z</td></tr><tr><td>P0143</td><td>Vincent Sanchez</td><td>Female</td><td>Tuvalu</td><td>2025-07-15T07:47:11.041Z</td></tr><tr><td>P0144</td><td>Jennifer Gutierrez</td><td>Female</td><td>Bulgaria</td><td>2025-07-15T07:47:11.041Z</td></tr><tr><td>P0145</td><td>Michael Simmons</td><td>Female</td><td>Cape Verde</td><td>2025-07-15T07:47:11.041Z</td></tr><tr><td>P0146</td><td>Phillip Myers</td><td>Female</td><td>Slovenia</td><td>2025-07-15T07:47:11.041Z</td></tr><tr><td>P0147</td><td>Joshua Mendoza</td><td>Male</td><td>Tokelau</td><td>2025-07-15T07:47:11.041Z</td></tr><tr><td>P0148</td><td>James Camacho</td><td>Male</td><td>Switzerland</td><td>2025-07-15T07:47:11.041Z</td></tr><tr><td>P0149</td><td>Samuel Sellers</td><td>Male</td><td>Puerto Rico</td><td>2025-07-15T07:47:11.041Z</td></tr><tr><td>P0150</td><td>Charles Wade</td><td>Male</td><td>El Salvador</td><td>2025-07-15T07:47:11.041Z</td></tr><tr><td>P0151</td><td>Katherine Young</td><td>Male</td><td>Nigeria</td><td>2025-07-15T07:47:11.041Z</td></tr><tr><td>P0152</td><td>Kristin Cole</td><td>Male</td><td>Saint Lucia</td><td>2025-07-15T07:47:11.041Z</td></tr><tr><td>P0153</td><td>Melissa Patterson</td><td>Female</td><td>Cambodia</td><td>2025-07-15T07:47:11.041Z</td></tr><tr><td>P0154</td><td>Erin Perez</td><td>Female</td><td>Puerto Rico</td><td>2025-07-15T07:47:11.041Z</td></tr><tr><td>P0155</td><td>Rebecca Trujillo</td><td>Female</td><td>Swaziland</td><td>2025-07-15T07:47:11.041Z</td></tr><tr><td>P0156</td><td>Nicole Drake</td><td>Female</td><td>Jordan</td><td>2025-07-15T07:47:11.041Z</td></tr><tr><td>P0157</td><td>Daniel Sawyer</td><td>Male</td><td>Mayotte</td><td>2025-07-15T07:47:11.041Z</td></tr><tr><td>P0158</td><td>Richard Barrett</td><td>Male</td><td>Brunei Darussalam</td><td>2025-07-15T07:47:11.041Z</td></tr><tr><td>P0159</td><td>Nicholas Williams</td><td>Male</td><td>Austria</td><td>2025-07-15T07:47:11.041Z</td></tr><tr><td>P0160</td><td>Juan Pineda</td><td>Male</td><td>Burkina Faso</td><td>2025-07-15T07:47:11.041Z</td></tr><tr><td>P0161</td><td>Edward Morris</td><td>Female</td><td>Syrian Arab Republic</td><td>2025-07-15T07:47:11.041Z</td></tr><tr><td>P0162</td><td>Rebecca Hendricks</td><td>Male</td><td>Faroe Islands</td><td>2025-07-15T07:47:11.041Z</td></tr><tr><td>P0163</td><td>Benjamin Aguilar</td><td>Female</td><td>Netherlands Antilles</td><td>2025-07-15T07:47:11.041Z</td></tr><tr><td>P0164</td><td>Andrew Snyder</td><td>Male</td><td>Gabon</td><td>2025-07-15T07:47:11.041Z</td></tr><tr><td>P0165</td><td>Jessica Hansen</td><td>Male</td><td>British Indian Ocean Territory (Chagos Archipelago)</td><td>2025-07-15T07:47:11.041Z</td></tr><tr><td>P0166</td><td>Walter Thompson</td><td>Male</td><td>Malaysia</td><td>2025-07-15T07:47:11.041Z</td></tr><tr><td>P0167</td><td>Michael Diaz</td><td>Female</td><td>Kiribati</td><td>2025-07-15T07:47:11.041Z</td></tr><tr><td>P0168</td><td>Norman Jones</td><td>Female</td><td>Faroe Islands</td><td>2025-07-15T07:47:11.041Z</td></tr><tr><td>P0169</td><td>Jessica Sampson</td><td>Female</td><td>Northern Mariana Islands</td><td>2025-07-15T07:47:11.041Z</td></tr><tr><td>P0170</td><td>Julie Sullivan</td><td>Female</td><td>Ireland</td><td>2025-07-15T07:47:11.041Z</td></tr><tr><td>P0171</td><td>Brittany Smith</td><td>Female</td><td>Australia</td><td>2025-07-15T07:47:11.041Z</td></tr><tr><td>P0172</td><td>Noah Herrera</td><td>Female</td><td>Monaco</td><td>2025-07-15T07:47:11.041Z</td></tr><tr><td>P0173</td><td>Mary Avila</td><td>Male</td><td>Rwanda</td><td>2025-07-15T07:47:11.041Z</td></tr><tr><td>P0174</td><td>Michael Johnson</td><td>Female</td><td>Chad</td><td>2025-07-15T07:47:11.041Z</td></tr><tr><td>P0175</td><td>Sheri Novak</td><td>Male</td><td>Turks and Caicos Islands</td><td>2025-07-15T07:47:11.041Z</td></tr><tr><td>P0176</td><td>Martin Prince</td><td>Male</td><td>Central African Republic</td><td>2025-07-15T07:47:11.041Z</td></tr><tr><td>P0177</td><td>Eric Tucker</td><td>Female</td><td>Zambia</td><td>2025-07-15T07:47:11.041Z</td></tr><tr><td>P0178</td><td>Brenda Dennis</td><td>Male</td><td>Saint Lucia</td><td>2025-07-15T07:47:11.041Z</td></tr><tr><td>P0179</td><td>Shelby Tucker</td><td>Male</td><td>Malaysia</td><td>2025-07-15T07:47:11.041Z</td></tr><tr><td>P0180</td><td>Chelsea Copeland</td><td>Female</td><td>Bolivia</td><td>2025-07-15T07:47:11.041Z</td></tr><tr><td>P0181</td><td>Ryan Jenkins</td><td>Female</td><td>Lao People's Democratic Republic</td><td>2025-07-15T07:47:11.041Z</td></tr><tr><td>P0182</td><td>Eric Martin</td><td>Female</td><td>Mauritius</td><td>2025-07-15T07:47:11.041Z</td></tr><tr><td>P0183</td><td>Benjamin Garcia</td><td>Female</td><td>Saint Pierre and Miquelon</td><td>2025-07-15T07:47:11.041Z</td></tr><tr><td>P0184</td><td>Evan Scott</td><td>Female</td><td>South Africa</td><td>2025-07-15T07:47:11.041Z</td></tr><tr><td>P0185</td><td>Karen Maynard</td><td>Male</td><td>Romania</td><td>2025-07-15T07:47:11.041Z</td></tr><tr><td>P0186</td><td>Kathryn Foster</td><td>Male</td><td>Bahrain</td><td>2025-07-15T07:47:11.041Z</td></tr><tr><td>P0187</td><td>Christopher Wade</td><td>Female</td><td>Lesotho</td><td>2025-07-15T07:47:11.041Z</td></tr><tr><td>P0188</td><td>Yvette Morton</td><td>Female</td><td>Vanuatu</td><td>2025-07-15T07:47:11.041Z</td></tr><tr><td>P0189</td><td>Joel Gomez</td><td>Female</td><td>Bulgaria</td><td>2025-07-15T07:47:11.041Z</td></tr><tr><td>P0190</td><td>Joyce Parker</td><td>Male</td><td>Lebanon</td><td>2025-07-15T07:47:11.041Z</td></tr><tr><td>P0191</td><td>Linda Moore</td><td>Male</td><td>Norfolk Island</td><td>2025-07-15T07:47:11.041Z</td></tr><tr><td>P0192</td><td>Dr. Chris Dean</td><td>Female</td><td>Seychelles</td><td>2025-07-15T07:47:11.041Z</td></tr><tr><td>P0193</td><td>Dr. Justin Rivera</td><td>Male</td><td>India</td><td>2025-07-15T07:47:11.041Z</td></tr><tr><td>P0194</td><td>Tommy Baker</td><td>Male</td><td>Venezuela</td><td>2025-07-15T07:47:11.041Z</td></tr><tr><td>P0195</td><td>Lisa Bautista</td><td>Male</td><td>Honduras</td><td>2025-07-15T07:47:11.041Z</td></tr><tr><td>P0196</td><td>Jamie Simon</td><td>Female</td><td>Nicaragua</td><td>2025-07-15T07:47:11.041Z</td></tr><tr><td>P0197</td><td>Alicia Parks</td><td>Male</td><td>Georgia</td><td>2025-07-15T07:47:11.041Z</td></tr><tr><td>P0198</td><td>Timothy Carroll</td><td>Male</td><td>Korea</td><td>2025-07-15T07:47:11.041Z</td></tr><tr><td>P0199</td><td>Marie Gonzales</td><td>Male</td><td>Kazakhstan</td><td>2025-07-15T07:47:11.041Z</td></tr><tr><td>P0200</td><td>Jim Berry</td><td>Female</td><td>Trinidad and Tobago</td><td>2025-07-15T07:47:11.041Z</td></tr><tr><td>P0201</td><td>Michele Perry</td><td>Male</td><td>Czech Republic</td><td>2025-07-15T07:47:11.041Z</td></tr><tr><td>P0202</td><td>Javier Mccormick</td><td>Male</td><td>Bolivia</td><td>2025-07-15T07:47:11.041Z</td></tr><tr><td>P0203</td><td>Michelle Alvarado</td><td>Male</td><td>Iraq</td><td>2025-07-15T07:47:11.041Z</td></tr><tr><td>P0204</td><td>Jamie Harrell</td><td>Female</td><td>Norway</td><td>2025-07-15T07:47:11.041Z</td></tr><tr><td>P0205</td><td>James Bender</td><td>Female</td><td>Saint Barthelemy</td><td>2025-07-15T07:47:11.041Z</td></tr><tr><td>P0206</td><td>Amy Burns</td><td>Female</td><td>Malta</td><td>2025-07-15T07:47:11.041Z</td></tr><tr><td>P0207</td><td>Angela Sparks</td><td>Male</td><td>Nicaragua</td><td>2025-07-15T07:47:11.041Z</td></tr><tr><td>P0208</td><td>Cynthia Salas</td><td>Male</td><td>United States of America</td><td>2025-07-15T07:47:11.041Z</td></tr><tr><td>P0209</td><td>Christine Norman</td><td>Female</td><td>Sudan</td><td>2025-07-15T07:47:11.041Z</td></tr><tr><td>P0210</td><td>Robert Davis</td><td>Male</td><td>Puerto Rico</td><td>2025-07-15T07:47:11.041Z</td></tr><tr><td>P0211</td><td>Gregory Williams</td><td>Female</td><td>Trinidad and Tobago</td><td>2025-07-15T07:47:11.041Z</td></tr><tr><td>P0212</td><td>Suzanne Myers</td><td>Male</td><td>Algeria</td><td>2025-07-15T07:47:11.041Z</td></tr><tr><td>P0213</td><td>Norman Daniel</td><td>Female</td><td>Korea</td><td>2025-07-15T07:47:11.041Z</td></tr><tr><td>P0214</td><td>Vanessa Yang</td><td>Female</td><td>Bhutan</td><td>2025-07-15T07:47:11.041Z</td></tr><tr><td>P0215</td><td>Alexander Smith</td><td>Female</td><td>Mali</td><td>2025-07-15T07:47:11.041Z</td></tr><tr><td>P0216</td><td>Michele Hunter</td><td>Male</td><td>Cambodia</td><td>2025-07-15T07:47:11.041Z</td></tr><tr><td>P0217</td><td>Emily Buchanan</td><td>Female</td><td>Uganda</td><td>2025-07-15T07:47:11.041Z</td></tr><tr><td>P0218</td><td>David Rhodes</td><td>Female</td><td>Saint Vincent and the Grenadines</td><td>2025-07-15T07:47:11.041Z</td></tr><tr><td>P0219</td><td>Mary Burke</td><td>Female</td><td>Heard Island and McDonald Islands</td><td>2025-07-15T07:47:11.041Z</td></tr><tr><td>P0220</td><td>Robert Johnson</td><td>Female</td><td>Nigeria</td><td>2025-07-15T07:47:11.041Z</td></tr></tbody></table></div>"
      ]
     },
     "metadata": {
      "application/vnd.databricks.v1+output": {
       "addedWidgets": {},
       "aggData": [],
       "aggError": "",
       "aggOverflow": false,
       "aggSchema": [],
       "aggSeriesLimitReached": false,
       "aggType": "",
       "arguments": {},
       "columnCustomDisplayInfos": {},
       "data": [
        [
         "P0001",
         "Kevin Ferguson",
         "Male",
         "Reunion",
         "2025-07-15T07:47:11.041Z"
        ],
        [
         "P0002",
         "Kathleen Martinez DVM",
         "Female",
         "Burkina Faso",
         "2025-07-15T07:47:11.041Z"
        ],
        [
         "P0003",
         "Cynthia Frazier",
         "Male",
         "Marshall Islands",
         "2025-07-15T07:47:11.041Z"
        ],
        [
         "P0004",
         "Ryan Ramsey",
         "Male",
         "Niger",
         "2025-07-15T07:47:11.041Z"
        ],
        [
         "P0005",
         "Mike Kim",
         "Male",
         "Taiwan",
         "2025-07-15T07:47:11.041Z"
        ],
        [
         "P0006",
         "Diana Adams",
         "Male",
         "Mayotte",
         "2025-07-15T07:47:11.041Z"
        ],
        [
         "P0007",
         "Sharon Moon",
         "Male",
         "Madagascar",
         "2025-07-15T07:47:11.041Z"
        ],
        [
         "P0008",
         "Cheryl Glenn",
         "Male",
         "Maldives",
         "2025-07-15T07:47:11.041Z"
        ],
        [
         "P0009",
         "Allen Lowery",
         "Male",
         "Rwanda",
         "2025-07-15T07:47:11.041Z"
        ],
        [
         "P0010",
         "Maria Medina",
         "Male",
         "Denmark",
         "2025-07-15T07:47:11.041Z"
        ],
        [
         "P0011",
         "Michael Anderson MD",
         "Female",
         "Czech Republic",
         "2025-07-15T07:47:11.041Z"
        ],
        [
         "P0012",
         "Samantha Barnes",
         "Female",
         "British Virgin Islands",
         "2025-07-15T07:47:11.041Z"
        ],
        [
         "P0013",
         "Christine Young",
         "Male",
         "Iran",
         "2025-07-15T07:47:11.041Z"
        ],
        [
         "P0014",
         "Rebecca Sampson",
         "Male",
         "Suriname",
         "2025-07-15T07:47:11.041Z"
        ],
        [
         "P0015",
         "Brittany Schultz",
         "Female",
         "Tokelau",
         "2025-07-15T07:47:11.041Z"
        ],
        [
         "P0016",
         "Michael Terry",
         "Female",
         "El Salvador",
         "2025-07-15T07:47:11.041Z"
        ],
        [
         "P0017",
         "Billy Williams",
         "Male",
         "Togo",
         "2025-07-15T07:47:11.041Z"
        ],
        [
         "P0018",
         "Kyle Carter",
         "Female",
         "Lebanon",
         "2025-07-15T07:47:11.041Z"
        ],
        [
         "P0019",
         "Brittney Morgan",
         "Female",
         "Congo",
         "2025-07-15T07:47:11.041Z"
        ],
        [
         "P0020",
         "Xavier Rivera",
         "Female",
         "Timor-Leste",
         "2025-07-15T07:47:11.041Z"
        ],
        [
         "P0021",
         "Nicholas Ritter",
         "Female",
         "Korea",
         "2025-07-15T07:47:11.041Z"
        ],
        [
         "P0022",
         "Edward Rice",
         "Female",
         "Antigua and Barbuda",
         "2025-07-15T07:47:11.041Z"
        ],
        [
         "P0023",
         "Wendy Jones",
         "Female",
         "Haiti",
         "2025-07-15T07:47:11.041Z"
        ],
        [
         "P0024",
         "Jordan Moore",
         "Female",
         "Aruba",
         "2025-07-15T07:47:11.041Z"
        ],
        [
         "P0025",
         "Christopher Kim",
         "Male",
         "Greece",
         "2025-07-15T07:47:11.041Z"
        ],
        [
         "P0026",
         "Anita Jones",
         "Female",
         "Comoros",
         "2025-07-15T07:47:11.041Z"
        ],
        [
         "P0027",
         "Spencer Grimes Jr.",
         "Female",
         "Portugal",
         "2025-07-15T07:47:11.041Z"
        ],
        [
         "P0028",
         "Juan Sweeney",
         "Female",
         "Yemen",
         "2025-07-15T07:47:11.041Z"
        ],
        [
         "P0029",
         "Tony Adams",
         "Female",
         "British Virgin Islands",
         "2025-07-15T07:47:11.041Z"
        ],
        [
         "P0030",
         "Daniel Rush",
         "Male",
         "Tunisia",
         "2025-07-15T07:47:11.041Z"
        ],
        [
         "P0031",
         "Jesus Clark",
         "Female",
         "Namibia",
         "2025-07-15T07:47:11.041Z"
        ],
        [
         "P0032",
         "Brittany Aguirre",
         "Male",
         "Uzbekistan",
         "2025-07-15T07:47:11.041Z"
        ],
        [
         "P0033",
         "Sandra Green",
         "Male",
         "Switzerland",
         "2025-07-15T07:47:11.041Z"
        ],
        [
         "P0034",
         "Victoria Franklin",
         "Female",
         "Spain",
         "2025-07-15T07:47:11.041Z"
        ],
        [
         "P0035",
         "Gina Lee",
         "Male",
         "Samoa",
         "2025-07-15T07:47:11.041Z"
        ],
        [
         "P0036",
         "Abigail Brown",
         "Male",
         "France",
         "2025-07-15T07:47:11.041Z"
        ],
        [
         "P0037",
         "Cheryl Reyes",
         "Female",
         "French Guiana",
         "2025-07-15T07:47:11.041Z"
        ],
        [
         "P0038",
         "Heather Garcia",
         "Male",
         "Isle of Man",
         "2025-07-15T07:47:11.041Z"
        ],
        [
         "P0039",
         "Krystal Mathews",
         "Male",
         "Cyprus",
         "2025-07-15T07:47:11.041Z"
        ],
        [
         "P0040",
         "Troy Green",
         "Female",
         "Macao",
         "2025-07-15T07:47:11.041Z"
        ],
        [
         "P0041",
         "Amanda Hughes",
         "Male",
         "Kenya",
         "2025-07-15T07:47:11.041Z"
        ],
        [
         "P0042",
         "Nicholas Garcia",
         "Female",
         "Germany",
         "2025-07-15T07:47:11.041Z"
        ],
        [
         "P0043",
         "Gloria Hill",
         "Female",
         "Guadeloupe",
         "2025-07-15T07:47:11.041Z"
        ],
        [
         "P0044",
         "Lindsey Robinson",
         "Male",
         "Bermuda",
         "2025-07-15T07:47:11.041Z"
        ],
        [
         "P0045",
         "Mary Mann",
         "Female",
         "Sri Lanka",
         "2025-07-15T07:47:11.041Z"
        ],
        [
         "P0046",
         "Matthew Evans",
         "Female",
         "Guadeloupe",
         "2025-07-15T07:47:11.041Z"
        ],
        [
         "P0047",
         "Virginia Vance",
         "Female",
         "British Indian Ocean Territory (Chagos Archipelago)",
         "2025-07-15T07:47:11.041Z"
        ],
        [
         "P0048",
         "Jonathan Martinez",
         "Male",
         "Mayotte",
         "2025-07-15T07:47:11.041Z"
        ],
        [
         "P0049",
         "Douglas Montoya",
         "Female",
         "Pakistan",
         "2025-07-15T07:47:11.041Z"
        ],
        [
         "P0050",
         "Brandon Smith",
         "Male",
         "Senegal",
         "2025-07-15T07:47:11.041Z"
        ],
        [
         "P0051",
         "Brett Rios",
         "Female",
         "Guyana",
         "2025-07-15T07:47:11.041Z"
        ],
        [
         "P0052",
         "Jill Brennan",
         "Female",
         "Togo",
         "2025-07-15T07:47:11.041Z"
        ],
        [
         "P0053",
         "Glenda Silva",
         "Female",
         "Guinea",
         "2025-07-15T07:47:11.041Z"
        ],
        [
         "P0054",
         "Benjamin Mata",
         "Male",
         "Croatia",
         "2025-07-15T07:47:11.041Z"
        ],
        [
         "P0055",
         "William Tanner",
         "Female",
         "Guadeloupe",
         "2025-07-15T07:47:11.041Z"
        ],
        [
         "P0056",
         "Joseph James",
         "Male",
         "Turks and Caicos Islands",
         "2025-07-15T07:47:11.041Z"
        ],
        [
         "P0057",
         "Alexandra Sanders",
         "Female",
         "Australia",
         "2025-07-15T07:47:11.041Z"
        ],
        [
         "P0058",
         "William Meza",
         "Male",
         "Central African Republic",
         "2025-07-15T07:47:11.041Z"
        ],
        [
         "P0059",
         "Alexander Wells",
         "Male",
         "Bosnia and Herzegovina",
         "2025-07-15T07:47:11.041Z"
        ],
        [
         "P0060",
         "Megan Watts",
         "Male",
         "Bahrain",
         "2025-07-15T07:47:11.041Z"
        ],
        [
         "P0061",
         "Kelsey Andrews",
         "Female",
         "Solomon Islands",
         "2025-07-15T07:47:11.041Z"
        ],
        [
         "P0062",
         "Maria Gibbs",
         "Female",
         "Taiwan",
         "2025-07-15T07:47:11.041Z"
        ],
        [
         "P0063",
         "Mark Martin",
         "Male",
         "Saint Helena",
         "2025-07-15T07:47:11.041Z"
        ],
        [
         "P0064",
         "Pam Garcia",
         "Male",
         "Thailand",
         "2025-07-15T07:47:11.041Z"
        ],
        [
         "P0065",
         "Daniel Ray",
         "Female",
         "Argentina",
         "2025-07-15T07:47:11.041Z"
        ],
        [
         "P0066",
         "Brandi Maddox",
         "Male",
         "Senegal",
         "2025-07-15T07:47:11.041Z"
        ],
        [
         "P0067",
         "Jimmy Smith",
         "Female",
         "China",
         "2025-07-15T07:47:11.041Z"
        ],
        [
         "P0068",
         "Timothy Goodwin",
         "Female",
         "Kuwait",
         "2025-07-15T07:47:11.041Z"
        ],
        [
         "P0069",
         "Taylor Stephenson",
         "Female",
         "Spain",
         "2025-07-15T07:47:11.041Z"
        ],
        [
         "P0070",
         "Anthony Ingram",
         "Male",
         "Papua New Guinea",
         "2025-07-15T07:47:11.041Z"
        ],
        [
         "P0071",
         "Jeanette Garrison",
         "Male",
         "Andorra",
         "2025-07-15T07:47:11.041Z"
        ],
        [
         "P0072",
         "Seth Salazar",
         "Female",
         "Japan",
         "2025-07-15T07:47:11.041Z"
        ],
        [
         "P0073",
         "Tina Harris",
         "Male",
         "Korea",
         "2025-07-15T07:47:11.041Z"
        ],
        [
         "P0074",
         "Shelley Green",
         "Male",
         "Guyana",
         "2025-07-15T07:47:11.041Z"
        ],
        [
         "P0075",
         "Patrick Lyons",
         "Female",
         "Mayotte",
         "2025-07-15T07:47:11.041Z"
        ],
        [
         "P0076",
         "Edward Nelson",
         "Male",
         "Reunion",
         "2025-07-15T07:47:11.041Z"
        ],
        [
         "P0077",
         "Audrey Rodriguez",
         "Female",
         "Saint Barthelemy",
         "2025-07-15T07:47:11.041Z"
        ],
        [
         "P0078",
         "Darlene Perez",
         "Female",
         "Cyprus",
         "2025-07-15T07:47:11.041Z"
        ],
        [
         "P0079",
         "Tracy Russo",
         "Male",
         "Iceland",
         "2025-07-15T07:47:11.041Z"
        ],
        [
         "P0080",
         "Brandon Lynch",
         "Female",
         "Eritrea",
         "2025-07-15T07:47:11.041Z"
        ],
        [
         "P0081",
         "Amy Kim MD",
         "Female",
         "New Caledonia",
         "2025-07-15T07:47:11.041Z"
        ],
        [
         "P0082",
         "Sarah House",
         "Female",
         "Cook Islands",
         "2025-07-15T07:47:11.041Z"
        ],
        [
         "P0083",
         "Natalie Jones",
         "Male",
         "Faroe Islands",
         "2025-07-15T07:47:11.041Z"
        ],
        [
         "P0084",
         "Troy White",
         "Female",
         "Tokelau",
         "2025-07-15T07:47:11.041Z"
        ],
        [
         "P0085",
         "Frederick Robertson",
         "Female",
         "Germany",
         "2025-07-15T07:47:11.041Z"
        ],
        [
         "P0086",
         "Gloria Williams",
         "Male",
         "Somalia",
         "2025-07-15T07:47:11.041Z"
        ],
        [
         "P0087",
         "Andrew Carr",
         "Male",
         "Andorra",
         "2025-07-15T07:47:11.041Z"
        ],
        [
         "P0088",
         "Austin Murphy",
         "Female",
         "Lao People's Democratic Republic",
         "2025-07-15T07:47:11.041Z"
        ],
        [
         "P0089",
         "Daniel Jones",
         "Female",
         "Costa Rica",
         "2025-07-15T07:47:11.041Z"
        ],
        [
         "P0090",
         "Ryan Anderson",
         "Male",
         "Spain",
         "2025-07-15T07:47:11.041Z"
        ],
        [
         "P0091",
         "Kenneth Dean",
         "Female",
         "Bhutan",
         "2025-07-15T07:47:11.041Z"
        ],
        [
         "P0092",
         "Robert Mason",
         "Male",
         "Micronesia",
         "2025-07-15T07:47:11.041Z"
        ],
        [
         "P0093",
         "Austin Ortega DVM",
         "Female",
         "Korea",
         "2025-07-15T07:47:11.041Z"
        ],
        [
         "P0094",
         "Kristen Pierce",
         "Male",
         "Tonga",
         "2025-07-15T07:47:11.041Z"
        ],
        [
         "P0095",
         "Kelsey Hill",
         "Male",
         "Cook Islands",
         "2025-07-15T07:47:11.041Z"
        ],
        [
         "P0096",
         "Erika Hall",
         "Male",
         "Kenya",
         "2025-07-15T07:47:11.041Z"
        ],
        [
         "P0097",
         "Kristen Bailey",
         "Male",
         "Bermuda",
         "2025-07-15T07:47:11.041Z"
        ],
        [
         "P0098",
         "Andrea Mcknight",
         "Male",
         "Samoa",
         "2025-07-15T07:47:11.041Z"
        ],
        [
         "P0099",
         "Ryan Curry",
         "Female",
         "Qatar",
         "2025-07-15T07:47:11.041Z"
        ],
        [
         "P0100",
         "Benjamin Cowan",
         "Male",
         "Namibia",
         "2025-07-15T07:47:11.041Z"
        ],
        [
         "P0101",
         "Dale Figueroa",
         "Female",
         "Albania",
         "2025-07-15T07:47:11.041Z"
        ],
        [
         "P0102",
         "Michael Collins",
         "Male",
         "Turkey",
         "2025-07-15T07:47:11.041Z"
        ],
        [
         "P0103",
         "Nicholas Chapman",
         "Male",
         "Jersey",
         "2025-07-15T07:47:11.041Z"
        ],
        [
         "P0104",
         "Amy Rose",
         "Female",
         "British Virgin Islands",
         "2025-07-15T07:47:11.041Z"
        ],
        [
         "P0105",
         "James Frederick",
         "Female",
         "Cote d'Ivoire",
         "2025-07-15T07:47:11.041Z"
        ],
        [
         "P0106",
         "Ashley Freeman",
         "Female",
         "Belize",
         "2025-07-15T07:47:11.041Z"
        ],
        [
         "P0107",
         "Brittany Young",
         "Female",
         "Taiwan",
         "2025-07-15T07:47:11.041Z"
        ],
        [
         "P0108",
         "Pamela Byrd",
         "Female",
         "Morocco",
         "2025-07-15T07:47:11.041Z"
        ],
        [
         "P0109",
         "Brian Mosley",
         "Male",
         "Brunei Darussalam",
         "2025-07-15T07:47:11.041Z"
        ],
        [
         "P0110",
         "Eric Stephens",
         "Female",
         "Guyana",
         "2025-07-15T07:47:11.041Z"
        ],
        [
         "P0111",
         "Cheyenne Estes",
         "Male",
         "Nepal",
         "2025-07-15T07:47:11.041Z"
        ],
        [
         "P0112",
         "William Bailey",
         "Male",
         "Micronesia",
         "2025-07-15T07:47:11.041Z"
        ],
        [
         "P0113",
         "Timothy Stone",
         "Male",
         "Sierra Leone",
         "2025-07-15T07:47:11.041Z"
        ],
        [
         "P0114",
         "Charles Stanley",
         "Female",
         "Tonga",
         "2025-07-15T07:47:11.041Z"
        ],
        [
         "P0115",
         "Diana Fisher",
         "Male",
         "Netherlands",
         "2025-07-15T07:47:11.041Z"
        ],
        [
         "P0116",
         "Richard Mayer",
         "Male",
         "Cayman Islands",
         "2025-07-15T07:47:11.041Z"
        ],
        [
         "P0117",
         "Scott Acosta",
         "Female",
         "Hong Kong",
         "2025-07-15T07:47:11.041Z"
        ],
        [
         "P0118",
         "Anita Figueroa",
         "Male",
         "Mauritania",
         "2025-07-15T07:47:11.041Z"
        ],
        [
         "P0119",
         "Paul Sanchez",
         "Male",
         "Bouvet Island (Bouvetoya)",
         "2025-07-15T07:47:11.041Z"
        ],
        [
         "P0120",
         "Tiffany Williams",
         "Female",
         "New Caledonia",
         "2025-07-15T07:47:11.041Z"
        ],
        [
         "P0121",
         "Bethany Foley",
         "Male",
         "Romania",
         "2025-07-15T07:47:11.041Z"
        ],
        [
         "P0122",
         "Joshua White",
         "Male",
         "Bouvet Island (Bouvetoya)",
         "2025-07-15T07:47:11.041Z"
        ],
        [
         "P0123",
         "Stephanie Rush",
         "Female",
         "Belgium",
         "2025-07-15T07:47:11.041Z"
        ],
        [
         "P0124",
         "Alyssa Herrera",
         "Female",
         "Martinique",
         "2025-07-15T07:47:11.041Z"
        ],
        [
         "P0125",
         "Katherine Aguilar",
         "Male",
         "Cambodia",
         "2025-07-15T07:47:11.041Z"
        ],
        [
         "P0126",
         "Charles Wilson",
         "Male",
         "Palau",
         "2025-07-15T07:47:11.041Z"
        ],
        [
         "P0127",
         "Chloe Conway",
         "Male",
         "Brunei Darussalam",
         "2025-07-15T07:47:11.041Z"
        ],
        [
         "P0128",
         "Nicole Walters",
         "Male",
         "Dominica",
         "2025-07-15T07:47:11.041Z"
        ],
        [
         "P0129",
         "Desiree Gonzales",
         "Female",
         "Saint Helena",
         "2025-07-15T07:47:11.041Z"
        ],
        [
         "P0130",
         "Gregory Alexander",
         "Female",
         "Slovakia (Slovak Republic)",
         "2025-07-15T07:47:11.041Z"
        ],
        [
         "P0131",
         "Dr. Kyle Salazar",
         "Male",
         "Brazil",
         "2025-07-15T07:47:11.041Z"
        ],
        [
         "P0132",
         "Makayla Robbins",
         "Male",
         "Kazakhstan",
         "2025-07-15T07:47:11.041Z"
        ],
        [
         "P0133",
         "Scott Morales",
         "Male",
         "Angola",
         "2025-07-15T07:47:11.041Z"
        ],
        [
         "P0134",
         "Phyllis Lewis",
         "Female",
         "Northern Mariana Islands",
         "2025-07-15T07:47:11.041Z"
        ],
        [
         "P0135",
         "David Hamilton",
         "Female",
         "Sri Lanka",
         "2025-07-15T07:47:11.041Z"
        ],
        [
         "P0136",
         "Melinda Smith",
         "Female",
         "Swaziland",
         "2025-07-15T07:47:11.041Z"
        ],
        [
         "P0137",
         "Vanessa Fuller",
         "Female",
         "Moldova",
         "2025-07-15T07:47:11.041Z"
        ],
        [
         "P0138",
         "Christopher Wilkinson",
         "Male",
         "Canada",
         "2025-07-15T07:47:11.041Z"
        ],
        [
         "P0139",
         "Brent Johnson",
         "Female",
         "Bahamas",
         "2025-07-15T07:47:11.041Z"
        ],
        [
         "P0140",
         "Mark Taylor",
         "Male",
         "Kyrgyz Republic",
         "2025-07-15T07:47:11.041Z"
        ],
        [
         "P0141",
         "Joshua Richardson",
         "Female",
         "Northern Mariana Islands",
         "2025-07-15T07:47:11.041Z"
        ],
        [
         "P0142",
         "Dr. Nancy Jacobs PhD",
         "Male",
         "Belgium",
         "2025-07-15T07:47:11.041Z"
        ],
        [
         "P0143",
         "Vincent Sanchez",
         "Female",
         "Tuvalu",
         "2025-07-15T07:47:11.041Z"
        ],
        [
         "P0144",
         "Jennifer Gutierrez",
         "Female",
         "Bulgaria",
         "2025-07-15T07:47:11.041Z"
        ],
        [
         "P0145",
         "Michael Simmons",
         "Female",
         "Cape Verde",
         "2025-07-15T07:47:11.041Z"
        ],
        [
         "P0146",
         "Phillip Myers",
         "Female",
         "Slovenia",
         "2025-07-15T07:47:11.041Z"
        ],
        [
         "P0147",
         "Joshua Mendoza",
         "Male",
         "Tokelau",
         "2025-07-15T07:47:11.041Z"
        ],
        [
         "P0148",
         "James Camacho",
         "Male",
         "Switzerland",
         "2025-07-15T07:47:11.041Z"
        ],
        [
         "P0149",
         "Samuel Sellers",
         "Male",
         "Puerto Rico",
         "2025-07-15T07:47:11.041Z"
        ],
        [
         "P0150",
         "Charles Wade",
         "Male",
         "El Salvador",
         "2025-07-15T07:47:11.041Z"
        ],
        [
         "P0151",
         "Katherine Young",
         "Male",
         "Nigeria",
         "2025-07-15T07:47:11.041Z"
        ],
        [
         "P0152",
         "Kristin Cole",
         "Male",
         "Saint Lucia",
         "2025-07-15T07:47:11.041Z"
        ],
        [
         "P0153",
         "Melissa Patterson",
         "Female",
         "Cambodia",
         "2025-07-15T07:47:11.041Z"
        ],
        [
         "P0154",
         "Erin Perez",
         "Female",
         "Puerto Rico",
         "2025-07-15T07:47:11.041Z"
        ],
        [
         "P0155",
         "Rebecca Trujillo",
         "Female",
         "Swaziland",
         "2025-07-15T07:47:11.041Z"
        ],
        [
         "P0156",
         "Nicole Drake",
         "Female",
         "Jordan",
         "2025-07-15T07:47:11.041Z"
        ],
        [
         "P0157",
         "Daniel Sawyer",
         "Male",
         "Mayotte",
         "2025-07-15T07:47:11.041Z"
        ],
        [
         "P0158",
         "Richard Barrett",
         "Male",
         "Brunei Darussalam",
         "2025-07-15T07:47:11.041Z"
        ],
        [
         "P0159",
         "Nicholas Williams",
         "Male",
         "Austria",
         "2025-07-15T07:47:11.041Z"
        ],
        [
         "P0160",
         "Juan Pineda",
         "Male",
         "Burkina Faso",
         "2025-07-15T07:47:11.041Z"
        ],
        [
         "P0161",
         "Edward Morris",
         "Female",
         "Syrian Arab Republic",
         "2025-07-15T07:47:11.041Z"
        ],
        [
         "P0162",
         "Rebecca Hendricks",
         "Male",
         "Faroe Islands",
         "2025-07-15T07:47:11.041Z"
        ],
        [
         "P0163",
         "Benjamin Aguilar",
         "Female",
         "Netherlands Antilles",
         "2025-07-15T07:47:11.041Z"
        ],
        [
         "P0164",
         "Andrew Snyder",
         "Male",
         "Gabon",
         "2025-07-15T07:47:11.041Z"
        ],
        [
         "P0165",
         "Jessica Hansen",
         "Male",
         "British Indian Ocean Territory (Chagos Archipelago)",
         "2025-07-15T07:47:11.041Z"
        ],
        [
         "P0166",
         "Walter Thompson",
         "Male",
         "Malaysia",
         "2025-07-15T07:47:11.041Z"
        ],
        [
         "P0167",
         "Michael Diaz",
         "Female",
         "Kiribati",
         "2025-07-15T07:47:11.041Z"
        ],
        [
         "P0168",
         "Norman Jones",
         "Female",
         "Faroe Islands",
         "2025-07-15T07:47:11.041Z"
        ],
        [
         "P0169",
         "Jessica Sampson",
         "Female",
         "Northern Mariana Islands",
         "2025-07-15T07:47:11.041Z"
        ],
        [
         "P0170",
         "Julie Sullivan",
         "Female",
         "Ireland",
         "2025-07-15T07:47:11.041Z"
        ],
        [
         "P0171",
         "Brittany Smith",
         "Female",
         "Australia",
         "2025-07-15T07:47:11.041Z"
        ],
        [
         "P0172",
         "Noah Herrera",
         "Female",
         "Monaco",
         "2025-07-15T07:47:11.041Z"
        ],
        [
         "P0173",
         "Mary Avila",
         "Male",
         "Rwanda",
         "2025-07-15T07:47:11.041Z"
        ],
        [
         "P0174",
         "Michael Johnson",
         "Female",
         "Chad",
         "2025-07-15T07:47:11.041Z"
        ],
        [
         "P0175",
         "Sheri Novak",
         "Male",
         "Turks and Caicos Islands",
         "2025-07-15T07:47:11.041Z"
        ],
        [
         "P0176",
         "Martin Prince",
         "Male",
         "Central African Republic",
         "2025-07-15T07:47:11.041Z"
        ],
        [
         "P0177",
         "Eric Tucker",
         "Female",
         "Zambia",
         "2025-07-15T07:47:11.041Z"
        ],
        [
         "P0178",
         "Brenda Dennis",
         "Male",
         "Saint Lucia",
         "2025-07-15T07:47:11.041Z"
        ],
        [
         "P0179",
         "Shelby Tucker",
         "Male",
         "Malaysia",
         "2025-07-15T07:47:11.041Z"
        ],
        [
         "P0180",
         "Chelsea Copeland",
         "Female",
         "Bolivia",
         "2025-07-15T07:47:11.041Z"
        ],
        [
         "P0181",
         "Ryan Jenkins",
         "Female",
         "Lao People's Democratic Republic",
         "2025-07-15T07:47:11.041Z"
        ],
        [
         "P0182",
         "Eric Martin",
         "Female",
         "Mauritius",
         "2025-07-15T07:47:11.041Z"
        ],
        [
         "P0183",
         "Benjamin Garcia",
         "Female",
         "Saint Pierre and Miquelon",
         "2025-07-15T07:47:11.041Z"
        ],
        [
         "P0184",
         "Evan Scott",
         "Female",
         "South Africa",
         "2025-07-15T07:47:11.041Z"
        ],
        [
         "P0185",
         "Karen Maynard",
         "Male",
         "Romania",
         "2025-07-15T07:47:11.041Z"
        ],
        [
         "P0186",
         "Kathryn Foster",
         "Male",
         "Bahrain",
         "2025-07-15T07:47:11.041Z"
        ],
        [
         "P0187",
         "Christopher Wade",
         "Female",
         "Lesotho",
         "2025-07-15T07:47:11.041Z"
        ],
        [
         "P0188",
         "Yvette Morton",
         "Female",
         "Vanuatu",
         "2025-07-15T07:47:11.041Z"
        ],
        [
         "P0189",
         "Joel Gomez",
         "Female",
         "Bulgaria",
         "2025-07-15T07:47:11.041Z"
        ],
        [
         "P0190",
         "Joyce Parker",
         "Male",
         "Lebanon",
         "2025-07-15T07:47:11.041Z"
        ],
        [
         "P0191",
         "Linda Moore",
         "Male",
         "Norfolk Island",
         "2025-07-15T07:47:11.041Z"
        ],
        [
         "P0192",
         "Dr. Chris Dean",
         "Female",
         "Seychelles",
         "2025-07-15T07:47:11.041Z"
        ],
        [
         "P0193",
         "Dr. Justin Rivera",
         "Male",
         "India",
         "2025-07-15T07:47:11.041Z"
        ],
        [
         "P0194",
         "Tommy Baker",
         "Male",
         "Venezuela",
         "2025-07-15T07:47:11.041Z"
        ],
        [
         "P0195",
         "Lisa Bautista",
         "Male",
         "Honduras",
         "2025-07-15T07:47:11.041Z"
        ],
        [
         "P0196",
         "Jamie Simon",
         "Female",
         "Nicaragua",
         "2025-07-15T07:47:11.041Z"
        ],
        [
         "P0197",
         "Alicia Parks",
         "Male",
         "Georgia",
         "2025-07-15T07:47:11.041Z"
        ],
        [
         "P0198",
         "Timothy Carroll",
         "Male",
         "Korea",
         "2025-07-15T07:47:11.041Z"
        ],
        [
         "P0199",
         "Marie Gonzales",
         "Male",
         "Kazakhstan",
         "2025-07-15T07:47:11.041Z"
        ],
        [
         "P0200",
         "Jim Berry",
         "Female",
         "Trinidad and Tobago",
         "2025-07-15T07:47:11.041Z"
        ],
        [
         "P0201",
         "Michele Perry",
         "Male",
         "Czech Republic",
         "2025-07-15T07:47:11.041Z"
        ],
        [
         "P0202",
         "Javier Mccormick",
         "Male",
         "Bolivia",
         "2025-07-15T07:47:11.041Z"
        ],
        [
         "P0203",
         "Michelle Alvarado",
         "Male",
         "Iraq",
         "2025-07-15T07:47:11.041Z"
        ],
        [
         "P0204",
         "Jamie Harrell",
         "Female",
         "Norway",
         "2025-07-15T07:47:11.041Z"
        ],
        [
         "P0205",
         "James Bender",
         "Female",
         "Saint Barthelemy",
         "2025-07-15T07:47:11.041Z"
        ],
        [
         "P0206",
         "Amy Burns",
         "Female",
         "Malta",
         "2025-07-15T07:47:11.041Z"
        ],
        [
         "P0207",
         "Angela Sparks",
         "Male",
         "Nicaragua",
         "2025-07-15T07:47:11.041Z"
        ],
        [
         "P0208",
         "Cynthia Salas",
         "Male",
         "United States of America",
         "2025-07-15T07:47:11.041Z"
        ],
        [
         "P0209",
         "Christine Norman",
         "Female",
         "Sudan",
         "2025-07-15T07:47:11.041Z"
        ],
        [
         "P0210",
         "Robert Davis",
         "Male",
         "Puerto Rico",
         "2025-07-15T07:47:11.041Z"
        ],
        [
         "P0211",
         "Gregory Williams",
         "Female",
         "Trinidad and Tobago",
         "2025-07-15T07:47:11.041Z"
        ],
        [
         "P0212",
         "Suzanne Myers",
         "Male",
         "Algeria",
         "2025-07-15T07:47:11.041Z"
        ],
        [
         "P0213",
         "Norman Daniel",
         "Female",
         "Korea",
         "2025-07-15T07:47:11.041Z"
        ],
        [
         "P0214",
         "Vanessa Yang",
         "Female",
         "Bhutan",
         "2025-07-15T07:47:11.041Z"
        ],
        [
         "P0215",
         "Alexander Smith",
         "Female",
         "Mali",
         "2025-07-15T07:47:11.041Z"
        ],
        [
         "P0216",
         "Michele Hunter",
         "Male",
         "Cambodia",
         "2025-07-15T07:47:11.041Z"
        ],
        [
         "P0217",
         "Emily Buchanan",
         "Female",
         "Uganda",
         "2025-07-15T07:47:11.041Z"
        ],
        [
         "P0218",
         "David Rhodes",
         "Female",
         "Saint Vincent and the Grenadines",
         "2025-07-15T07:47:11.041Z"
        ],
        [
         "P0219",
         "Mary Burke",
         "Female",
         "Heard Island and McDonald Islands",
         "2025-07-15T07:47:11.041Z"
        ],
        [
         "P0220",
         "Robert Johnson",
         "Female",
         "Nigeria",
         "2025-07-15T07:47:11.041Z"
        ]
       ],
       "datasetInfos": [],
       "dbfsResultPath": null,
       "isJsonSchema": true,
       "metadata": {},
       "overflow": false,
       "plotOptions": {
        "customPlotOptions": {},
        "displayType": "table",
        "pivotAggregation": null,
        "pivotColumns": null,
        "xColumns": null,
        "yColumns": null
       },
       "removedWidgets": [],
       "schema": [
        {
         "metadata": "{}",
         "name": "passenger_id",
         "type": "\"string\""
        },
        {
         "metadata": "{}",
         "name": "name",
         "type": "\"string\""
        },
        {
         "metadata": "{}",
         "name": "gender",
         "type": "\"string\""
        },
        {
         "metadata": "{}",
         "name": "nationality",
         "type": "\"string\""
        },
        {
         "metadata": "{}",
         "name": "modifiedDate",
         "type": "\"timestamp\""
        }
       ],
       "type": "table"
      }
     },
     "output_type": "display_data"
    }
   ],
   "source": [
    "df = spark.read.format(\"delta\").load(\"/Volumes/workspace/bronze/bronzevolume/customer/data/\")\n",
    "df = df.drop(\"_rescued_data\")\\\n",
    "       .withColumn(\"modifiedDate\", current_timestamp())\n",
    "\n",
    "display(df)"
   ]
  },
  {
   "cell_type": "code",
   "execution_count": 0,
   "metadata": {
    "application/vnd.databricks.v1+cell": {
     "cellMetadata": {
      "byteLimit": 2048000,
      "rowLimit": 10000
     },
     "inputWidgets": {},
     "nuid": "ba127eb3-3926-45df-9859-831bce1f78a3",
     "showTitle": false,
     "tableResultSettingsMap": {},
     "title": ""
    }
   },
   "outputs": [
    {
     "output_type": "display_data",
     "data": {
      "text/html": [
       "<style scoped>\n",
       "  .table-result-container {\n",
       "    max-height: 300px;\n",
       "    overflow: auto;\n",
       "  }\n",
       "  table, th, td {\n",
       "    border: 1px solid black;\n",
       "    border-collapse: collapse;\n",
       "  }\n",
       "  th, td {\n",
       "    padding: 5px;\n",
       "  }\n",
       "  th {\n",
       "    text-align: left;\n",
       "  }\n",
       "</style><div class='table-result-container'><table class='table-result'><thead style='background-color: white'><tr><th>flight_id</th><th>airline</th><th>origin</th><th>destination</th><th>flight_date</th><th>modifiedDate</th></tr></thead><tbody><tr><td>F0001</td><td>Delta</td><td>Kellyfort</td><td>South Kathleen</td><td>2025-05-04</td><td>2025-07-15T06:59:44.320Z</td></tr><tr><td>F0002</td><td>Qatar Airways</td><td>Lake Stephen</td><td>New Vincent</td><td>2025-04-29</td><td>2025-07-15T06:59:44.320Z</td></tr><tr><td>F0003</td><td>Lufthansa</td><td>East Patrickborough</td><td>North Mary</td><td>2025-05-11</td><td>2025-07-15T06:59:44.320Z</td></tr><tr><td>F0004</td><td>Delta</td><td>Maddenshire</td><td>Johnchester</td><td>2025-05-16</td><td>2025-07-15T06:59:44.320Z</td></tr><tr><td>F0005</td><td>Qatar Airways</td><td>Bennettside</td><td>New Mistyhaven</td><td>2025-06-13</td><td>2025-07-15T06:59:44.320Z</td></tr><tr><td>F0006</td><td>Air Canada</td><td>New Richardside</td><td>South Jamesborough</td><td>2025-05-16</td><td>2025-07-15T06:59:44.320Z</td></tr><tr><td>F0007</td><td>Delta</td><td>Berryport</td><td>Miguelburgh</td><td>2025-05-24</td><td>2025-07-15T06:59:44.320Z</td></tr><tr><td>F0008</td><td>Lufthansa</td><td>Briannachester</td><td>Cervantesland</td><td>2025-05-26</td><td>2025-07-15T06:59:44.320Z</td></tr><tr><td>F0009</td><td>Delta</td><td>Alexandraborough</td><td>North Alexishaven</td><td>2025-06-10</td><td>2025-07-15T06:59:44.320Z</td></tr><tr><td>F0010</td><td>Emirates</td><td>Kruegerchester</td><td>Martintown</td><td>2025-05-20</td><td>2025-07-15T06:59:44.320Z</td></tr><tr><td>F0011</td><td>Lufthansa</td><td>Port Joannahaven</td><td>North Jasonton</td><td>2025-05-30</td><td>2025-07-15T06:59:44.320Z</td></tr><tr><td>F0012</td><td>Air Canada</td><td>New Hunter</td><td>East Maria</td><td>2025-04-23</td><td>2025-07-15T06:59:44.320Z</td></tr><tr><td>F0013</td><td>Air Canada</td><td>East Brian</td><td>Wayneton</td><td>2025-05-21</td><td>2025-07-15T06:59:44.320Z</td></tr><tr><td>F0014</td><td>Air Canada</td><td>Toddland</td><td>Gonzalezport</td><td>2025-05-28</td><td>2025-07-15T06:59:44.320Z</td></tr><tr><td>F0015</td><td>Delta</td><td>West Ginaton</td><td>Youngmouth</td><td>2025-05-21</td><td>2025-07-15T06:59:44.320Z</td></tr><tr><td>F0016</td><td>Qatar Airways</td><td>Smithborough</td><td>Randallview</td><td>2025-05-02</td><td>2025-07-15T06:59:44.320Z</td></tr><tr><td>F0017</td><td>Delta</td><td>Wallermouth</td><td>New Rogerberg</td><td>2025-05-04</td><td>2025-07-15T06:59:44.320Z</td></tr><tr><td>F0018</td><td>Air Canada</td><td>Schultzborough</td><td>Danielton</td><td>2025-06-01</td><td>2025-07-15T06:59:44.320Z</td></tr><tr><td>F0019</td><td>Lufthansa</td><td>Lake Scott</td><td>Christineborough</td><td>2025-05-18</td><td>2025-07-15T06:59:44.320Z</td></tr><tr><td>F0020</td><td>Lufthansa</td><td>North Jack</td><td>Loweville</td><td>2025-06-02</td><td>2025-07-15T06:59:44.320Z</td></tr><tr><td>F0021</td><td>Emirates</td><td>South Sara</td><td>North Annaport</td><td>2025-05-29</td><td>2025-07-15T06:59:44.320Z</td></tr><tr><td>F0022</td><td>Air Canada</td><td>Reedchester</td><td>Cruzton</td><td>2025-04-27</td><td>2025-07-15T06:59:44.320Z</td></tr><tr><td>F0023</td><td>Lufthansa</td><td>Port Jeremyfurt</td><td>Lake Walterside</td><td>2025-05-11</td><td>2025-07-15T06:59:44.320Z</td></tr><tr><td>F0024</td><td>Lufthansa</td><td>Leestad</td><td>Port Debra</td><td>2025-05-09</td><td>2025-07-15T06:59:44.320Z</td></tr><tr><td>F0025</td><td>Qatar Airways</td><td>Chelseaberg</td><td>North Michaelshire</td><td>2025-06-01</td><td>2025-07-15T06:59:44.320Z</td></tr><tr><td>F0026</td><td>Air Canada</td><td>New Deborahfort</td><td>New Sabrina</td><td>2025-05-10</td><td>2025-07-15T06:59:44.320Z</td></tr><tr><td>F0027</td><td>Delta</td><td>Acevedoville</td><td>Ericchester</td><td>2025-05-14</td><td>2025-07-15T06:59:44.320Z</td></tr><tr><td>F0028</td><td>Delta</td><td>South Michaelberg</td><td>South Markbury</td><td>2025-05-30</td><td>2025-07-15T06:59:44.320Z</td></tr><tr><td>F0029</td><td>Qatar Airways</td><td>Shortberg</td><td>Julieburgh</td><td>2025-05-11</td><td>2025-07-15T06:59:44.320Z</td></tr><tr><td>F0030</td><td>Delta</td><td>Angelamouth</td><td>Sosaside</td><td>2025-06-16</td><td>2025-07-15T06:59:44.320Z</td></tr><tr><td>F0031</td><td>Emirates</td><td>Billview</td><td>Jonathonborough</td><td>2025-06-14</td><td>2025-07-15T06:59:44.320Z</td></tr><tr><td>F0032</td><td>Emirates</td><td>Bushhaven</td><td>Patriciamouth</td><td>2025-05-22</td><td>2025-07-15T06:59:44.320Z</td></tr><tr><td>F0033</td><td>Air Canada</td><td>Sandersshire</td><td>Lake Joseside</td><td>2025-06-21</td><td>2025-07-15T06:59:44.320Z</td></tr><tr><td>F0034</td><td>Emirates</td><td>Johnsonville</td><td>Cooperland</td><td>2025-05-18</td><td>2025-07-15T06:59:44.320Z</td></tr><tr><td>F0035</td><td>Lufthansa</td><td>Karenshire</td><td>North Anthonymouth</td><td>2025-05-21</td><td>2025-07-15T06:59:44.320Z</td></tr><tr><td>F0036</td><td>Lufthansa</td><td>Armstrongbury</td><td>North Natashamouth</td><td>2025-05-05</td><td>2025-07-15T06:59:44.320Z</td></tr><tr><td>F0037</td><td>Air Canada</td><td>Yangville</td><td>Jacksonview</td><td>2025-04-29</td><td>2025-07-15T06:59:44.320Z</td></tr><tr><td>F0038</td><td>Delta</td><td>Port Nicole</td><td>South Corey</td><td>2025-05-22</td><td>2025-07-15T06:59:44.320Z</td></tr><tr><td>F0039</td><td>Air Canada</td><td>Paultown</td><td>Kellyton</td><td>2025-05-19</td><td>2025-07-15T06:59:44.320Z</td></tr><tr><td>F0040</td><td>Delta</td><td>Ianport</td><td>Lake Reginaldside</td><td>2025-04-23</td><td>2025-07-15T06:59:44.320Z</td></tr><tr><td>F0041</td><td>Air Canada</td><td>Lake Stanleyside</td><td>Port Scott</td><td>2025-06-14</td><td>2025-07-15T06:59:44.320Z</td></tr><tr><td>F0042</td><td>Air Canada</td><td>Port William</td><td>Darrenmouth</td><td>2025-05-11</td><td>2025-07-15T06:59:44.320Z</td></tr><tr><td>F0043</td><td>Lufthansa</td><td>Kimberlyborough</td><td>New Annfort</td><td>2025-05-15</td><td>2025-07-15T06:59:44.320Z</td></tr><tr><td>F0044</td><td>Qatar Airways</td><td>East Kaylaburgh</td><td>Lake Carolynchester</td><td>2025-06-01</td><td>2025-07-15T06:59:44.320Z</td></tr><tr><td>F0045</td><td>Emirates</td><td>North Michaelville</td><td>Russellton</td><td>2025-05-04</td><td>2025-07-15T06:59:44.320Z</td></tr><tr><td>F0046</td><td>Qatar Airways</td><td>West David</td><td>North Becky</td><td>2025-04-30</td><td>2025-07-15T06:59:44.320Z</td></tr><tr><td>F0047</td><td>Lufthansa</td><td>New Cory</td><td>Lorettashire</td><td>2025-05-05</td><td>2025-07-15T06:59:44.320Z</td></tr><tr><td>F0048</td><td>Lufthansa</td><td>Cooperview</td><td>Michelleburgh</td><td>2025-05-24</td><td>2025-07-15T06:59:44.320Z</td></tr><tr><td>F0049</td><td>Emirates</td><td>New Elizabethmouth</td><td>Lake Heathermouth</td><td>2025-05-06</td><td>2025-07-15T06:59:44.320Z</td></tr><tr><td>F0050</td><td>Air Canada</td><td>East Gailtown</td><td>Stevenville</td><td>2025-04-28</td><td>2025-07-15T06:59:44.320Z</td></tr><tr><td>F0051</td><td>Qatar Airways</td><td>Lisafurt</td><td>New Robert</td><td>2025-05-07</td><td>2025-07-15T06:59:44.320Z</td></tr><tr><td>F0052</td><td>Qatar Airways</td><td>Lake Richard</td><td>Brookston</td><td>2025-05-28</td><td>2025-07-15T06:59:44.320Z</td></tr><tr><td>F0053</td><td>Qatar Airways</td><td>West Dylanbury</td><td>North Wendy</td><td>2025-05-24</td><td>2025-07-15T06:59:44.320Z</td></tr><tr><td>F0054</td><td>Air Canada</td><td>Seanmouth</td><td>North Kathyton</td><td>2025-05-09</td><td>2025-07-15T06:59:44.320Z</td></tr><tr><td>F0055</td><td>Air Canada</td><td>Spencerborough</td><td>Randyville</td><td>2025-06-09</td><td>2025-07-15T06:59:44.320Z</td></tr><tr><td>F0056</td><td>Lufthansa</td><td>South Natalie</td><td>Schaefertown</td><td>2025-05-03</td><td>2025-07-15T06:59:44.320Z</td></tr><tr><td>F0057</td><td>Air Canada</td><td>Samanthashire</td><td>Fisherstad</td><td>2025-06-09</td><td>2025-07-15T06:59:44.320Z</td></tr><tr><td>F0058</td><td>Delta</td><td>North Brittanyborough</td><td>West Kellystad</td><td>2025-06-10</td><td>2025-07-15T06:59:44.320Z</td></tr><tr><td>F0059</td><td>Lufthansa</td><td>South Jeffrey</td><td>Jamesland</td><td>2025-05-10</td><td>2025-07-15T06:59:44.320Z</td></tr><tr><td>F0060</td><td>Air Canada</td><td>Port Angelicaborough</td><td>East Daniel</td><td>2025-05-21</td><td>2025-07-15T06:59:44.320Z</td></tr><tr><td>F0061</td><td>Lufthansa</td><td>Dawnshire</td><td>Stevenmouth</td><td>2025-04-24</td><td>2025-07-15T06:59:44.320Z</td></tr><tr><td>F0062</td><td>Lufthansa</td><td>East Samanthafurt</td><td>Lake Troy</td><td>2025-05-12</td><td>2025-07-15T06:59:44.320Z</td></tr><tr><td>F0063</td><td>Lufthansa</td><td>Floresshire</td><td>New Anita</td><td>2025-06-03</td><td>2025-07-15T06:59:44.320Z</td></tr><tr><td>F0064</td><td>Delta</td><td>East Joshuastad</td><td>North Austinland</td><td>2025-05-25</td><td>2025-07-15T06:59:44.320Z</td></tr><tr><td>F0065</td><td>Emirates</td><td>East Paulland</td><td>Barnesberg</td><td>2025-04-29</td><td>2025-07-15T06:59:44.320Z</td></tr><tr><td>F0066</td><td>Qatar Airways</td><td>Stephenberg</td><td>Marcborough</td><td>2025-06-04</td><td>2025-07-15T06:59:44.320Z</td></tr><tr><td>F0067</td><td>Delta</td><td>Campbellborough</td><td>South Jason</td><td>2025-05-13</td><td>2025-07-15T06:59:44.320Z</td></tr><tr><td>F0068</td><td>Qatar Airways</td><td>Lake Seanport</td><td>Fieldsstad</td><td>2025-06-17</td><td>2025-07-15T06:59:44.320Z</td></tr><tr><td>F0069</td><td>Qatar Airways</td><td>Johnsonburgh</td><td>Woodmouth</td><td>2025-06-14</td><td>2025-07-15T06:59:44.320Z</td></tr><tr><td>F0070</td><td>Air Canada</td><td>Glennhaven</td><td>Port Darrenchester</td><td>2025-05-04</td><td>2025-07-15T06:59:44.320Z</td></tr><tr><td>F0071</td><td>Delta</td><td>Jefferyberg</td><td>Wendyshire</td><td>2025-06-17</td><td>2025-07-15T06:59:44.320Z</td></tr><tr><td>F0072</td><td>Emirates</td><td>Heiditown</td><td>Port Sabrinaburgh</td><td>2025-05-22</td><td>2025-07-15T06:59:44.320Z</td></tr><tr><td>F0073</td><td>Lufthansa</td><td>South Jasonville</td><td>Clarkeshire</td><td>2025-06-09</td><td>2025-07-15T06:59:44.320Z</td></tr><tr><td>F0074</td><td>Air Canada</td><td>Duffyville</td><td>Port Vanessa</td><td>2025-05-28</td><td>2025-07-15T06:59:44.320Z</td></tr><tr><td>F0075</td><td>Qatar Airways</td><td>New Danielhaven</td><td>Cunninghamfurt</td><td>2025-04-27</td><td>2025-07-15T06:59:44.320Z</td></tr><tr><td>F0076</td><td>Lufthansa</td><td>Johnsonchester</td><td>New Michael</td><td>2025-05-14</td><td>2025-07-15T06:59:44.320Z</td></tr><tr><td>F0077</td><td>Qatar Airways</td><td>Samuelfort</td><td>Port Ashley</td><td>2025-06-12</td><td>2025-07-15T06:59:44.320Z</td></tr><tr><td>F0078</td><td>Qatar Airways</td><td>Howardbury</td><td>Burchburgh</td><td>2025-05-09</td><td>2025-07-15T06:59:44.320Z</td></tr><tr><td>F0079</td><td>Delta</td><td>Jonesburgh</td><td>Andradeville</td><td>2025-06-17</td><td>2025-07-15T06:59:44.320Z</td></tr><tr><td>F0080</td><td>Emirates</td><td>Sonyaberg</td><td>East Sarah</td><td>2025-06-13</td><td>2025-07-15T06:59:44.320Z</td></tr><tr><td>F0081</td><td>Air Canada</td><td>North Barry</td><td>Josephborough</td><td>2025-04-24</td><td>2025-07-15T06:59:44.320Z</td></tr><tr><td>F0082</td><td>Qatar Airways</td><td>North Erikamouth</td><td>Danielfort</td><td>2025-05-19</td><td>2025-07-15T06:59:44.320Z</td></tr><tr><td>F0083</td><td>Lufthansa</td><td>Jasonborough</td><td>Port Audreyville</td><td>2025-05-30</td><td>2025-07-15T06:59:44.320Z</td></tr><tr><td>F0084</td><td>Delta</td><td>Franklinmouth</td><td>Lake Joseph</td><td>2025-05-30</td><td>2025-07-15T06:59:44.320Z</td></tr><tr><td>F0085</td><td>Lufthansa</td><td>Hillton</td><td>Castroborough</td><td>2025-05-19</td><td>2025-07-15T06:59:44.320Z</td></tr><tr><td>F0086</td><td>Delta</td><td>Port Chelsea</td><td>Robertchester</td><td>2025-05-08</td><td>2025-07-15T06:59:44.320Z</td></tr><tr><td>F0087</td><td>Emirates</td><td>Kellyland</td><td>New Jonathanmouth</td><td>2025-04-23</td><td>2025-07-15T06:59:44.320Z</td></tr><tr><td>F0088</td><td>Qatar Airways</td><td>North Miguel</td><td>Lake Allisonfurt</td><td>2025-05-28</td><td>2025-07-15T06:59:44.320Z</td></tr><tr><td>F0089</td><td>Qatar Airways</td><td>Robinsonberg</td><td>Adrianchester</td><td>2025-05-21</td><td>2025-07-15T06:59:44.320Z</td></tr><tr><td>F0090</td><td>Delta</td><td>East Rachelport</td><td>Davisport</td><td>2025-05-23</td><td>2025-07-15T06:59:44.320Z</td></tr><tr><td>F0091</td><td>Lufthansa</td><td>Lake Scott</td><td>Williamshire</td><td>2025-06-04</td><td>2025-07-15T06:59:44.320Z</td></tr><tr><td>F0092</td><td>Lufthansa</td><td>Austinborough</td><td>Bautistafort</td><td>2025-05-29</td><td>2025-07-15T06:59:44.320Z</td></tr><tr><td>F0093</td><td>Air Canada</td><td>Frenchside</td><td>West Christopher</td><td>2025-05-28</td><td>2025-07-15T06:59:44.320Z</td></tr><tr><td>F0094</td><td>Emirates</td><td>South Amyfurt</td><td>Jimenezview</td><td>2025-06-14</td><td>2025-07-15T06:59:44.320Z</td></tr><tr><td>F0095</td><td>Qatar Airways</td><td>North Dawnberg</td><td>East Sarahmouth</td><td>2025-05-26</td><td>2025-07-15T06:59:44.320Z</td></tr><tr><td>F0096</td><td>Lufthansa</td><td>Coreyfort</td><td>West Joseph</td><td>2025-06-06</td><td>2025-07-15T06:59:44.320Z</td></tr><tr><td>F0097</td><td>Emirates</td><td>Billyport</td><td>Brentton</td><td>2025-05-18</td><td>2025-07-15T06:59:44.320Z</td></tr><tr><td>F0098</td><td>Air Canada</td><td>Wallerburgh</td><td>Lake Karen</td><td>2025-05-01</td><td>2025-07-15T06:59:44.320Z</td></tr><tr><td>F0099</td><td>Air Canada</td><td>Lake Connor</td><td>Matthewberg</td><td>2025-04-28</td><td>2025-07-15T06:59:44.320Z</td></tr><tr><td>F0100</td><td>Qatar Airways</td><td>Port Anthony</td><td>Thompsonfort</td><td>2025-05-31</td><td>2025-07-15T06:59:44.320Z</td></tr><tr><td>F0101</td><td>Qatar Airways</td><td>Lake Joshuamouth</td><td>Johnshire</td><td>2025-07-14</td><td>2025-07-15T06:59:44.320Z</td></tr><tr><td>F0102</td><td>Delta</td><td>Schroederbury</td><td>Sethfort</td><td>2025-06-25</td><td>2025-07-15T06:59:44.320Z</td></tr><tr><td>F0103</td><td>Qatar Airways</td><td>Jameschester</td><td>Ashleyberg</td><td>2025-07-15</td><td>2025-07-15T06:59:44.320Z</td></tr><tr><td>F0104</td><td>Qatar Airways</td><td>Huangstad</td><td>Catherinehaven</td><td>2025-06-29</td><td>2025-07-15T06:59:44.320Z</td></tr><tr><td>F0105</td><td>Air Canada</td><td>Aprilton</td><td>Victorville</td><td>2025-07-05</td><td>2025-07-15T06:59:44.320Z</td></tr><tr><td>F0106</td><td>Lufthansa</td><td>East Austinmouth</td><td>New Toddburgh</td><td>2025-06-22</td><td>2025-07-15T06:59:44.320Z</td></tr><tr><td>F0107</td><td>Air Canada</td><td>Mitchelltown</td><td>Johnsonbury</td><td>2025-07-01</td><td>2025-07-15T06:59:44.320Z</td></tr><tr><td>F0108</td><td>Lufthansa</td><td>New Jennifer</td><td>Lake Tracie</td><td>2025-06-28</td><td>2025-07-15T06:59:44.320Z</td></tr><tr><td>F0109</td><td>Air Canada</td><td>Williamsland</td><td>South Carolberg</td><td>2025-06-14</td><td>2025-07-15T06:59:44.320Z</td></tr><tr><td>F0110</td><td>Emirates</td><td>Churchport</td><td>Wrightton</td><td>2025-07-15</td><td>2025-07-15T06:59:44.320Z</td></tr></tbody></table></div>"
      ]
     },
     "metadata": {
      "application/vnd.databricks.v1+output": {
       "addedWidgets": {},
       "aggData": [],
       "aggError": "",
       "aggOverflow": false,
       "aggSchema": [],
       "aggSeriesLimitReached": false,
       "aggType": "",
       "arguments": {},
       "columnCustomDisplayInfos": {},
       "data": [
        [
         "F0001",
         "Delta",
         "Kellyfort",
         "South Kathleen",
         "2025-05-04",
         "2025-07-15T06:59:44.320Z"
        ],
        [
         "F0002",
         "Qatar Airways",
         "Lake Stephen",
         "New Vincent",
         "2025-04-29",
         "2025-07-15T06:59:44.320Z"
        ],
        [
         "F0003",
         "Lufthansa",
         "East Patrickborough",
         "North Mary",
         "2025-05-11",
         "2025-07-15T06:59:44.320Z"
        ],
        [
         "F0004",
         "Delta",
         "Maddenshire",
         "Johnchester",
         "2025-05-16",
         "2025-07-15T06:59:44.320Z"
        ],
        [
         "F0005",
         "Qatar Airways",
         "Bennettside",
         "New Mistyhaven",
         "2025-06-13",
         "2025-07-15T06:59:44.320Z"
        ],
        [
         "F0006",
         "Air Canada",
         "New Richardside",
         "South Jamesborough",
         "2025-05-16",
         "2025-07-15T06:59:44.320Z"
        ],
        [
         "F0007",
         "Delta",
         "Berryport",
         "Miguelburgh",
         "2025-05-24",
         "2025-07-15T06:59:44.320Z"
        ],
        [
         "F0008",
         "Lufthansa",
         "Briannachester",
         "Cervantesland",
         "2025-05-26",
         "2025-07-15T06:59:44.320Z"
        ],
        [
         "F0009",
         "Delta",
         "Alexandraborough",
         "North Alexishaven",
         "2025-06-10",
         "2025-07-15T06:59:44.320Z"
        ],
        [
         "F0010",
         "Emirates",
         "Kruegerchester",
         "Martintown",
         "2025-05-20",
         "2025-07-15T06:59:44.320Z"
        ],
        [
         "F0011",
         "Lufthansa",
         "Port Joannahaven",
         "North Jasonton",
         "2025-05-30",
         "2025-07-15T06:59:44.320Z"
        ],
        [
         "F0012",
         "Air Canada",
         "New Hunter",
         "East Maria",
         "2025-04-23",
         "2025-07-15T06:59:44.320Z"
        ],
        [
         "F0013",
         "Air Canada",
         "East Brian",
         "Wayneton",
         "2025-05-21",
         "2025-07-15T06:59:44.320Z"
        ],
        [
         "F0014",
         "Air Canada",
         "Toddland",
         "Gonzalezport",
         "2025-05-28",
         "2025-07-15T06:59:44.320Z"
        ],
        [
         "F0015",
         "Delta",
         "West Ginaton",
         "Youngmouth",
         "2025-05-21",
         "2025-07-15T06:59:44.320Z"
        ],
        [
         "F0016",
         "Qatar Airways",
         "Smithborough",
         "Randallview",
         "2025-05-02",
         "2025-07-15T06:59:44.320Z"
        ],
        [
         "F0017",
         "Delta",
         "Wallermouth",
         "New Rogerberg",
         "2025-05-04",
         "2025-07-15T06:59:44.320Z"
        ],
        [
         "F0018",
         "Air Canada",
         "Schultzborough",
         "Danielton",
         "2025-06-01",
         "2025-07-15T06:59:44.320Z"
        ],
        [
         "F0019",
         "Lufthansa",
         "Lake Scott",
         "Christineborough",
         "2025-05-18",
         "2025-07-15T06:59:44.320Z"
        ],
        [
         "F0020",
         "Lufthansa",
         "North Jack",
         "Loweville",
         "2025-06-02",
         "2025-07-15T06:59:44.320Z"
        ],
        [
         "F0021",
         "Emirates",
         "South Sara",
         "North Annaport",
         "2025-05-29",
         "2025-07-15T06:59:44.320Z"
        ],
        [
         "F0022",
         "Air Canada",
         "Reedchester",
         "Cruzton",
         "2025-04-27",
         "2025-07-15T06:59:44.320Z"
        ],
        [
         "F0023",
         "Lufthansa",
         "Port Jeremyfurt",
         "Lake Walterside",
         "2025-05-11",
         "2025-07-15T06:59:44.320Z"
        ],
        [
         "F0024",
         "Lufthansa",
         "Leestad",
         "Port Debra",
         "2025-05-09",
         "2025-07-15T06:59:44.320Z"
        ],
        [
         "F0025",
         "Qatar Airways",
         "Chelseaberg",
         "North Michaelshire",
         "2025-06-01",
         "2025-07-15T06:59:44.320Z"
        ],
        [
         "F0026",
         "Air Canada",
         "New Deborahfort",
         "New Sabrina",
         "2025-05-10",
         "2025-07-15T06:59:44.320Z"
        ],
        [
         "F0027",
         "Delta",
         "Acevedoville",
         "Ericchester",
         "2025-05-14",
         "2025-07-15T06:59:44.320Z"
        ],
        [
         "F0028",
         "Delta",
         "South Michaelberg",
         "South Markbury",
         "2025-05-30",
         "2025-07-15T06:59:44.320Z"
        ],
        [
         "F0029",
         "Qatar Airways",
         "Shortberg",
         "Julieburgh",
         "2025-05-11",
         "2025-07-15T06:59:44.320Z"
        ],
        [
         "F0030",
         "Delta",
         "Angelamouth",
         "Sosaside",
         "2025-06-16",
         "2025-07-15T06:59:44.320Z"
        ],
        [
         "F0031",
         "Emirates",
         "Billview",
         "Jonathonborough",
         "2025-06-14",
         "2025-07-15T06:59:44.320Z"
        ],
        [
         "F0032",
         "Emirates",
         "Bushhaven",
         "Patriciamouth",
         "2025-05-22",
         "2025-07-15T06:59:44.320Z"
        ],
        [
         "F0033",
         "Air Canada",
         "Sandersshire",
         "Lake Joseside",
         "2025-06-21",
         "2025-07-15T06:59:44.320Z"
        ],
        [
         "F0034",
         "Emirates",
         "Johnsonville",
         "Cooperland",
         "2025-05-18",
         "2025-07-15T06:59:44.320Z"
        ],
        [
         "F0035",
         "Lufthansa",
         "Karenshire",
         "North Anthonymouth",
         "2025-05-21",
         "2025-07-15T06:59:44.320Z"
        ],
        [
         "F0036",
         "Lufthansa",
         "Armstrongbury",
         "North Natashamouth",
         "2025-05-05",
         "2025-07-15T06:59:44.320Z"
        ],
        [
         "F0037",
         "Air Canada",
         "Yangville",
         "Jacksonview",
         "2025-04-29",
         "2025-07-15T06:59:44.320Z"
        ],
        [
         "F0038",
         "Delta",
         "Port Nicole",
         "South Corey",
         "2025-05-22",
         "2025-07-15T06:59:44.320Z"
        ],
        [
         "F0039",
         "Air Canada",
         "Paultown",
         "Kellyton",
         "2025-05-19",
         "2025-07-15T06:59:44.320Z"
        ],
        [
         "F0040",
         "Delta",
         "Ianport",
         "Lake Reginaldside",
         "2025-04-23",
         "2025-07-15T06:59:44.320Z"
        ],
        [
         "F0041",
         "Air Canada",
         "Lake Stanleyside",
         "Port Scott",
         "2025-06-14",
         "2025-07-15T06:59:44.320Z"
        ],
        [
         "F0042",
         "Air Canada",
         "Port William",
         "Darrenmouth",
         "2025-05-11",
         "2025-07-15T06:59:44.320Z"
        ],
        [
         "F0043",
         "Lufthansa",
         "Kimberlyborough",
         "New Annfort",
         "2025-05-15",
         "2025-07-15T06:59:44.320Z"
        ],
        [
         "F0044",
         "Qatar Airways",
         "East Kaylaburgh",
         "Lake Carolynchester",
         "2025-06-01",
         "2025-07-15T06:59:44.320Z"
        ],
        [
         "F0045",
         "Emirates",
         "North Michaelville",
         "Russellton",
         "2025-05-04",
         "2025-07-15T06:59:44.320Z"
        ],
        [
         "F0046",
         "Qatar Airways",
         "West David",
         "North Becky",
         "2025-04-30",
         "2025-07-15T06:59:44.320Z"
        ],
        [
         "F0047",
         "Lufthansa",
         "New Cory",
         "Lorettashire",
         "2025-05-05",
         "2025-07-15T06:59:44.320Z"
        ],
        [
         "F0048",
         "Lufthansa",
         "Cooperview",
         "Michelleburgh",
         "2025-05-24",
         "2025-07-15T06:59:44.320Z"
        ],
        [
         "F0049",
         "Emirates",
         "New Elizabethmouth",
         "Lake Heathermouth",
         "2025-05-06",
         "2025-07-15T06:59:44.320Z"
        ],
        [
         "F0050",
         "Air Canada",
         "East Gailtown",
         "Stevenville",
         "2025-04-28",
         "2025-07-15T06:59:44.320Z"
        ],
        [
         "F0051",
         "Qatar Airways",
         "Lisafurt",
         "New Robert",
         "2025-05-07",
         "2025-07-15T06:59:44.320Z"
        ],
        [
         "F0052",
         "Qatar Airways",
         "Lake Richard",
         "Brookston",
         "2025-05-28",
         "2025-07-15T06:59:44.320Z"
        ],
        [
         "F0053",
         "Qatar Airways",
         "West Dylanbury",
         "North Wendy",
         "2025-05-24",
         "2025-07-15T06:59:44.320Z"
        ],
        [
         "F0054",
         "Air Canada",
         "Seanmouth",
         "North Kathyton",
         "2025-05-09",
         "2025-07-15T06:59:44.320Z"
        ],
        [
         "F0055",
         "Air Canada",
         "Spencerborough",
         "Randyville",
         "2025-06-09",
         "2025-07-15T06:59:44.320Z"
        ],
        [
         "F0056",
         "Lufthansa",
         "South Natalie",
         "Schaefertown",
         "2025-05-03",
         "2025-07-15T06:59:44.320Z"
        ],
        [
         "F0057",
         "Air Canada",
         "Samanthashire",
         "Fisherstad",
         "2025-06-09",
         "2025-07-15T06:59:44.320Z"
        ],
        [
         "F0058",
         "Delta",
         "North Brittanyborough",
         "West Kellystad",
         "2025-06-10",
         "2025-07-15T06:59:44.320Z"
        ],
        [
         "F0059",
         "Lufthansa",
         "South Jeffrey",
         "Jamesland",
         "2025-05-10",
         "2025-07-15T06:59:44.320Z"
        ],
        [
         "F0060",
         "Air Canada",
         "Port Angelicaborough",
         "East Daniel",
         "2025-05-21",
         "2025-07-15T06:59:44.320Z"
        ],
        [
         "F0061",
         "Lufthansa",
         "Dawnshire",
         "Stevenmouth",
         "2025-04-24",
         "2025-07-15T06:59:44.320Z"
        ],
        [
         "F0062",
         "Lufthansa",
         "East Samanthafurt",
         "Lake Troy",
         "2025-05-12",
         "2025-07-15T06:59:44.320Z"
        ],
        [
         "F0063",
         "Lufthansa",
         "Floresshire",
         "New Anita",
         "2025-06-03",
         "2025-07-15T06:59:44.320Z"
        ],
        [
         "F0064",
         "Delta",
         "East Joshuastad",
         "North Austinland",
         "2025-05-25",
         "2025-07-15T06:59:44.320Z"
        ],
        [
         "F0065",
         "Emirates",
         "East Paulland",
         "Barnesberg",
         "2025-04-29",
         "2025-07-15T06:59:44.320Z"
        ],
        [
         "F0066",
         "Qatar Airways",
         "Stephenberg",
         "Marcborough",
         "2025-06-04",
         "2025-07-15T06:59:44.320Z"
        ],
        [
         "F0067",
         "Delta",
         "Campbellborough",
         "South Jason",
         "2025-05-13",
         "2025-07-15T06:59:44.320Z"
        ],
        [
         "F0068",
         "Qatar Airways",
         "Lake Seanport",
         "Fieldsstad",
         "2025-06-17",
         "2025-07-15T06:59:44.320Z"
        ],
        [
         "F0069",
         "Qatar Airways",
         "Johnsonburgh",
         "Woodmouth",
         "2025-06-14",
         "2025-07-15T06:59:44.320Z"
        ],
        [
         "F0070",
         "Air Canada",
         "Glennhaven",
         "Port Darrenchester",
         "2025-05-04",
         "2025-07-15T06:59:44.320Z"
        ],
        [
         "F0071",
         "Delta",
         "Jefferyberg",
         "Wendyshire",
         "2025-06-17",
         "2025-07-15T06:59:44.320Z"
        ],
        [
         "F0072",
         "Emirates",
         "Heiditown",
         "Port Sabrinaburgh",
         "2025-05-22",
         "2025-07-15T06:59:44.320Z"
        ],
        [
         "F0073",
         "Lufthansa",
         "South Jasonville",
         "Clarkeshire",
         "2025-06-09",
         "2025-07-15T06:59:44.320Z"
        ],
        [
         "F0074",
         "Air Canada",
         "Duffyville",
         "Port Vanessa",
         "2025-05-28",
         "2025-07-15T06:59:44.320Z"
        ],
        [
         "F0075",
         "Qatar Airways",
         "New Danielhaven",
         "Cunninghamfurt",
         "2025-04-27",
         "2025-07-15T06:59:44.320Z"
        ],
        [
         "F0076",
         "Lufthansa",
         "Johnsonchester",
         "New Michael",
         "2025-05-14",
         "2025-07-15T06:59:44.320Z"
        ],
        [
         "F0077",
         "Qatar Airways",
         "Samuelfort",
         "Port Ashley",
         "2025-06-12",
         "2025-07-15T06:59:44.320Z"
        ],
        [
         "F0078",
         "Qatar Airways",
         "Howardbury",
         "Burchburgh",
         "2025-05-09",
         "2025-07-15T06:59:44.320Z"
        ],
        [
         "F0079",
         "Delta",
         "Jonesburgh",
         "Andradeville",
         "2025-06-17",
         "2025-07-15T06:59:44.320Z"
        ],
        [
         "F0080",
         "Emirates",
         "Sonyaberg",
         "East Sarah",
         "2025-06-13",
         "2025-07-15T06:59:44.320Z"
        ],
        [
         "F0081",
         "Air Canada",
         "North Barry",
         "Josephborough",
         "2025-04-24",
         "2025-07-15T06:59:44.320Z"
        ],
        [
         "F0082",
         "Qatar Airways",
         "North Erikamouth",
         "Danielfort",
         "2025-05-19",
         "2025-07-15T06:59:44.320Z"
        ],
        [
         "F0083",
         "Lufthansa",
         "Jasonborough",
         "Port Audreyville",
         "2025-05-30",
         "2025-07-15T06:59:44.320Z"
        ],
        [
         "F0084",
         "Delta",
         "Franklinmouth",
         "Lake Joseph",
         "2025-05-30",
         "2025-07-15T06:59:44.320Z"
        ],
        [
         "F0085",
         "Lufthansa",
         "Hillton",
         "Castroborough",
         "2025-05-19",
         "2025-07-15T06:59:44.320Z"
        ],
        [
         "F0086",
         "Delta",
         "Port Chelsea",
         "Robertchester",
         "2025-05-08",
         "2025-07-15T06:59:44.320Z"
        ],
        [
         "F0087",
         "Emirates",
         "Kellyland",
         "New Jonathanmouth",
         "2025-04-23",
         "2025-07-15T06:59:44.320Z"
        ],
        [
         "F0088",
         "Qatar Airways",
         "North Miguel",
         "Lake Allisonfurt",
         "2025-05-28",
         "2025-07-15T06:59:44.320Z"
        ],
        [
         "F0089",
         "Qatar Airways",
         "Robinsonberg",
         "Adrianchester",
         "2025-05-21",
         "2025-07-15T06:59:44.320Z"
        ],
        [
         "F0090",
         "Delta",
         "East Rachelport",
         "Davisport",
         "2025-05-23",
         "2025-07-15T06:59:44.320Z"
        ],
        [
         "F0091",
         "Lufthansa",
         "Lake Scott",
         "Williamshire",
         "2025-06-04",
         "2025-07-15T06:59:44.320Z"
        ],
        [
         "F0092",
         "Lufthansa",
         "Austinborough",
         "Bautistafort",
         "2025-05-29",
         "2025-07-15T06:59:44.320Z"
        ],
        [
         "F0093",
         "Air Canada",
         "Frenchside",
         "West Christopher",
         "2025-05-28",
         "2025-07-15T06:59:44.320Z"
        ],
        [
         "F0094",
         "Emirates",
         "South Amyfurt",
         "Jimenezview",
         "2025-06-14",
         "2025-07-15T06:59:44.320Z"
        ],
        [
         "F0095",
         "Qatar Airways",
         "North Dawnberg",
         "East Sarahmouth",
         "2025-05-26",
         "2025-07-15T06:59:44.320Z"
        ],
        [
         "F0096",
         "Lufthansa",
         "Coreyfort",
         "West Joseph",
         "2025-06-06",
         "2025-07-15T06:59:44.320Z"
        ],
        [
         "F0097",
         "Emirates",
         "Billyport",
         "Brentton",
         "2025-05-18",
         "2025-07-15T06:59:44.320Z"
        ],
        [
         "F0098",
         "Air Canada",
         "Wallerburgh",
         "Lake Karen",
         "2025-05-01",
         "2025-07-15T06:59:44.320Z"
        ],
        [
         "F0099",
         "Air Canada",
         "Lake Connor",
         "Matthewberg",
         "2025-04-28",
         "2025-07-15T06:59:44.320Z"
        ],
        [
         "F0100",
         "Qatar Airways",
         "Port Anthony",
         "Thompsonfort",
         "2025-05-31",
         "2025-07-15T06:59:44.320Z"
        ],
        [
         "F0101",
         "Qatar Airways",
         "Lake Joshuamouth",
         "Johnshire",
         "2025-07-14",
         "2025-07-15T06:59:44.320Z"
        ],
        [
         "F0102",
         "Delta",
         "Schroederbury",
         "Sethfort",
         "2025-06-25",
         "2025-07-15T06:59:44.320Z"
        ],
        [
         "F0103",
         "Qatar Airways",
         "Jameschester",
         "Ashleyberg",
         "2025-07-15",
         "2025-07-15T06:59:44.320Z"
        ],
        [
         "F0104",
         "Qatar Airways",
         "Huangstad",
         "Catherinehaven",
         "2025-06-29",
         "2025-07-15T06:59:44.320Z"
        ],
        [
         "F0105",
         "Air Canada",
         "Aprilton",
         "Victorville",
         "2025-07-05",
         "2025-07-15T06:59:44.320Z"
        ],
        [
         "F0106",
         "Lufthansa",
         "East Austinmouth",
         "New Toddburgh",
         "2025-06-22",
         "2025-07-15T06:59:44.320Z"
        ],
        [
         "F0107",
         "Air Canada",
         "Mitchelltown",
         "Johnsonbury",
         "2025-07-01",
         "2025-07-15T06:59:44.320Z"
        ],
        [
         "F0108",
         "Lufthansa",
         "New Jennifer",
         "Lake Tracie",
         "2025-06-28",
         "2025-07-15T06:59:44.320Z"
        ],
        [
         "F0109",
         "Air Canada",
         "Williamsland",
         "South Carolberg",
         "2025-06-14",
         "2025-07-15T06:59:44.320Z"
        ],
        [
         "F0110",
         "Emirates",
         "Churchport",
         "Wrightton",
         "2025-07-15",
         "2025-07-15T06:59:44.320Z"
        ]
       ],
       "datasetInfos": [],
       "dbfsResultPath": null,
       "isJsonSchema": true,
       "metadata": {},
       "overflow": false,
       "plotOptions": {
        "customPlotOptions": {},
        "displayType": "table",
        "pivotAggregation": null,
        "pivotColumns": null,
        "xColumns": null,
        "yColumns": null
       },
       "removedWidgets": [],
       "schema": [
        {
         "metadata": "{}",
         "name": "flight_id",
         "type": "\"string\""
        },
        {
         "metadata": "{}",
         "name": "airline",
         "type": "\"string\""
        },
        {
         "metadata": "{}",
         "name": "origin",
         "type": "\"string\""
        },
        {
         "metadata": "{}",
         "name": "destination",
         "type": "\"string\""
        },
        {
         "metadata": "{}",
         "name": "flight_date",
         "type": "\"date\""
        },
        {
         "metadata": "{}",
         "name": "modifiedDate",
         "type": "\"timestamp\""
        }
       ],
       "type": "table"
      }
     },
     "output_type": "display_data"
    }
   ],
   "source": [
    "df = spark.read.format(\"delta\").load(\"/Volumes/workspace/bronze/bronzevolume/flights/data\")\n",
    "df = df.withColumn(\"flight_date\",to_date(col(\"flight_date\")))\\\n",
    "        .drop(\"_rescued_data\")\\\n",
    "        .withColumn(\"modifiedDate\", current_timestamp())\n",
    "\n",
    "display(df)"
   ]
  },
  {
   "cell_type": "code",
   "execution_count": 0,
   "metadata": {
    "application/vnd.databricks.v1+cell": {
     "cellMetadata": {
      "byteLimit": 2048000,
      "rowLimit": 10000
     },
     "inputWidgets": {},
     "nuid": "66a15bcf-f76d-42ca-a02d-10296602b9d6",
     "showTitle": false,
     "tableResultSettingsMap": {},
     "title": ""
    }
   },
   "outputs": [
    {
     "output_type": "display_data",
     "data": {
      "text/html": [
       "\n",
       "    <html>\n",
       "      <div style=\"font-size:18px\">\n",
       "        The Delta Live Tables (DLT) module is not supported on this cluster.\n",
       "        You should either <a href=\"?o=3605014764066638#joblist/pipelines/create?initialSource=%2FFlights+Data+Warehouse%2FSilverNotebook&redirectNotebookId=2666300611480475\">create a new pipeline</a> or use an existing pipeline to run DLT code.\n",
       "      </div>\n",
       "    </html>\n",
       "    "
      ]
     },
     "metadata": {},
     "output_type": "display_data"
    },
    {
     "output_type": "display_data",
     "data": {
      "text/html": [
       "\n",
       "    <html>\n",
       "      <div style=\"font-size:18px\">\n",
       "        The Delta Live Tables (DLT) module is not supported on this cluster.\n",
       "        You should either <a href=\"?o=3605014764066638#joblist/pipelines/create?initialSource=%2FFlights+Data+Warehouse%2FSilverNotebook&redirectNotebookId=2666300611480475\">create a new pipeline</a> or use an existing pipeline to run DLT code.\n",
       "      </div>\n",
       "    </html>\n",
       "    "
      ]
     },
     "metadata": {},
     "output_type": "display_data"
    },
    {
     "output_type": "display_data",
     "data": {
      "text/plain": [
       "\u001B[0;31m---------------------------------------------------------------------------\u001B[0m\n",
       "\u001B[0;31mModuleNotFoundError\u001B[0m                       Traceback (most recent call last)\n",
       "File \u001B[0;32m<command-8488651080293376>, line 1\u001B[0m\n",
       "\u001B[0;32m----> 1\u001B[0m \u001B[38;5;28;01mimport\u001B[39;00m \u001B[38;5;21;01mdlt\u001B[39;00m\n",
       "\n",
       "File \u001B[0;32m/databricks/python_shell/lib/dbruntime/autoreload/discoverability/hook.py:71\u001B[0m, in \u001B[0;36mAutoreloadDiscoverabilityHook._patched_import\u001B[0;34m(self, name, *args, **kwargs)\u001B[0m\n",
       "\u001B[1;32m     65\u001B[0m \u001B[38;5;28;01mif\u001B[39;00m \u001B[38;5;129;01mnot\u001B[39;00m \u001B[38;5;28mself\u001B[39m\u001B[38;5;241m.\u001B[39m_should_hint \u001B[38;5;129;01mand\u001B[39;00m (\n",
       "\u001B[1;32m     66\u001B[0m     (module \u001B[38;5;241m:=\u001B[39m sys\u001B[38;5;241m.\u001B[39mmodules\u001B[38;5;241m.\u001B[39mget(absolute_name)) \u001B[38;5;129;01mis\u001B[39;00m \u001B[38;5;129;01mnot\u001B[39;00m \u001B[38;5;28;01mNone\u001B[39;00m \u001B[38;5;129;01mand\u001B[39;00m\n",
       "\u001B[1;32m     67\u001B[0m     (fname \u001B[38;5;241m:=\u001B[39m get_allowed_file_name_or_none(module)) \u001B[38;5;129;01mis\u001B[39;00m \u001B[38;5;129;01mnot\u001B[39;00m \u001B[38;5;28;01mNone\u001B[39;00m \u001B[38;5;129;01mand\u001B[39;00m\n",
       "\u001B[1;32m     68\u001B[0m     (mtime \u001B[38;5;241m:=\u001B[39m os\u001B[38;5;241m.\u001B[39mstat(fname)\u001B[38;5;241m.\u001B[39mst_mtime) \u001B[38;5;241m>\u001B[39m \u001B[38;5;28mself\u001B[39m\u001B[38;5;241m.\u001B[39mlast_mtime_by_modname\u001B[38;5;241m.\u001B[39mget(\n",
       "\u001B[1;32m     69\u001B[0m         absolute_name, \u001B[38;5;28mfloat\u001B[39m(\u001B[38;5;124m\"\u001B[39m\u001B[38;5;124minf\u001B[39m\u001B[38;5;124m\"\u001B[39m)) \u001B[38;5;129;01mand\u001B[39;00m \u001B[38;5;129;01mnot\u001B[39;00m \u001B[38;5;28mself\u001B[39m\u001B[38;5;241m.\u001B[39m_should_hint):\n",
       "\u001B[1;32m     70\u001B[0m     \u001B[38;5;28mself\u001B[39m\u001B[38;5;241m.\u001B[39m_should_hint \u001B[38;5;241m=\u001B[39m \u001B[38;5;28;01mTrue\u001B[39;00m\n",
       "\u001B[0;32m---> 71\u001B[0m module \u001B[38;5;241m=\u001B[39m \u001B[38;5;28mself\u001B[39m\u001B[38;5;241m.\u001B[39m_original_builtins_import(name, \u001B[38;5;241m*\u001B[39margs, \u001B[38;5;241m*\u001B[39m\u001B[38;5;241m*\u001B[39mkwargs)\n",
       "\u001B[1;32m     72\u001B[0m \u001B[38;5;28;01mif\u001B[39;00m (fname \u001B[38;5;241m:=\u001B[39m fname \u001B[38;5;129;01mor\u001B[39;00m get_allowed_file_name_or_none(module)) \u001B[38;5;129;01mis\u001B[39;00m \u001B[38;5;129;01mnot\u001B[39;00m \u001B[38;5;28;01mNone\u001B[39;00m:\n",
       "\u001B[1;32m     73\u001B[0m     mtime \u001B[38;5;241m=\u001B[39m mtime \u001B[38;5;129;01mor\u001B[39;00m os\u001B[38;5;241m.\u001B[39mstat(fname)\u001B[38;5;241m.\u001B[39mst_mtime\n",
       "\n",
       "\u001B[0;31mModuleNotFoundError\u001B[0m: No module named 'dlt'"
      ]
     },
     "metadata": {
      "application/vnd.databricks.v1+output": {
       "addedWidgets": {},
       "arguments": {},
       "datasetInfos": [],
       "jupyterProps": {
        "ename": "ModuleNotFoundError",
        "evalue": "No module named 'dlt'"
       },
       "metadata": {
        "errorSummary": "<span class='ansi-red-fg'>ModuleNotFoundError</span>: No module named 'dlt'"
       },
       "removedWidgets": [],
       "sqlProps": null,
       "stackFrames": [
        "\u001B[0;31m---------------------------------------------------------------------------\u001B[0m",
        "\u001B[0;31mModuleNotFoundError\u001B[0m                       Traceback (most recent call last)",
        "File \u001B[0;32m<command-8488651080293376>, line 1\u001B[0m\n\u001B[0;32m----> 1\u001B[0m \u001B[38;5;28;01mimport\u001B[39;00m \u001B[38;5;21;01mdlt\u001B[39;00m\n",
        "File \u001B[0;32m/databricks/python_shell/lib/dbruntime/autoreload/discoverability/hook.py:71\u001B[0m, in \u001B[0;36mAutoreloadDiscoverabilityHook._patched_import\u001B[0;34m(self, name, *args, **kwargs)\u001B[0m\n\u001B[1;32m     65\u001B[0m \u001B[38;5;28;01mif\u001B[39;00m \u001B[38;5;129;01mnot\u001B[39;00m \u001B[38;5;28mself\u001B[39m\u001B[38;5;241m.\u001B[39m_should_hint \u001B[38;5;129;01mand\u001B[39;00m (\n\u001B[1;32m     66\u001B[0m     (module \u001B[38;5;241m:=\u001B[39m sys\u001B[38;5;241m.\u001B[39mmodules\u001B[38;5;241m.\u001B[39mget(absolute_name)) \u001B[38;5;129;01mis\u001B[39;00m \u001B[38;5;129;01mnot\u001B[39;00m \u001B[38;5;28;01mNone\u001B[39;00m \u001B[38;5;129;01mand\u001B[39;00m\n\u001B[1;32m     67\u001B[0m     (fname \u001B[38;5;241m:=\u001B[39m get_allowed_file_name_or_none(module)) \u001B[38;5;129;01mis\u001B[39;00m \u001B[38;5;129;01mnot\u001B[39;00m \u001B[38;5;28;01mNone\u001B[39;00m \u001B[38;5;129;01mand\u001B[39;00m\n\u001B[1;32m     68\u001B[0m     (mtime \u001B[38;5;241m:=\u001B[39m os\u001B[38;5;241m.\u001B[39mstat(fname)\u001B[38;5;241m.\u001B[39mst_mtime) \u001B[38;5;241m>\u001B[39m \u001B[38;5;28mself\u001B[39m\u001B[38;5;241m.\u001B[39mlast_mtime_by_modname\u001B[38;5;241m.\u001B[39mget(\n\u001B[1;32m     69\u001B[0m         absolute_name, \u001B[38;5;28mfloat\u001B[39m(\u001B[38;5;124m\"\u001B[39m\u001B[38;5;124minf\u001B[39m\u001B[38;5;124m\"\u001B[39m)) \u001B[38;5;129;01mand\u001B[39;00m \u001B[38;5;129;01mnot\u001B[39;00m \u001B[38;5;28mself\u001B[39m\u001B[38;5;241m.\u001B[39m_should_hint):\n\u001B[1;32m     70\u001B[0m     \u001B[38;5;28mself\u001B[39m\u001B[38;5;241m.\u001B[39m_should_hint \u001B[38;5;241m=\u001B[39m \u001B[38;5;28;01mTrue\u001B[39;00m\n\u001B[0;32m---> 71\u001B[0m module \u001B[38;5;241m=\u001B[39m \u001B[38;5;28mself\u001B[39m\u001B[38;5;241m.\u001B[39m_original_builtins_import(name, \u001B[38;5;241m*\u001B[39margs, \u001B[38;5;241m*\u001B[39m\u001B[38;5;241m*\u001B[39mkwargs)\n\u001B[1;32m     72\u001B[0m \u001B[38;5;28;01mif\u001B[39;00m (fname \u001B[38;5;241m:=\u001B[39m fname \u001B[38;5;129;01mor\u001B[39;00m get_allowed_file_name_or_none(module)) \u001B[38;5;129;01mis\u001B[39;00m \u001B[38;5;129;01mnot\u001B[39;00m \u001B[38;5;28;01mNone\u001B[39;00m:\n\u001B[1;32m     73\u001B[0m     mtime \u001B[38;5;241m=\u001B[39m mtime \u001B[38;5;129;01mor\u001B[39;00m os\u001B[38;5;241m.\u001B[39mstat(fname)\u001B[38;5;241m.\u001B[39mst_mtime\n",
        "\u001B[0;31mModuleNotFoundError\u001B[0m: No module named 'dlt'"
       ],
       "type": "baseError"
      }
     },
     "output_type": "display_data"
    }
   ],
   "source": [
    "import dlt\n",
    "from pyspark.sql.functions import *\n",
    "from pyspark.sql.types import *"
   ]
  },
  {
   "cell_type": "code",
   "execution_count": 0,
   "metadata": {
    "application/vnd.databricks.v1+cell": {
     "cellMetadata": {
      "byteLimit": 2048000,
      "rowLimit": 10000
     },
     "inputWidgets": {},
     "nuid": "2f5d0bcd-b215-4bcf-816d-2876a9f0e960",
     "showTitle": false,
     "tableResultSettingsMap": {},
     "title": ""
    }
   },
   "outputs": [
    {
     "output_type": "display_data",
     "data": {
      "text/plain": [
       "\u001B[0;31m---------------------------------------------------------------------------\u001B[0m\n",
       "\u001B[0;31mNameError\u001B[0m                                 Traceback (most recent call last)\n",
       "File \u001B[0;32m<command-8488651080293377>, line 1\u001B[0m\n",
       "\u001B[0;32m----> 1\u001B[0m \u001B[38;5;129m@dlt\u001B[39m\u001B[38;5;241m.\u001B[39mtable(\n",
       "\u001B[1;32m      2\u001B[0m     name \u001B[38;5;241m=\u001B[39m \u001B[38;5;124m\"\u001B[39m\u001B[38;5;124mstage_bookings\u001B[39m\u001B[38;5;124m\"\u001B[39m\n",
       "\u001B[1;32m      3\u001B[0m )\n",
       "\u001B[1;32m      4\u001B[0m \u001B[38;5;28;01mdef\u001B[39;00m \u001B[38;5;21mstage_bookings\u001B[39m():\n",
       "\u001B[1;32m      5\u001B[0m     df \u001B[38;5;241m=\u001B[39m spark\u001B[38;5;241m.\u001B[39mread\u001B[38;5;241m.\u001B[39mformat(\u001B[38;5;124m\"\u001B[39m\u001B[38;5;124mdelta\u001B[39m\u001B[38;5;124m\"\u001B[39m)\\\n",
       "\u001B[1;32m      6\u001B[0m           \u001B[38;5;241m.\u001B[39mload(\u001B[38;5;124m\"\u001B[39m\u001B[38;5;124m/Volumes/workspace/bronze/bronzevolume/bookings/data\u001B[39m\u001B[38;5;124m\"\u001B[39m)\n",
       "\n",
       "\u001B[0;31mNameError\u001B[0m: name 'dlt' is not defined"
      ]
     },
     "metadata": {
      "application/vnd.databricks.v1+output": {
       "addedWidgets": {},
       "arguments": {},
       "datasetInfos": [],
       "jupyterProps": {
        "ename": "NameError",
        "evalue": "name 'dlt' is not defined"
       },
       "metadata": {
        "errorSummary": "<span class='ansi-red-fg'>NameError</span>: name 'dlt' is not defined"
       },
       "removedWidgets": [],
       "sqlProps": null,
       "stackFrames": [
        "\u001B[0;31m---------------------------------------------------------------------------\u001B[0m",
        "\u001B[0;31mNameError\u001B[0m                                 Traceback (most recent call last)",
        "File \u001B[0;32m<command-8488651080293377>, line 1\u001B[0m\n\u001B[0;32m----> 1\u001B[0m \u001B[38;5;129m@dlt\u001B[39m\u001B[38;5;241m.\u001B[39mtable(\n\u001B[1;32m      2\u001B[0m     name \u001B[38;5;241m=\u001B[39m \u001B[38;5;124m\"\u001B[39m\u001B[38;5;124mstage_bookings\u001B[39m\u001B[38;5;124m\"\u001B[39m\n\u001B[1;32m      3\u001B[0m )\n\u001B[1;32m      4\u001B[0m \u001B[38;5;28;01mdef\u001B[39;00m \u001B[38;5;21mstage_bookings\u001B[39m():\n\u001B[1;32m      5\u001B[0m     df \u001B[38;5;241m=\u001B[39m spark\u001B[38;5;241m.\u001B[39mread\u001B[38;5;241m.\u001B[39mformat(\u001B[38;5;124m\"\u001B[39m\u001B[38;5;124mdelta\u001B[39m\u001B[38;5;124m\"\u001B[39m)\\\n\u001B[1;32m      6\u001B[0m           \u001B[38;5;241m.\u001B[39mload(\u001B[38;5;124m\"\u001B[39m\u001B[38;5;124m/Volumes/workspace/bronze/bronzevolume/bookings/data\u001B[39m\u001B[38;5;124m\"\u001B[39m)\n",
        "\u001B[0;31mNameError\u001B[0m: name 'dlt' is not defined"
       ],
       "type": "baseError"
      }
     },
     "output_type": "display_data"
    }
   ],
   "source": [
    "@dlt.table(\n",
    "    name = \"stage_bookings\"\n",
    ")\n",
    "def stage_bookings():\n",
    "    df = spark.read.format(\"delta\")\\\n",
    "          .load(\"/Volumes/workspace/bronze/bronzevolume/bookings/data\")\n",
    "\n",
    "    return df"
   ]
  },
  {
   "cell_type": "code",
   "execution_count": 0,
   "metadata": {
    "application/vnd.databricks.v1+cell": {
     "cellMetadata": {},
     "inputWidgets": {},
     "nuid": "27567bf0-0ef2-47d1-9672-3f5e8fe834b3",
     "showTitle": false,
     "tableResultSettingsMap": {},
     "title": ""
    }
   },
   "outputs": [],
   "source": [
    "@dlt.view(\n",
    "    name = \"trans_bookings\"\n",
    ")\n",
    "def trans_bookings():\n",
    "    df = spark.readStream.table(\"stage_bookings\")\n",
    "    df = df.withColumn(\"amount\",col(\"amount\").cast(DoubleType()))\\\n",
    "            .withColumn(\"modifiedDat\",current_timestamp())\\\n",
    "            .withColumn(\"booking_date\",to_date(col(\"booking_date\")))\\\n",
    "            .drop(\"_rescued_data\")\n",
    "    return df"
   ]
  },
  {
   "cell_type": "code",
   "execution_count": 0,
   "metadata": {
    "application/vnd.databricks.v1+cell": {
     "cellMetadata": {},
     "inputWidgets": {},
     "nuid": "25a7471e-055e-49fa-a2b2-045e03d64dd2",
     "showTitle": false,
     "tableResultSettingsMap": {},
     "title": ""
    }
   },
   "outputs": [],
   "source": [
    "rules = {\n",
    "    \"rule1\" : \"booking_id IS NOT NULL\",\n",
    "    \"rule2\" : \"passenger_id IS NOT NULL\"\"\n",
    "}"
   ]
  },
  {
   "cell_type": "code",
   "execution_count": 0,
   "metadata": {
    "application/vnd.databricks.v1+cell": {
     "cellMetadata": {},
     "inputWidgets": {},
     "nuid": "63782aa2-7d0e-4134-942d-9310327a1ba1",
     "showTitle": false,
     "tableResultSettingsMap": {},
     "title": ""
    }
   },
   "outputs": [],
   "source": [
    "@dlt.table(\n",
    "    name = \"silver_bookings\"\n",
    ")\n",
    "@dlt.expect_all_or_drop(rules)\n",
    "def silver_bookings():\n",
    "    df = spark.readStream.table(\"trans_bookings\")\n",
    "    return df"
   ]
  },
  {
   "cell_type": "markdown",
   "metadata": {
    "application/vnd.databricks.v1+cell": {
     "cellMetadata": {},
     "inputWidgets": {},
     "nuid": "0d48574a-69e7-45f4-9469-5e10ee59b3cd",
     "showTitle": false,
     "tableResultSettingsMap": {},
     "title": ""
    }
   },
   "source": []
  }
 ],
 "metadata": {
  "application/vnd.databricks.v1+notebook": {
   "computePreferences": null,
   "dashboards": [],
   "environmentMetadata": {
    "base_environment": "",
    "environment_version": "2"
   },
   "inputWidgetPreferences": null,
   "language": "python",
   "notebookMetadata": {
    "mostRecentlyExecutedCommandWithImplicitDF": {
     "commandId": 8847037720357773,
     "dataframes": [
      "_sqldf"
     ]
    },
    "pythonIndentUnit": 4
   },
   "notebookName": "SilverNotebook",
   "widgets": {}
  },
  "language_info": {
   "name": "python"
  }
 },
 "nbformat": 4,
 "nbformat_minor": 0
}